{
 "cells": [
  {
   "cell_type": "markdown",
   "metadata": {},
   "source": [
    "# Time Series Analysis \n",
    "\n",
    "## Author - Catalina Ifrim\n",
    "\n"
   ]
  },
  {
   "cell_type": "code",
   "execution_count": null,
   "metadata": {},
   "outputs": [],
   "source": [
    "\"\"\"\n",
    "UW DATASCI410-Methods for Data Analysis\n",
    "L08-IntroToTimeSeries\n",
    "\n",
    "\"\"\""
   ]
  },
  {
   "cell_type": "markdown",
   "metadata": {},
   "source": [
    "## Instructions\n",
    "\n",
    "Using the California dairy production dataset, perform **time series analysis** on the data for one of Cottage Cheese Production, Milk Production, or Ice Cream Production (your choice) to answer the following questions:\n",
    "\n",
    "1. **Is this time series stationary?**\n",
    "2. **Is there a significant seasonal component?**\n",
    "3. **For the residual from the STL decomposition of the time series, what is the order of the ARMA(p,q) process that best fits?**\n",
    "\n",
    "Then **forecast production for 12 months** and report both numeric values and plot the confidence intervals.\n",
    "\n",
    "1. Are the confidence intervals reasonably small compared to the forecast means?\n",
    "2. How do the confidence intervals behave as time moves to the future?\n"
   ]
  },
  {
   "cell_type": "markdown",
   "metadata": {},
   "source": [
    "### Note\n",
    "Please clearly outline the results with markdown text. Be sure your discussion includes narrative for your figures and tables so it is clear to the reader the importance of each bit of evidence."
   ]
  },
  {
   "cell_type": "code",
   "execution_count": 1,
   "metadata": {},
   "outputs": [],
   "source": [
    "fileName = \"https://library.startlearninglabs.uw.edu/DATASCI410/Datasets/CADairyProduction.csv\""
   ]
  },
  {
   "cell_type": "code",
   "execution_count": 2,
   "metadata": {},
   "outputs": [],
   "source": [
    "# Load necessary libraries\n",
    "import pandas as pd\n",
    "import numpy as np\n",
    "import matplotlib.pyplot as plt\n",
    "\n",
    "%matplotlib inline"
   ]
  },
  {
   "cell_type": "markdown",
   "metadata": {},
   "source": [
    "### Load the data\n",
    "\n",
    "Load the data from the .csv file, add a time series index and examine the head and tail of the data frame."
   ]
  },
  {
   "cell_type": "code",
   "execution_count": 3,
   "metadata": {},
   "outputs": [
    {
     "data": {
      "text/plain": [
       "(228, 9)"
      ]
     },
     "execution_count": 3,
     "metadata": {},
     "output_type": "execute_result"
    }
   ],
   "source": [
    "# Create a dataframe\n",
    "CADairy = pd.read_csv(fileName)\n",
    "# Check the shape\n",
    "CADairy.shape                      "
   ]
  },
  {
   "cell_type": "code",
   "execution_count": 4,
   "metadata": {},
   "outputs": [
    {
     "data": {
      "text/plain": [
       "Year                   int64\n",
       "Month                 object\n",
       "Cotagecheese.Prod    float64\n",
       "Icecream.Prod        float64\n",
       "Milk.Prod            float64\n",
       "N.CA.Fat.Price       float64\n",
       "Month.Count            int64\n",
       "monthNumSqred          int64\n",
       "monthNumCubed          int64\n",
       "dtype: object"
      ]
     },
     "execution_count": 4,
     "metadata": {},
     "output_type": "execute_result"
    }
   ],
   "source": [
    "CADairy.dtypes"
   ]
  },
  {
   "cell_type": "code",
   "execution_count": 5,
   "metadata": {},
   "outputs": [
    {
     "data": {
      "text/html": [
       "<div>\n",
       "<style scoped>\n",
       "    .dataframe tbody tr th:only-of-type {\n",
       "        vertical-align: middle;\n",
       "    }\n",
       "\n",
       "    .dataframe tbody tr th {\n",
       "        vertical-align: top;\n",
       "    }\n",
       "\n",
       "    .dataframe thead th {\n",
       "        text-align: right;\n",
       "    }\n",
       "</style>\n",
       "<table border=\"1\" class=\"dataframe\">\n",
       "  <thead>\n",
       "    <tr style=\"text-align: right;\">\n",
       "      <th></th>\n",
       "      <th>Year</th>\n",
       "      <th>Month</th>\n",
       "      <th>Cotagecheese.Prod</th>\n",
       "      <th>Icecream.Prod</th>\n",
       "      <th>Milk.Prod</th>\n",
       "      <th>N.CA.Fat.Price</th>\n",
       "      <th>Month.Count</th>\n",
       "      <th>monthNumSqred</th>\n",
       "      <th>monthNumCubed</th>\n",
       "    </tr>\n",
       "  </thead>\n",
       "  <tbody>\n",
       "    <tr>\n",
       "      <th>0</th>\n",
       "      <td>1995</td>\n",
       "      <td>Jan</td>\n",
       "      <td>4.370</td>\n",
       "      <td>51.595</td>\n",
       "      <td>2.112</td>\n",
       "      <td>0.9803</td>\n",
       "      <td>1</td>\n",
       "      <td>1</td>\n",
       "      <td>1</td>\n",
       "    </tr>\n",
       "    <tr>\n",
       "      <th>1</th>\n",
       "      <td>1995</td>\n",
       "      <td>Feb</td>\n",
       "      <td>3.695</td>\n",
       "      <td>56.086</td>\n",
       "      <td>1.932</td>\n",
       "      <td>0.8924</td>\n",
       "      <td>2</td>\n",
       "      <td>4</td>\n",
       "      <td>8</td>\n",
       "    </tr>\n",
       "    <tr>\n",
       "      <th>2</th>\n",
       "      <td>1995</td>\n",
       "      <td>Mar</td>\n",
       "      <td>4.538</td>\n",
       "      <td>68.453</td>\n",
       "      <td>2.162</td>\n",
       "      <td>0.8924</td>\n",
       "      <td>3</td>\n",
       "      <td>9</td>\n",
       "      <td>27</td>\n",
       "    </tr>\n",
       "    <tr>\n",
       "      <th>3</th>\n",
       "      <td>1995</td>\n",
       "      <td>Apr</td>\n",
       "      <td>4.280</td>\n",
       "      <td>65.722</td>\n",
       "      <td>2.130</td>\n",
       "      <td>0.8967</td>\n",
       "      <td>4</td>\n",
       "      <td>16</td>\n",
       "      <td>64</td>\n",
       "    </tr>\n",
       "    <tr>\n",
       "      <th>4</th>\n",
       "      <td>1995</td>\n",
       "      <td>May</td>\n",
       "      <td>4.470</td>\n",
       "      <td>73.730</td>\n",
       "      <td>2.227</td>\n",
       "      <td>0.8967</td>\n",
       "      <td>5</td>\n",
       "      <td>25</td>\n",
       "      <td>125</td>\n",
       "    </tr>\n",
       "  </tbody>\n",
       "</table>\n",
       "</div>"
      ],
      "text/plain": [
       "   Year Month  Cotagecheese.Prod  Icecream.Prod  Milk.Prod  N.CA.Fat.Price  \\\n",
       "0  1995   Jan              4.370         51.595      2.112          0.9803   \n",
       "1  1995   Feb              3.695         56.086      1.932          0.8924   \n",
       "2  1995   Mar              4.538         68.453      2.162          0.8924   \n",
       "3  1995   Apr              4.280         65.722      2.130          0.8967   \n",
       "4  1995   May              4.470         73.730      2.227          0.8967   \n",
       "\n",
       "   Month.Count  monthNumSqred  monthNumCubed  \n",
       "0            1              1              1  \n",
       "1            2              4              8  \n",
       "2            3              9             27  \n",
       "3            4             16             64  \n",
       "4            5             25            125  "
      ]
     },
     "execution_count": 5,
     "metadata": {},
     "output_type": "execute_result"
    }
   ],
   "source": [
    "# look at the first few rows\n",
    "CADairy.head()      "
   ]
  },
  {
   "cell_type": "code",
   "execution_count": null,
   "metadata": {},
   "outputs": [],
   "source": [
    "#CADairy['Year'].value_counts()\n",
    "#CADairy['Month'].value_counts()"
   ]
  },
  {
   "cell_type": "markdown",
   "metadata": {},
   "source": [
    "Observations:\n",
    "- There are 228 rows and 9 columns in the dataset\n",
    "- The column Year contains the years from 1995 to 2013\n",
    "- The column Month contains all the months for each year, starting with January 1995 until December 2013\n",
    "- The last three columns contain the month count, the squared month count and the month count cubed "
   ]
  },
  {
   "cell_type": "code",
   "execution_count": 6,
   "metadata": {},
   "outputs": [],
   "source": [
    "# Create a time series starting from January 1995 to December 2013 with a monthly frequency\n",
    "CADairy.index = pd.date_range(start = '1-1-1995', end = '12-31-2013', freq = 'M')"
   ]
  },
  {
   "cell_type": "code",
   "execution_count": 7,
   "metadata": {},
   "outputs": [
    {
     "data": {
      "text/html": [
       "<div>\n",
       "<style scoped>\n",
       "    .dataframe tbody tr th:only-of-type {\n",
       "        vertical-align: middle;\n",
       "    }\n",
       "\n",
       "    .dataframe tbody tr th {\n",
       "        vertical-align: top;\n",
       "    }\n",
       "\n",
       "    .dataframe thead th {\n",
       "        text-align: right;\n",
       "    }\n",
       "</style>\n",
       "<table border=\"1\" class=\"dataframe\">\n",
       "  <thead>\n",
       "    <tr style=\"text-align: right;\">\n",
       "      <th></th>\n",
       "      <th>Year</th>\n",
       "      <th>Month</th>\n",
       "      <th>Cotagecheese.Prod</th>\n",
       "      <th>Icecream.Prod</th>\n",
       "      <th>Milk.Prod</th>\n",
       "      <th>N.CA.Fat.Price</th>\n",
       "      <th>Month.Count</th>\n",
       "      <th>monthNumSqred</th>\n",
       "      <th>monthNumCubed</th>\n",
       "    </tr>\n",
       "  </thead>\n",
       "  <tbody>\n",
       "    <tr>\n",
       "      <th>1995-01-31</th>\n",
       "      <td>1995</td>\n",
       "      <td>Jan</td>\n",
       "      <td>4.370</td>\n",
       "      <td>51.595</td>\n",
       "      <td>2.112</td>\n",
       "      <td>0.9803</td>\n",
       "      <td>1</td>\n",
       "      <td>1</td>\n",
       "      <td>1</td>\n",
       "    </tr>\n",
       "    <tr>\n",
       "      <th>1995-02-28</th>\n",
       "      <td>1995</td>\n",
       "      <td>Feb</td>\n",
       "      <td>3.695</td>\n",
       "      <td>56.086</td>\n",
       "      <td>1.932</td>\n",
       "      <td>0.8924</td>\n",
       "      <td>2</td>\n",
       "      <td>4</td>\n",
       "      <td>8</td>\n",
       "    </tr>\n",
       "    <tr>\n",
       "      <th>1995-03-31</th>\n",
       "      <td>1995</td>\n",
       "      <td>Mar</td>\n",
       "      <td>4.538</td>\n",
       "      <td>68.453</td>\n",
       "      <td>2.162</td>\n",
       "      <td>0.8924</td>\n",
       "      <td>3</td>\n",
       "      <td>9</td>\n",
       "      <td>27</td>\n",
       "    </tr>\n",
       "    <tr>\n",
       "      <th>1995-04-30</th>\n",
       "      <td>1995</td>\n",
       "      <td>Apr</td>\n",
       "      <td>4.280</td>\n",
       "      <td>65.722</td>\n",
       "      <td>2.130</td>\n",
       "      <td>0.8967</td>\n",
       "      <td>4</td>\n",
       "      <td>16</td>\n",
       "      <td>64</td>\n",
       "    </tr>\n",
       "    <tr>\n",
       "      <th>1995-05-31</th>\n",
       "      <td>1995</td>\n",
       "      <td>May</td>\n",
       "      <td>4.470</td>\n",
       "      <td>73.730</td>\n",
       "      <td>2.227</td>\n",
       "      <td>0.8967</td>\n",
       "      <td>5</td>\n",
       "      <td>25</td>\n",
       "      <td>125</td>\n",
       "    </tr>\n",
       "  </tbody>\n",
       "</table>\n",
       "</div>"
      ],
      "text/plain": [
       "            Year Month  Cotagecheese.Prod  Icecream.Prod  Milk.Prod  \\\n",
       "1995-01-31  1995   Jan              4.370         51.595      2.112   \n",
       "1995-02-28  1995   Feb              3.695         56.086      1.932   \n",
       "1995-03-31  1995   Mar              4.538         68.453      2.162   \n",
       "1995-04-30  1995   Apr              4.280         65.722      2.130   \n",
       "1995-05-31  1995   May              4.470         73.730      2.227   \n",
       "\n",
       "            N.CA.Fat.Price  Month.Count  monthNumSqred  monthNumCubed  \n",
       "1995-01-31          0.9803            1              1              1  \n",
       "1995-02-28          0.8924            2              4              8  \n",
       "1995-03-31          0.8924            3              9             27  \n",
       "1995-04-30          0.8967            4             16             64  \n",
       "1995-05-31          0.8967            5             25            125  "
      ]
     },
     "execution_count": 7,
     "metadata": {},
     "output_type": "execute_result"
    }
   ],
   "source": [
    "# Check the first and last few rows in the dataframe\n",
    "CADairy.head()"
   ]
  },
  {
   "cell_type": "code",
   "execution_count": 8,
   "metadata": {},
   "outputs": [
    {
     "data": {
      "text/html": [
       "<div>\n",
       "<style scoped>\n",
       "    .dataframe tbody tr th:only-of-type {\n",
       "        vertical-align: middle;\n",
       "    }\n",
       "\n",
       "    .dataframe tbody tr th {\n",
       "        vertical-align: top;\n",
       "    }\n",
       "\n",
       "    .dataframe thead th {\n",
       "        text-align: right;\n",
       "    }\n",
       "</style>\n",
       "<table border=\"1\" class=\"dataframe\">\n",
       "  <thead>\n",
       "    <tr style=\"text-align: right;\">\n",
       "      <th></th>\n",
       "      <th>Year</th>\n",
       "      <th>Month</th>\n",
       "      <th>Cotagecheese.Prod</th>\n",
       "      <th>Icecream.Prod</th>\n",
       "      <th>Milk.Prod</th>\n",
       "      <th>N.CA.Fat.Price</th>\n",
       "      <th>Month.Count</th>\n",
       "      <th>monthNumSqred</th>\n",
       "      <th>monthNumCubed</th>\n",
       "    </tr>\n",
       "  </thead>\n",
       "  <tbody>\n",
       "    <tr>\n",
       "      <th>2013-08-31</th>\n",
       "      <td>2013</td>\n",
       "      <td>Aug</td>\n",
       "      <td>2.169</td>\n",
       "      <td>78.382</td>\n",
       "      <td>3.400</td>\n",
       "      <td>1.6273</td>\n",
       "      <td>224</td>\n",
       "      <td>50176</td>\n",
       "      <td>11239424</td>\n",
       "    </tr>\n",
       "    <tr>\n",
       "      <th>2013-09-30</th>\n",
       "      <td>2013</td>\n",
       "      <td>Sep</td>\n",
       "      <td>2.193</td>\n",
       "      <td>74.871</td>\n",
       "      <td>3.197</td>\n",
       "      <td>1.5519</td>\n",
       "      <td>225</td>\n",
       "      <td>50625</td>\n",
       "      <td>11390625</td>\n",
       "    </tr>\n",
       "    <tr>\n",
       "      <th>2013-10-31</th>\n",
       "      <td>2013</td>\n",
       "      <td>Oct</td>\n",
       "      <td>2.284</td>\n",
       "      <td>70.011</td>\n",
       "      <td>3.338</td>\n",
       "      <td>1.5566</td>\n",
       "      <td>226</td>\n",
       "      <td>51076</td>\n",
       "      <td>11543176</td>\n",
       "    </tr>\n",
       "    <tr>\n",
       "      <th>2013-11-30</th>\n",
       "      <td>2013</td>\n",
       "      <td>Nov</td>\n",
       "      <td>1.865</td>\n",
       "      <td>61.394</td>\n",
       "      <td>3.275</td>\n",
       "      <td>1.7537</td>\n",
       "      <td>227</td>\n",
       "      <td>51529</td>\n",
       "      <td>11697083</td>\n",
       "    </tr>\n",
       "    <tr>\n",
       "      <th>2013-12-31</th>\n",
       "      <td>2013</td>\n",
       "      <td>Dec</td>\n",
       "      <td>2.345</td>\n",
       "      <td>53.653</td>\n",
       "      <td>3.473</td>\n",
       "      <td>1.6747</td>\n",
       "      <td>228</td>\n",
       "      <td>51984</td>\n",
       "      <td>11852352</td>\n",
       "    </tr>\n",
       "  </tbody>\n",
       "</table>\n",
       "</div>"
      ],
      "text/plain": [
       "            Year Month  Cotagecheese.Prod  Icecream.Prod  Milk.Prod  \\\n",
       "2013-08-31  2013   Aug              2.169         78.382      3.400   \n",
       "2013-09-30  2013   Sep              2.193         74.871      3.197   \n",
       "2013-10-31  2013   Oct              2.284         70.011      3.338   \n",
       "2013-11-30  2013   Nov              1.865         61.394      3.275   \n",
       "2013-12-31  2013   Dec              2.345         53.653      3.473   \n",
       "\n",
       "            N.CA.Fat.Price  Month.Count  monthNumSqred  monthNumCubed  \n",
       "2013-08-31          1.6273          224          50176       11239424  \n",
       "2013-09-30          1.5519          225          50625       11390625  \n",
       "2013-10-31          1.5566          226          51076       11543176  \n",
       "2013-11-30          1.7537          227          51529       11697083  \n",
       "2013-12-31          1.6747          228          51984       11852352  "
      ]
     },
     "execution_count": 8,
     "metadata": {},
     "output_type": "execute_result"
    }
   ],
   "source": [
    "CADairy.tail()"
   ]
  },
  {
   "cell_type": "markdown",
   "metadata": {},
   "source": [
    "It can be observed the time series index is added as a date-time for each value in the dataframe."
   ]
  },
  {
   "cell_type": "markdown",
   "metadata": {},
   "source": [
    "### Select a time series to perform the analysis "
   ]
  },
  {
   "cell_type": "markdown",
   "metadata": {},
   "source": [
    "Below are plotted the time series corresponding to Cottage Cheese Production, Milk Production and Ice Cream Production."
   ]
  },
  {
   "cell_type": "code",
   "execution_count": 9,
   "metadata": {},
   "outputs": [
    {
     "data": {
      "text/plain": [
       "Text(0.5, 1.0, 'California diary production time series')"
      ]
     },
     "execution_count": 9,
     "metadata": {},
     "output_type": "execute_result"
    },
    {
     "data": {
      "image/png": "[encoded data removed]",
      "text/plain": [
       "<Figure size 432x288 with 3 Axes>"
      ]
     },
     "metadata": {
      "needs_background": "light"
     },
     "output_type": "display_data"
    }
   ],
   "source": [
    "f, (ax1, ax2, ax3) = plt.subplots(3, 1)\n",
    "CADairy['Cotagecheese.Prod'].plot(ax = ax1)\n",
    "CADairy['Milk.Prod'].plot(ax = ax2)\n",
    "CADairy['Icecream.Prod'].plot(ax = ax3)\n",
    "ax1.set_ylabel('Cottage Cheese')\n",
    "ax2.set_ylabel('Milk')\n",
    "ax3.set_ylabel('Ice Cream')\n",
    "ax3.set_xlabel('Date')\n",
    "ax1.set_title('California diary production time series')"
   ]
  },
  {
   "cell_type": "markdown",
   "metadata": {},
   "source": [
    "It can be noted that for Cottage Cheese time series the amplitude of the seasonal variation decreases with time. For Milk\n",
    "time series, the seasonal component increases with time. For Ice cream time series, the sesonal variation looks stationary.\n",
    "Next it is __selected the Milk production time series to perform a time series analysis__.\n",
    "<br>"
   ]
  },
  {
   "cell_type": "markdown",
   "metadata": {},
   "source": [
    "### Check if the time series is stationary and if there is a significant seasonal component"
   ]
  },
  {
   "cell_type": "markdown",
   "metadata": {},
   "source": [
    "As noted, __the Milk time series has a sesonal component that increases proportional with the trend, so it will be used a \n",
    "multiplicative decomposition model__. The multiplicative model can be transformed to an additive model by taking the \n",
    "logarithm of the values. Below it is performed the log tranformation for Milk production and plotted the result for the\n",
    "milk consumption time series."
   ]
  },
  {
   "cell_type": "code",
   "execution_count": 10,
   "metadata": {},
   "outputs": [],
   "source": [
    "# Define a function to plot the time series\n",
    "def plot_ts(ts, title):\n",
    "    ts.plot()\n",
    "    plt.title(title)\n",
    "    plt.xlabel('Date')\n",
    "    plt.ylabel('Value')"
   ]
  },
  {
   "cell_type": "code",
   "execution_count": 11,
   "metadata": {},
   "outputs": [
    {
     "data": {
      "text/plain": [
       "Index(['Year', 'Month', 'Cotagecheese.Prod', 'Icecream.Prod', 'Milk.Prod',\n",
       "       'N.CA.Fat.Price', 'Month.Count', 'monthNumSqred', 'monthNumCubed',\n",
       "       'Milk_log'],\n",
       "      dtype='object')"
      ]
     },
     "execution_count": 11,
     "metadata": {},
     "output_type": "execute_result"
    },
    {
     "data": {
      "image/png": "[encoded data removed]",
      "text/plain": [
       "<Figure size 432x288 with 1 Axes>"
      ]
     },
     "metadata": {
      "needs_background": "light"
     },
     "output_type": "display_data"
    }
   ],
   "source": [
    "# Apply the log transformation for Milk production and plot the result for the milk consumption time series\n",
    "CADairy['Milk_log'] = np.log(CADairy['Milk.Prod'])\n",
    "plot_ts(CADairy['Milk_log'], 'Log of Milk production')\n",
    "CADairy.columns"
   ]
  },
  {
   "cell_type": "markdown",
   "metadata": {},
   "source": [
    "It can be noted the following about this time series:\n",
    "- It has a __significant trend__.\n",
    "- It has a __clear seasonal component__.\n",
    "- These observations mean that this is a __non-stationary time series__. \n",
    "- For the un-transformed series, the magnitude of the seasonal component increases with trend particularly towards the end.\n",
    "- For the log transformed series, the seasonal component has a more constant magnitude, but increases slightly with time."
   ]
  },
  {
   "cell_type": "markdown",
   "metadata": {},
   "source": [
    "### Perform STL decomposition of the time series"
   ]
  },
  {
   "cell_type": "markdown",
   "metadata": {},
   "source": [
    "These results show that it is needed an STL decomposition. The STL decomposition is a method for decomposing a time series data\n",
    "into its trend, seasonal and residual components. Since __the magnitude of the seasonal component increases noticeably with \n",
    "increasing trend, it is used a multiplicative (log transformed) decomposition model__. <br>\n",
    "Next it is defined a function to perform the STL decomposition."
   ]
  },
  {
   "cell_type": "code",
   "execution_count": 12,
   "metadata": {},
   "outputs": [],
   "source": [
    "# Define a function for STL decomposition of a time series which has a seasonal, trend, and white noise residual component\n",
    "import statsmodels.tsa.seasonal as sts\n",
    "def decomp_ts(ts, freq = 'M', model = 'additive'):\n",
    "    res = sts.seasonal_decompose(ts, model = model)\n",
    "    res.plot()\n",
    "    return(pd.DataFrame({'resid': res.resid, \n",
    "                         'trend': res.trend, \n",
    "                         'seasonal': res.seasonal},\n",
    "                       index = ts.index) )"
   ]
  },
  {
   "cell_type": "code",
   "execution_count": 13,
   "metadata": {},
   "outputs": [
    {
     "name": "stdout",
     "output_type": "stream",
     "text": [
      "               resid     trend  seasonal\n",
      "1995-01-31       NaN       NaN  0.009169\n",
      "1995-02-28       NaN       NaN -0.063646\n",
      "1995-03-31       NaN       NaN  0.046570\n",
      "1995-04-30       NaN       NaN  0.026694\n",
      "1995-05-31       NaN       NaN  0.053586\n",
      "1995-06-30       NaN       NaN  0.004263\n",
      "1995-07-31  0.026259  0.746283  0.008616\n",
      "1995-08-31  0.016510  0.747581  0.002307\n",
      "1995-09-30  0.014267  0.749151 -0.039741\n",
      "1995-10-31  0.008047  0.750003 -0.006162\n",
      "1995-11-30 -0.003504  0.750755 -0.039215\n",
      "1995-12-31 -0.011135  0.751219 -0.002441\n",
      "               resid     trend  seasonal\n",
      "2013-01-31  0.002499  1.230179  0.009169\n",
      "2013-02-28  0.006582  1.229856 -0.063646\n",
      "2013-03-31  0.024035  1.231219  0.046570\n",
      "2013-04-30  0.028554  1.231778  0.026694\n",
      "2013-05-31  0.027831  1.232307  0.053586\n",
      "2013-06-30  0.012240  1.233112  0.004263\n",
      "2013-07-31       NaN       NaN  0.008616\n",
      "2013-08-31       NaN       NaN  0.002307\n",
      "2013-09-30       NaN       NaN -0.039741\n",
      "2013-10-31       NaN       NaN -0.006162\n",
      "2013-11-30       NaN       NaN -0.039215\n",
      "2013-12-31       NaN       NaN -0.002441\n"
     ]
    },
    {
     "data": {
      "image/png": "[encoded data removed]",
      "text/plain": [
       "<Figure size 432x288 with 4 Axes>"
      ]
     },
     "metadata": {
      "needs_background": "light"
     },
     "output_type": "display_data"
    }
   ],
   "source": [
    "# Decomp Milk\n",
    "Milk_decomp = decomp_ts(CADairy['Milk_log'])\n",
    "print(Milk_decomp.head(12))\n",
    "print(Milk_decomp.tail(12))"
   ]
  },
  {
   "cell_type": "markdown",
   "metadata": {},
   "source": [
    "This is a monthly time series, so it can be observed that the first and the last six lag values of the residual and trend \n",
    "are not known numbers (they are not there), but the seasonal component has values.\n",
    "<br>\n",
    "\n",
    "It can be noted the following from the components of the Milk time series:\n",
    "- __The sesonal component is fairly constant__, although it may not be quite stationary by looking at the remainder.\n",
    "- __The trend component looks close to a straight line trend__ so it seems to be acceptable removed."
   ]
  },
  {
   "cell_type": "markdown",
   "metadata": {},
   "source": [
    "Next we want to __determine if the residual is stationary by applying the Dicky Fuller (DF) test__. The null hypothesis is that\n",
    "the the time series possesses a unit root and is non-stationary, but with no trend. So, if the p-value in DF test is less than\n",
    "the significance level (0.05), can be rejected the null hypothesis.<br>\n",
    "Below it is applied the DF test and printed some summary statistics. The first and last 6 elements are filtered, since they\n",
    "have NaN values. "
   ]
  },
  {
   "cell_type": "code",
   "execution_count": 14,
   "metadata": {},
   "outputs": [],
   "source": [
    "from statsmodels.tsa.stattools import adfuller\n",
    "\n",
    "# Define a function to apply the Dicky Fuller test\n",
    "def DF_Test(ts):\n",
    "    stationary = adfuller(ts)\n",
    "    ## Print the results\n",
    "    print('D-F statistic = ' + str(stationary[0]))\n",
    "    print('p-value = ' + str(stationary[1]))\n",
    "    print('number of lags used = ' + str(stationary[2]))\n",
    "    print('Critical value at 5% confidence = ' + str(stationary[4]['5%']))\n",
    "    print('Critical value at 10% confidence = ' + str(stationary[4]['10%'])) "
   ]
  },
  {
   "cell_type": "code",
   "execution_count": 15,
   "metadata": {},
   "outputs": [
    {
     "name": "stdout",
     "output_type": "stream",
     "text": [
      "D-F statistic = -8.280935682685259\n",
      "p-value = 4.521792223864596e-13\n",
      "number of lags used = 7\n",
      "Critical value at 5% confidence = -2.875537986778846\n",
      "Critical value at 10% confidence = -2.574231080806213\n"
     ]
    }
   ],
   "source": [
    "DF_Test(Milk_decomp.resid[6:-6])   "
   ]
  },
  {
   "cell_type": "markdown",
   "metadata": {},
   "source": [
    "__Observations__:\n",
    "- The Dickey-Fuller statistic has a large value (aproximatelly minus 8) \n",
    "- The p-value is tiny so it can be rejected the null hyphothesis that the time series is not stationary\n",
    "- There are different cutoffs at 5% and 10%. The DF statistic is really large for these cutoffs, so we can say that the\n",
    "residual time series is stationary.\n",
    "\n",
    "It can be concluded that given the DF statistic and the p-value we can reject the null hypothesis and can say that the __Milk\n",
    "residual time series is stationary__."
   ]
  },
  {
   "cell_type": "markdown",
   "metadata": {},
   "source": [
    "In the next step, are compute and plotted the ACF and PACF for the remainder series. The ACF (AutoCorrelation Function) and\n",
    "PACF (Partial AutoCorrelation Function) are functions from statsmodels used to plot the autocorrelation versus the time lags.\n",
    "The autocorrelation represents the correlation of the time series with itself, lagged by an offset."
   ]
  },
  {
   "cell_type": "code",
   "execution_count": 16,
   "metadata": {},
   "outputs": [
    {
     "data": {
      "image/png": "[encoded data removed]",
      "text/plain": [
       "<Figure size 432x288 with 1 Axes>"
      ]
     },
     "execution_count": 16,
     "metadata": {},
     "output_type": "execute_result"
    },
    {
     "data": {
      "image/png": "[encoded data removed]",
      "text/plain": [
       "<Figure size 432x288 with 1 Axes>"
      ]
     },
     "metadata": {
      "needs_background": "light"
     },
     "output_type": "display_data"
    },
    {
     "data": {
      "image/png": "[encoded data removed]",
      "text/plain": [
       "<Figure size 432x288 with 1 Axes>"
      ]
     },
     "metadata": {
      "needs_background": "light"
     },
     "output_type": "display_data"
    }
   ],
   "source": [
    "# Compute and plot the ACF and PACF for the Milk remainder series\n",
    "\n",
    "import statsmodels.graphics.tsaplots as splt\n",
    "splt.plot_acf(Milk_decomp.resid[6:-6], lags = 40)\n",
    "splt.plot_pacf(Milk_decomp.resid[6:-6], lags = 40)"
   ]
  },
  {
   "cell_type": "markdown",
   "metadata": {},
   "source": [
    "It can be noted the following:\n",
    "- The ACF has mainly one significant non-zero lag (a few other negative marginally significant). The periodicity can be still \n",
    "observed, although most of the lags are not significant.\n",
    "- For the PACF, there is one significant non-zero lag. There is also sign of periodicity that it seems was not quite eliminated.\n",
    "\n",
    "So, we can say that it was removed the linear trend that is close to a straight line trend. The residual is stationary, but has\n",
    "some leftover sesonality. So there are signs of periodicity which the STL decomposition did not remove."
   ]
  },
  {
   "cell_type": "markdown",
   "metadata": {},
   "source": [
    "Now that there is an STL decomposition of the Milk production time series, it can be computed an __ARIMA model for the \n",
    "residual__. To find the best model to use, we need a criteria to compare models with different values of p,d,q components. \n",
    "These components are:\n",
    "- p - the order of the AR term. The order of the autoregressive component is how many lags of the previous values are \n",
    "affecting the current value of the time series.\n",
    "- q - the order of the MA term. The moving average component is how many lags of the white noise component are affecting \n",
    "the current value.\n",
    "- d - the number of differencing required to make the time series stationary. The integrative component is the order of\n",
    "the random walk, the order the difference that it is removed.\n",
    "<br>\n",
    "\n",
    "__To find the best ARIMA model for the residual, it is used the BIC - Bayesian Information Criteria__. BIC is a criteria \n",
    "to compare models with different values of p,d,q. The BIC value is used to compute the best model.<br>\n",
    "Below are defined the two functions that use ARIMA from stasmodel package. ARIMA model has the order p,d,q, so this is \n",
    "going to be returned (p,d,q). The first method 'model_ARIMA_2' loops through a grid of autoregresssive integrative (AR) and\n",
    "moving average (MA) components and returns the best model with lowest BIC. The second method 'step_Arima' starts with a BIC\n",
    "value very large (9999999999999999.0) and returns the best model that has the lowest BIC value and the corresponding order."
   ]
  },
  {
   "cell_type": "markdown",
   "metadata": {},
   "source": [
    "__Note regarding using the method model_ARIMA_2:__\n",
    "\n",
    "It is used the method model_ARIMA_2 because it could not be installed the new pyramid-arima package. The package contains the\n",
    "auto_arima method and has the advantage that can omit the errors/warning that are displayed by model_ARIMA_2 method during the\n",
    "iterative process."
   ]
  },
  {
   "cell_type": "code",
   "execution_count": 17,
   "metadata": {},
   "outputs": [
    {
     "name": "stdout",
     "output_type": "stream",
     "text": [
      "Testing model of order: (0, 0, 1) with BIC = -1259.2535158002456\n",
      "Testing model of order: (0, 0, 2) with BIC = -1263.389525817785\n",
      "Testing model of order: (0, 0, 3) with BIC = -1261.6589890205605\n",
      "Testing model of order: (0, 1, 1) with BIC = -1208.1215115966227\n",
      "Testing model of order: (0, 1, 2) with BIC = -1242.5518213121609\n",
      "Testing model of order: (0, 1, 3) with BIC = -1246.9800773557793\n",
      "Testing model of order: (0, 2, 1) with BIC = -1188.1204125665993\n",
      "Testing model of order: (0, 2, 2) with BIC = -1190.213433905095\n"
     ]
    },
    {
     "name": "stderr",
     "output_type": "stream",
     "text": [
      "C:\\Users\\catif\\anaconda3\\lib\\site-packages\\statsmodels\\base\\model.py:548: HessianInversionWarning: Inverting hessian failed, no bse or cov_params available\n",
      "  'available', HessianInversionWarning)\n",
      "C:\\Users\\catif\\anaconda3\\lib\\site-packages\\statsmodels\\base\\model.py:568: ConvergenceWarning: Maximum Likelihood optimization failed to converge. Check mle_retvals\n",
      "  \"Check mle_retvals\", ConvergenceWarning)\n"
     ]
    },
    {
     "name": "stdout",
     "output_type": "stream",
     "text": [
      "Testing model of order: (0, 2, 3) with BIC = -1217.5008065094794\n",
      "Testing model of order: (1, 0, 0) with BIC = -1266.337871220621\n",
      "Testing model of order: (1, 0, 1) with BIC = -1262.7075998773807\n",
      "Testing model of order: (1, 0, 2) with BIC = -1259.3956781852844\n",
      "Testing model of order: (1, 1, 0) with BIC = -1206.0860866049395\n",
      "Testing model of order: (1, 2, 0) with BIC = -1085.33203648243\n",
      "Testing model of order: (2, 0, 0) with BIC = -1263.7848721652267\n",
      "Testing model of order: (2, 0, 1) with BIC = -1294.740052170149\n",
      "Testing model of order: (2, 0, 2) with BIC = -1291.315603372602\n",
      "Testing model of order: (2, 1, 0) with BIC = -1203.3478504053614\n",
      "Testing model of order: (2, 2, 0) with BIC = -1107.912009469685\n",
      "Testing model of order: (3, 0, 0) with BIC = -1265.0632355373311\n",
      "Testing model of order: (3, 0, 1) with BIC = -1291.290826326436\n",
      "Testing model of order: (3, 1, 0) with BIC = -1201.060055233054\n",
      "Testing model of order: (3, 2, 0) with BIC = -1111.4618393592496\n",
      "***************************************\n",
      "Best model with BIC = -1294.740052170149 and with order (2, 0, 1)\n"
     ]
    }
   ],
   "source": [
    "# Define functions to loop through a grid of autoregresssive integrative (AR) and moving average (MA) components\n",
    "# and return the best model with lowest BIC\n",
    "\n",
    "def model_ARIMA_2(ts, order):\n",
    "    from statsmodels.tsa.arima_model import ARIMA\n",
    "    from statsmodels.tsa.arima_model import ARIMAResults    \n",
    "    model = ARIMA(ts, order = order)\n",
    "    model_fit = model.fit(disp=0, method='mle', trend='nc')\n",
    "#    BIC = ARIMAResults.bic(model_fit)\n",
    "    BIC = model_fit.bic                         # use ARIMA's attribute BIC\n",
    "    print('Testing model of order: ' + str(order) + ' with BIC = ' + str(BIC))\n",
    "    return(BIC, order, model_fit)             # we return BIC, order and model which are used in the next function\n",
    "\n",
    "def step_ARIMA(resid, p_max, d_max, q_max):            # use the residual of the time series, and the p,d,q max values\n",
    "    from statsmodels.tsa.arima_model import ARIMAResults    \n",
    "    from statsmodels.tsa.arima_model import ARIMA\n",
    "    best_BIC = 9999999999999999.0\n",
    "    for p in range(p_max + 1):\n",
    "        for d in range(d_max + 1):\n",
    "            for q in range(q_max + 1):\n",
    "                if(p > 0 or q > 0):          # you can't have a (0,1,0) model\n",
    "                    try:\n",
    "                        order = (p, d, q)       # start with the order p,d,q and compute the model and the BIC\n",
    "                        BIC, order, model = model_ARIMA_2(resid, order)\n",
    "                        if(BIC < best_BIC):       # if BIC is less that the best BIC we've seen so far, we return these values\n",
    "                            best_model = model    # we update these values that we'll going to return\n",
    "                            best_BIC = BIC\n",
    "                            best_order = order\n",
    "                    except: \n",
    "                        pass        \n",
    "    return(best_BIC, best_order, best_model) \n",
    "\n",
    "BIC, order, model = step_ARIMA(Milk_decomp.resid[6:-6], 3, 3, 3)    \n",
    "print('***************************************')\n",
    "print('Best model with BIC = ' + str(BIC) + ' and with order '+ str(order))"
   ]
  },
  {
   "cell_type": "markdown",
   "metadata": {},
   "source": [
    "It can be seen how the iteration over the model order eventually converged to a model with the smallest BIC. This is the\n",
    "best model so far, but it would be good to find how well does this model fit the residuals and if the model is actually stable.\n",
    "For this it is computed and printed a summary of a model of the best order.\n",
    "<br>\n",
    "\n",
    "The function defined below uses ARIMA function from the statsmodels package to define a model. The function fits the coefficient\n",
    "values using the fit method on the model object and prints the output of the summary method, showing useful statistics that \n",
    "can help to understand the model."
   ]
  },
  {
   "cell_type": "code",
   "execution_count": 18,
   "metadata": {},
   "outputs": [],
   "source": [
    "# Define function to compute and print summary of a model\n",
    "def model_ARIMA(ts, order):\n",
    "    from statsmodels.tsa.arima_model import ARIMA\n",
    "    model = ARIMA(ts, order = order)\n",
    "    model_fit = model.fit(disp=0, method='mle', trend='nc')  # mle = maximum likelihood estimator; \n",
    "    print(model_fit.summary())                               # nc = no displacement, means that the trend was removed\n",
    "    return(model_fit)"
   ]
  },
  {
   "cell_type": "code",
   "execution_count": 19,
   "metadata": {},
   "outputs": [
    {
     "name": "stdout",
     "output_type": "stream",
     "text": [
      "                              ARMA Model Results                              \n",
      "==============================================================================\n",
      "Dep. Variable:                  resid   No. Observations:                  216\n",
      "Model:                     ARMA(2, 1)   Log Likelihood                 658.121\n",
      "Method:                           mle   S.D. of innovations              0.011\n",
      "Date:                Wed, 18 Nov 2020   AIC                          -1308.241\n",
      "Time:                        13:54:32   BIC                          -1294.740\n",
      "Sample:                    07-31-1995   HQIC                         -1302.787\n",
      "                         - 06-30-2013                                         \n",
      "===============================================================================\n",
      "                  coef    std err          z      P>|z|      [0.025      0.975]\n",
      "-------------------------------------------------------------------------------\n",
      "ar.L1.resid     1.4072      0.055     25.587      0.000       1.299       1.515\n",
      "ar.L2.resid    -0.6030      0.055    -10.956      0.000      -0.711      -0.495\n",
      "ma.L1.resid    -0.9787      0.014    -67.772      0.000      -1.007      -0.950\n",
      "                                    Roots                                    \n",
      "=============================================================================\n",
      "                  Real          Imaginary           Modulus         Frequency\n",
      "-----------------------------------------------------------------------------\n",
      "AR.1            1.1669           -0.5449j            1.2878           -0.0695\n",
      "AR.2            1.1669           +0.5449j            1.2878            0.0695\n",
      "MA.1            1.0218           +0.0000j            1.0218            0.0000\n",
      "-----------------------------------------------------------------------------\n"
     ]
    },
    {
     "data": {
      "text/plain": [
       "<statsmodels.tsa.arima_model.ARMAResultsWrapper at 0x287aa156ac8>"
      ]
     },
     "execution_count": 19,
     "metadata": {},
     "output_type": "execute_result"
    }
   ],
   "source": [
    "# Compute the best model found using the best BIC - try to see if the model is stable\n",
    "model_ARIMA(Milk_decomp.resid[6:-6], order = (2, 0, 1))"
   ]
  },
  {
   "cell_type": "markdown",
   "metadata": {},
   "source": [
    "Observations:\n",
    "- The p-values are very small. \n",
    "- The confidence intervals for the coefficients do not include zero so the coefficient values are significant.\n",
    "- The standard errors of the coefficients are very small in magnitude than the coefficient themselves.\n",
    "- There is no warning about the method being unstable, so it can be used this model.\n",
    "\n",
    "It can be concluded that __all model coefficients are statistically significant__. "
   ]
  },
  {
   "cell_type": "markdown",
   "metadata": {},
   "source": [
    "### Forecast production"
   ]
  },
  {
   "cell_type": "markdown",
   "metadata": {},
   "source": [
    "Next step is to compute and evaluate a forecast production for the last 12 months of the data. Before training the model, the \n",
    "last 12 months of data are hold back, then this data is used to evaluate the model."
   ]
  },
  {
   "cell_type": "markdown",
   "metadata": {},
   "source": [
    "Some observations about building the model: \n",
    "- The count of months, square and cube of count of months features are used to model the trend. It is built up a linear \n",
    "regression model of the trend.\n",
    "- The seasonal component is month to month, so it will be a regression coefficient for each month of the year. There are\n",
    "created dummy variables for the months that are used to model the sesonal variation.\n",
    "- Then it is computed an ARIMA model of the residual.\n",
    "- In the end it is computed a forecast for a 12 month period using the trend, seasonal and residual models.\n",
    "This will be compared to the real last 12 months of the time series."
   ]
  },
  {
   "cell_type": "code",
   "execution_count": 20,
   "metadata": {},
   "outputs": [],
   "source": [
    "## Normalize the time features\n",
    "from scipy.stats import zscore      \n",
    "\n",
    "# Replace month count and month count two with their z-score versions of that using apply() function\n",
    "CADairy.loc[:, ['Month.Count', 'monthNumSqred', 'monthNumCubed']] = CADairy.loc[:, ['Month.Count', 'monthNumSqred', 'monthNumCubed']].apply(zscore)"
   ]
  },
  {
   "cell_type": "code",
   "execution_count": 21,
   "metadata": {},
   "outputs": [],
   "source": [
    "## Create dummy variables for the months\n",
    "years = int(len(CADairy.Milk_log)/12)               # figure out how many years are "
   ]
  },
  {
   "cell_type": "code",
   "execution_count": 22,
   "metadata": {},
   "outputs": [],
   "source": [
    "# Make a list of months times the number of years\n",
    "# the column Month, which is January to December repeated however many years are\n",
    "CADairy.loc[:, 'Month'] = ['Jan', 'Feb', 'Mar', 'Apr', 'May', 'Jun', 'Jul', 'Aug', 'Sep', 'Oct', 'Nov', 'Dec'] * years\n",
    "dummies = pd.get_dummies(CADairy.loc[:, 'Month'])\n",
    "CADairy[list(dummies.columns)] = dummies"
   ]
  },
  {
   "cell_type": "code",
   "execution_count": 23,
   "metadata": {},
   "outputs": [
    {
     "data": {
      "text/html": [
       "<div>\n",
       "<style scoped>\n",
       "    .dataframe tbody tr th:only-of-type {\n",
       "        vertical-align: middle;\n",
       "    }\n",
       "\n",
       "    .dataframe tbody tr th {\n",
       "        vertical-align: top;\n",
       "    }\n",
       "\n",
       "    .dataframe thead th {\n",
       "        text-align: right;\n",
       "    }\n",
       "</style>\n",
       "<table border=\"1\" class=\"dataframe\">\n",
       "  <thead>\n",
       "    <tr style=\"text-align: right;\">\n",
       "      <th></th>\n",
       "      <th>Year</th>\n",
       "      <th>Month</th>\n",
       "      <th>Cotagecheese.Prod</th>\n",
       "      <th>Icecream.Prod</th>\n",
       "      <th>Milk.Prod</th>\n",
       "      <th>N.CA.Fat.Price</th>\n",
       "      <th>Month.Count</th>\n",
       "      <th>monthNumSqred</th>\n",
       "      <th>monthNumCubed</th>\n",
       "      <th>Milk_log</th>\n",
       "      <th>...</th>\n",
       "      <th>Dec</th>\n",
       "      <th>Feb</th>\n",
       "      <th>Jan</th>\n",
       "      <th>Jul</th>\n",
       "      <th>Jun</th>\n",
       "      <th>Mar</th>\n",
       "      <th>May</th>\n",
       "      <th>Nov</th>\n",
       "      <th>Oct</th>\n",
       "      <th>Sep</th>\n",
       "    </tr>\n",
       "  </thead>\n",
       "  <tbody>\n",
       "    <tr>\n",
       "      <th>1995-01-31</th>\n",
       "      <td>1995</td>\n",
       "      <td>Jan</td>\n",
       "      <td>4.370</td>\n",
       "      <td>51.595</td>\n",
       "      <td>2.112</td>\n",
       "      <td>0.9803</td>\n",
       "      <td>-1.724471</td>\n",
       "      <td>-1.120740</td>\n",
       "      <td>-0.883649</td>\n",
       "      <td>0.747635</td>\n",
       "      <td>...</td>\n",
       "      <td>0</td>\n",
       "      <td>0</td>\n",
       "      <td>1</td>\n",
       "      <td>0</td>\n",
       "      <td>0</td>\n",
       "      <td>0</td>\n",
       "      <td>0</td>\n",
       "      <td>0</td>\n",
       "      <td>0</td>\n",
       "      <td>0</td>\n",
       "    </tr>\n",
       "    <tr>\n",
       "      <th>1995-02-28</th>\n",
       "      <td>1995</td>\n",
       "      <td>Feb</td>\n",
       "      <td>3.695</td>\n",
       "      <td>56.086</td>\n",
       "      <td>1.932</td>\n",
       "      <td>0.8924</td>\n",
       "      <td>-1.709277</td>\n",
       "      <td>-1.120548</td>\n",
       "      <td>-0.883646</td>\n",
       "      <td>0.658556</td>\n",
       "      <td>...</td>\n",
       "      <td>0</td>\n",
       "      <td>1</td>\n",
       "      <td>0</td>\n",
       "      <td>0</td>\n",
       "      <td>0</td>\n",
       "      <td>0</td>\n",
       "      <td>0</td>\n",
       "      <td>0</td>\n",
       "      <td>0</td>\n",
       "      <td>0</td>\n",
       "    </tr>\n",
       "    <tr>\n",
       "      <th>1995-03-31</th>\n",
       "      <td>1995</td>\n",
       "      <td>Mar</td>\n",
       "      <td>4.538</td>\n",
       "      <td>68.453</td>\n",
       "      <td>2.162</td>\n",
       "      <td>0.8924</td>\n",
       "      <td>-1.694084</td>\n",
       "      <td>-1.120226</td>\n",
       "      <td>-0.883641</td>\n",
       "      <td>0.771034</td>\n",
       "      <td>...</td>\n",
       "      <td>0</td>\n",
       "      <td>0</td>\n",
       "      <td>0</td>\n",
       "      <td>0</td>\n",
       "      <td>0</td>\n",
       "      <td>1</td>\n",
       "      <td>0</td>\n",
       "      <td>0</td>\n",
       "      <td>0</td>\n",
       "      <td>0</td>\n",
       "    </tr>\n",
       "    <tr>\n",
       "      <th>1995-04-30</th>\n",
       "      <td>1995</td>\n",
       "      <td>Apr</td>\n",
       "      <td>4.280</td>\n",
       "      <td>65.722</td>\n",
       "      <td>2.130</td>\n",
       "      <td>0.8967</td>\n",
       "      <td>-1.678890</td>\n",
       "      <td>-1.119776</td>\n",
       "      <td>-0.883630</td>\n",
       "      <td>0.756122</td>\n",
       "      <td>...</td>\n",
       "      <td>0</td>\n",
       "      <td>0</td>\n",
       "      <td>0</td>\n",
       "      <td>0</td>\n",
       "      <td>0</td>\n",
       "      <td>0</td>\n",
       "      <td>0</td>\n",
       "      <td>0</td>\n",
       "      <td>0</td>\n",
       "      <td>0</td>\n",
       "    </tr>\n",
       "    <tr>\n",
       "      <th>1995-05-31</th>\n",
       "      <td>1995</td>\n",
       "      <td>May</td>\n",
       "      <td>4.470</td>\n",
       "      <td>73.730</td>\n",
       "      <td>2.227</td>\n",
       "      <td>0.8967</td>\n",
       "      <td>-1.663696</td>\n",
       "      <td>-1.119198</td>\n",
       "      <td>-0.883612</td>\n",
       "      <td>0.800655</td>\n",
       "      <td>...</td>\n",
       "      <td>0</td>\n",
       "      <td>0</td>\n",
       "      <td>0</td>\n",
       "      <td>0</td>\n",
       "      <td>0</td>\n",
       "      <td>0</td>\n",
       "      <td>1</td>\n",
       "      <td>0</td>\n",
       "      <td>0</td>\n",
       "      <td>0</td>\n",
       "    </tr>\n",
       "    <tr>\n",
       "      <th>1995-06-30</th>\n",
       "      <td>1995</td>\n",
       "      <td>Jun</td>\n",
       "      <td>4.238</td>\n",
       "      <td>77.994</td>\n",
       "      <td>2.124</td>\n",
       "      <td>0.9160</td>\n",
       "      <td>-1.648503</td>\n",
       "      <td>-1.118491</td>\n",
       "      <td>-0.883585</td>\n",
       "      <td>0.753301</td>\n",
       "      <td>...</td>\n",
       "      <td>0</td>\n",
       "      <td>0</td>\n",
       "      <td>0</td>\n",
       "      <td>0</td>\n",
       "      <td>1</td>\n",
       "      <td>0</td>\n",
       "      <td>0</td>\n",
       "      <td>0</td>\n",
       "      <td>0</td>\n",
       "      <td>0</td>\n",
       "    </tr>\n",
       "    <tr>\n",
       "      <th>1995-07-31</th>\n",
       "      <td>1995</td>\n",
       "      <td>Jul</td>\n",
       "      <td>4.377</td>\n",
       "      <td>81.475</td>\n",
       "      <td>2.184</td>\n",
       "      <td>0.9160</td>\n",
       "      <td>-1.633309</td>\n",
       "      <td>-1.117656</td>\n",
       "      <td>-0.883547</td>\n",
       "      <td>0.781158</td>\n",
       "      <td>...</td>\n",
       "      <td>0</td>\n",
       "      <td>0</td>\n",
       "      <td>0</td>\n",
       "      <td>1</td>\n",
       "      <td>0</td>\n",
       "      <td>0</td>\n",
       "      <td>0</td>\n",
       "      <td>0</td>\n",
       "      <td>0</td>\n",
       "      <td>0</td>\n",
       "    </tr>\n",
       "    <tr>\n",
       "      <th>1995-08-31</th>\n",
       "      <td>1995</td>\n",
       "      <td>Aug</td>\n",
       "      <td>4.368</td>\n",
       "      <td>74.981</td>\n",
       "      <td>2.152</td>\n",
       "      <td>0.8934</td>\n",
       "      <td>-1.618116</td>\n",
       "      <td>-1.116692</td>\n",
       "      <td>-0.883497</td>\n",
       "      <td>0.766398</td>\n",
       "      <td>...</td>\n",
       "      <td>0</td>\n",
       "      <td>0</td>\n",
       "      <td>0</td>\n",
       "      <td>0</td>\n",
       "      <td>0</td>\n",
       "      <td>0</td>\n",
       "      <td>0</td>\n",
       "      <td>0</td>\n",
       "      <td>0</td>\n",
       "      <td>0</td>\n",
       "    </tr>\n",
       "    <tr>\n",
       "      <th>1995-09-30</th>\n",
       "      <td>1995</td>\n",
       "      <td>Sep</td>\n",
       "      <td>3.917</td>\n",
       "      <td>61.530</td>\n",
       "      <td>2.062</td>\n",
       "      <td>0.8934</td>\n",
       "      <td>-1.602922</td>\n",
       "      <td>-1.115600</td>\n",
       "      <td>-0.883433</td>\n",
       "      <td>0.723676</td>\n",
       "      <td>...</td>\n",
       "      <td>0</td>\n",
       "      <td>0</td>\n",
       "      <td>0</td>\n",
       "      <td>0</td>\n",
       "      <td>0</td>\n",
       "      <td>0</td>\n",
       "      <td>0</td>\n",
       "      <td>0</td>\n",
       "      <td>0</td>\n",
       "      <td>1</td>\n",
       "    </tr>\n",
       "    <tr>\n",
       "      <th>1995-10-31</th>\n",
       "      <td>1995</td>\n",
       "      <td>Oct</td>\n",
       "      <td>4.078</td>\n",
       "      <td>60.022</td>\n",
       "      <td>2.121</td>\n",
       "      <td>0.9434</td>\n",
       "      <td>-1.587729</td>\n",
       "      <td>-1.114379</td>\n",
       "      <td>-0.883353</td>\n",
       "      <td>0.751888</td>\n",
       "      <td>...</td>\n",
       "      <td>0</td>\n",
       "      <td>0</td>\n",
       "      <td>0</td>\n",
       "      <td>0</td>\n",
       "      <td>0</td>\n",
       "      <td>0</td>\n",
       "      <td>0</td>\n",
       "      <td>0</td>\n",
       "      <td>1</td>\n",
       "      <td>0</td>\n",
       "    </tr>\n",
       "    <tr>\n",
       "      <th>1995-11-30</th>\n",
       "      <td>1995</td>\n",
       "      <td>Nov</td>\n",
       "      <td>3.611</td>\n",
       "      <td>52.772</td>\n",
       "      <td>2.030</td>\n",
       "      <td>0.9434</td>\n",
       "      <td>-1.572535</td>\n",
       "      <td>-1.113029</td>\n",
       "      <td>-0.883255</td>\n",
       "      <td>0.708036</td>\n",
       "      <td>...</td>\n",
       "      <td>0</td>\n",
       "      <td>0</td>\n",
       "      <td>0</td>\n",
       "      <td>0</td>\n",
       "      <td>0</td>\n",
       "      <td>0</td>\n",
       "      <td>0</td>\n",
       "      <td>1</td>\n",
       "      <td>0</td>\n",
       "      <td>0</td>\n",
       "    </tr>\n",
       "    <tr>\n",
       "      <th>1995-12-31</th>\n",
       "      <td>1995</td>\n",
       "      <td>Dec</td>\n",
       "      <td>3.591</td>\n",
       "      <td>50.850</td>\n",
       "      <td>2.091</td>\n",
       "      <td>1.0811</td>\n",
       "      <td>-1.557341</td>\n",
       "      <td>-1.111551</td>\n",
       "      <td>-0.883138</td>\n",
       "      <td>0.737642</td>\n",
       "      <td>...</td>\n",
       "      <td>1</td>\n",
       "      <td>0</td>\n",
       "      <td>0</td>\n",
       "      <td>0</td>\n",
       "      <td>0</td>\n",
       "      <td>0</td>\n",
       "      <td>0</td>\n",
       "      <td>0</td>\n",
       "      <td>0</td>\n",
       "      <td>0</td>\n",
       "    </tr>\n",
       "  </tbody>\n",
       "</table>\n",
       "<p>12 rows × 22 columns</p>\n",
       "</div>"
      ],
      "text/plain": [
       "            Year Month  Cotagecheese.Prod  Icecream.Prod  Milk.Prod  \\\n",
       "1995-01-31  1995   Jan              4.370         51.595      2.112   \n",
       "1995-02-28  1995   Feb              3.695         56.086      1.932   \n",
       "1995-03-31  1995   Mar              4.538         68.453      2.162   \n",
       "1995-04-30  1995   Apr              4.280         65.722      2.130   \n",
       "1995-05-31  1995   May              4.470         73.730      2.227   \n",
       "1995-06-30  1995   Jun              4.238         77.994      2.124   \n",
       "1995-07-31  1995   Jul              4.377         81.475      2.184   \n",
       "1995-08-31  1995   Aug              4.368         74.981      2.152   \n",
       "1995-09-30  1995   Sep              3.917         61.530      2.062   \n",
       "1995-10-31  1995   Oct              4.078         60.022      2.121   \n",
       "1995-11-30  1995   Nov              3.611         52.772      2.030   \n",
       "1995-12-31  1995   Dec              3.591         50.850      2.091   \n",
       "\n",
       "            N.CA.Fat.Price  Month.Count  monthNumSqred  monthNumCubed  \\\n",
       "1995-01-31          0.9803    -1.724471      -1.120740      -0.883649   \n",
       "1995-02-28          0.8924    -1.709277      -1.120548      -0.883646   \n",
       "1995-03-31          0.8924    -1.694084      -1.120226      -0.883641   \n",
       "1995-04-30          0.8967    -1.678890      -1.119776      -0.883630   \n",
       "1995-05-31          0.8967    -1.663696      -1.119198      -0.883612   \n",
       "1995-06-30          0.9160    -1.648503      -1.118491      -0.883585   \n",
       "1995-07-31          0.9160    -1.633309      -1.117656      -0.883547   \n",
       "1995-08-31          0.8934    -1.618116      -1.116692      -0.883497   \n",
       "1995-09-30          0.8934    -1.602922      -1.115600      -0.883433   \n",
       "1995-10-31          0.9434    -1.587729      -1.114379      -0.883353   \n",
       "1995-11-30          0.9434    -1.572535      -1.113029      -0.883255   \n",
       "1995-12-31          1.0811    -1.557341      -1.111551      -0.883138   \n",
       "\n",
       "            Milk_log  ...  Dec  Feb  Jan  Jul  Jun  Mar  May  Nov  Oct  Sep  \n",
       "1995-01-31  0.747635  ...    0    0    1    0    0    0    0    0    0    0  \n",
       "1995-02-28  0.658556  ...    0    1    0    0    0    0    0    0    0    0  \n",
       "1995-03-31  0.771034  ...    0    0    0    0    0    1    0    0    0    0  \n",
       "1995-04-30  0.756122  ...    0    0    0    0    0    0    0    0    0    0  \n",
       "1995-05-31  0.800655  ...    0    0    0    0    0    0    1    0    0    0  \n",
       "1995-06-30  0.753301  ...    0    0    0    0    1    0    0    0    0    0  \n",
       "1995-07-31  0.781158  ...    0    0    0    1    0    0    0    0    0    0  \n",
       "1995-08-31  0.766398  ...    0    0    0    0    0    0    0    0    0    0  \n",
       "1995-09-30  0.723676  ...    0    0    0    0    0    0    0    0    0    1  \n",
       "1995-10-31  0.751888  ...    0    0    0    0    0    0    0    0    1    0  \n",
       "1995-11-30  0.708036  ...    0    0    0    0    0    0    0    1    0    0  \n",
       "1995-12-31  0.737642  ...    1    0    0    0    0    0    0    0    0    0  \n",
       "\n",
       "[12 rows x 22 columns]"
      ]
     },
     "execution_count": 23,
     "metadata": {},
     "output_type": "execute_result"
    }
   ],
   "source": [
    "## Print the head of the data frame to look at the dummy variables\n",
    "CADairy.head(12)"
   ]
  },
  {
   "cell_type": "markdown",
   "metadata": {},
   "source": [
    "It can be observed the features for modeling the trend and the dummy variables for the seasonal variation.\n",
    "<br>\n",
    "\n",
    "Next it is computed a linear model for coefficients of the trend and seasonal features folowing the steps:\n",
    "- Create Numpy arrays for the features and the label\n",
    "- Define and compute the model. It is not used an intercept since we have the seasonal component, which is a categorical \n",
    "feature and we have these dummy variables which are already binary variables.\n",
    "- Compute the predictions of the trend and seasonal values, then the residuals for these predictions."
   ]
  },
  {
   "cell_type": "code",
   "execution_count": 24,
   "metadata": {},
   "outputs": [],
   "source": [
    "import sklearn.linear_model as lm\n",
    "\n",
    "# Create Numpy arrays needed for scikit-learn for the features and the label\n",
    "# These are the trends components: the Month Count and Month Count squared and Month Count cubed\n",
    "# And then our seasonal that were the months of the year\n",
    "X = CADairy.loc[:'2012-12-31', ['Month.Count', 'monthNumSqred', 'monthNumCubed', 'Jan', 'Feb', 'Mar', 'Apr', 'May', 'Jun', 'Jul', 'Aug', 'Sep', 'Oct', 'Nov', 'Dec']].to_numpy()\n",
    "Y = CADairy.loc[:'2012-12-31', 'Milk_log'].to_numpy()   "
   ]
  },
  {
   "cell_type": "code",
   "execution_count": 25,
   "metadata": {},
   "outputs": [],
   "source": [
    "# Define and compute the model\n",
    "lm_mod = lm.LinearRegression(fit_intercept = False)\n",
    "mod_fit = lm_mod.fit(X, Y)"
   ]
  },
  {
   "cell_type": "code",
   "execution_count": 26,
   "metadata": {},
   "outputs": [],
   "source": [
    "# Compute the prediction for the model and add a new column to the data frame called scores\n",
    "CADairy.loc[:'2012-12-31', 'scores'] = mod_fit.predict(X)\n",
    "# Calculate residuals and add new column to the data frame called resids\n",
    "CADairy.loc[:'2012-12-31', 'resids'] = CADairy.loc[:'2012-12-31', 'scores'] - CADairy.loc[:'2012-12-31', 'Milk_log']"
   ]
  },
  {
   "cell_type": "code",
   "execution_count": null,
   "metadata": {},
   "outputs": [],
   "source": [
    "# Check the first rows in dataframe\n",
    "#CADairy.head()"
   ]
  },
  {
   "cell_type": "markdown",
   "metadata": {},
   "source": [
    "To see how the predicted trend and seasonal components fit the actual Milk production time series, below are plotted both the\n",
    "predicted and real values. The actual time series is plotted in red and the values predicted by the trend and seasonal model \n",
    "are plotted in blue. "
   ]
  },
  {
   "cell_type": "code",
   "execution_count": 27,
   "metadata": {},
   "outputs": [
    {
     "data": {
      "image/png": "[encoded data removed]",
      "text/plain": [
       "<Figure size 576x360 with 1 Axes>"
      ]
     },
     "metadata": {
      "needs_background": "light"
     },
     "output_type": "display_data"
    }
   ],
   "source": [
    "# Define function to plot the actual and predicted values\n",
    "def plot_mod_fit(df, col):\n",
    "    import matplotlib.pyplot as plt\n",
    "    fig = plt.figure(figsize=(8, 5))                                # Set plot area\n",
    "    ax = fig.gca()                                                  # Define axis  \n",
    "    df.loc[:, col].plot(color = 'r', ax = ax)\n",
    "    df.loc[:, 'scores'].plot(ax = ax) \n",
    "    ax.set_title('Actual ' + col + 'vs. the predicted values')      # Give the plot a main title\n",
    "    ax.set_xlabel('Date')                                           # Set text for the x axis\n",
    "    ax.set_ylabel(col)                                              # Set text for y axis\n",
    "\n",
    "plot_mod_fit(CADairy, 'Milk_log')  "
   ]
  },
  {
   "cell_type": "markdown",
   "metadata": {},
   "source": [
    "It can be observed that both the trend and seasonal components fit the actual data quite well. Only at the end of the series, \n",
    "the fit is not as good, which might be a problem because this is last 12 months period that we try to predict. \n",
    "<br>\n",
    "\n",
    "To see the error, it is calculated the __RMSE (Root Mean Squared Error) of the fit of the model for the last 12 months \n",
    "of the Milk production time series__."
   ]
  },
  {
   "cell_type": "code",
   "execution_count": 28,
   "metadata": {},
   "outputs": [
    {
     "data": {
      "text/plain": [
       "0.13524126222369068"
      ]
     },
     "execution_count": 28,
     "metadata": {},
     "output_type": "execute_result"
    }
   ],
   "source": [
    "# Define function to calculate the RMSE\n",
    "def RMSE(ts, score):\n",
    "    from math import sqrt\n",
    "    return sqrt(np.std(ts - score))\n",
    "\n",
    "## Make the forecast for the next year\n",
    "X = CADairy.loc['2012-12-31':, ['Month.Count', 'monthNumSqred', 'monthNumCubed', 'Jan', 'Feb', 'Mar', 'Apr', 'May', 'Jun', 'Jul', 'Aug', 'Sep', 'Oct', 'Nov', 'Dec']].to_numpy()\n",
    "RMSE(CADairy.loc['2012-12-31':, 'Milk_log'].to_numpy(), mod_fit.predict(X))"
   ]
  },
  {
   "cell_type": "markdown",
   "metadata": {},
   "source": [
    "__The RMSE value for the model with only the trend and sesonal components is 0.13__. \n",
    "<br>\n",
    "\n",
    "Next are plotted the time series plot and distribution plots of the residuals to check the model."
   ]
  },
  {
   "cell_type": "code",
   "execution_count": 29,
   "metadata": {},
   "outputs": [],
   "source": [
    "# Define function to plot the histogram and Q-Q Normal plot of the values of the time series\n",
    "def dist_ts(ts, lab = '', bins = 40):\n",
    "    import scipy.stats as ss\n",
    "    ## Setup a figure with two subplots side by side\n",
    "    f, (ax1, ax2) = plt.subplots(1, 2, figsize=(7, 3))\n",
    "    ## Plot the histogram with labels\n",
    "    ts.hist(ax = ax1, bins = bins, alpha = 0.5)\n",
    "    ax1.set_xlabel('Value')\n",
    "    ax1.set_ylabel('Frequency')\n",
    "    ax1.set_title('Histogram of ' + lab)\n",
    "    ## Plot the q-q plot on the other axes\n",
    "    ss.probplot(ts, plot = ax2) "
   ]
  },
  {
   "cell_type": "code",
   "execution_count": 30,
   "metadata": {},
   "outputs": [
    {
     "data": {
      "image/png": "[encoded data removed]",
      "text/plain": [
       "<Figure size 432x288 with 1 Axes>"
      ]
     },
     "metadata": {
      "needs_background": "light"
     },
     "output_type": "display_data"
    },
    {
     "data": {
      "image/png": "[encoded data removed]",
      "text/plain": [
       "<Figure size 504x216 with 2 Axes>"
      ]
     },
     "metadata": {
      "needs_background": "light"
     },
     "output_type": "display_data"
    }
   ],
   "source": [
    "# Plot the time series\n",
    "plot_ts(CADairy.loc[:'2012-12-31', 'resids'], title = 'Residual time series of log Milk production')\n",
    "# Plot the histogram and Q-Q Normal plot of the values of the time series\n",
    "dist_ts(CADairy.loc[:'2012-12-31', 'resids'], '\\n residual of trend and seasonal model')"
   ]
  },
  {
   "cell_type": "markdown",
   "metadata": {},
   "source": [
    "It can be noted that the residual looks pretty stationary. __The distribution plots of both the histogram \n",
    "and the QQ plot of residuals show the values to be close to Normally distributed__. The values are generally around zero, in \n",
    "the range between minus 0.05 and plus 0.05."
   ]
  },
  {
   "cell_type": "markdown",
   "metadata": {},
   "source": [
    "Next we want to find if the residual series is stationary by applying the Dicky Fuller test."
   ]
  },
  {
   "cell_type": "code",
   "execution_count": 31,
   "metadata": {},
   "outputs": [
    {
     "name": "stdout",
     "output_type": "stream",
     "text": [
      "D-F statistic = -4.629902367773566\n",
      "p-value = 0.00011373279240861113\n",
      "number of lags used = 0\n",
      "Critical value at 5% confidence = -2.875078880098608\n",
      "Critical value at 10% confidence = -2.5739861168199027\n"
     ]
    }
   ],
   "source": [
    "DF_Test(CADairy.loc[:'2012-12-31', 'resids'])"
   ]
  },
  {
   "cell_type": "markdown",
   "metadata": {},
   "source": [
    "The D-F test statistic is lower than the critical values of 5% and 10% and the p-value is less than the significance level \n",
    "of 0.05. So, we can __reject the null hypothesis and infer that the time series is stationary__."
   ]
  },
  {
   "cell_type": "markdown",
   "metadata": {},
   "source": [
    "The steps until now included creating a linear model of trend and seasonality that fit the actual data quite well, as the plot \n",
    "showed. __The distribution of the residuals is close to normal. The plot of the residuals series and the result of Dickey-Fuller\n",
    "test showed that residual series is stationary.__ <br>\n",
    "To make a better forecast, it is needed an __ARIMA component for the residual__. The model will be trained without the last 12 \n",
    "months of data, which will be used to evaluate the model. Below it it searched the best ARIMA model order."
   ]
  },
  {
   "cell_type": "code",
   "execution_count": 32,
   "metadata": {},
   "outputs": [
    {
     "name": "stdout",
     "output_type": "stream",
     "text": [
      "Testing model of order: (0, 0, 1) with BIC = -1103.4886428275638\n",
      "Testing model of order: (0, 0, 2) with BIC = -1147.857782947387\n",
      "Testing model of order: (0, 0, 3) with BIC = -1178.1580917838373\n",
      "Testing model of order: (0, 0, 4) with BIC = -1177.0042964063016\n",
      "Testing model of order: (0, 1, 1) with BIC = -1189.025327325722\n",
      "Testing model of order: (0, 1, 2) with BIC = -1184.7026263574312\n",
      "Testing model of order: (0, 1, 3) with BIC = -1180.7590742942605\n",
      "Testing model of order: (0, 1, 4) with BIC = -1178.8230783658348\n",
      "Testing model of order: (0, 2, 1) with BIC = -1173.4669644983412\n",
      "Testing model of order: (0, 2, 2) with BIC = -1171.4499368683878\n",
      "Testing model of order: (0, 2, 3) with BIC = -1166.9462208812647\n",
      "Testing model of order: (0, 2, 4) with BIC = -1162.8098375582942\n",
      "Testing model of order: (1, 0, 0) with BIC = -1209.6064524461403\n",
      "Testing model of order: (1, 0, 1) with BIC = -1204.5577163647893\n",
      "Testing model of order: (1, 0, 2) with BIC = -1199.2801689347716\n",
      "Testing model of order: (1, 0, 3) with BIC = -1193.9246905246493\n",
      "Testing model of order: (1, 0, 4) with BIC = -1189.5470817403093\n",
      "Testing model of order: (1, 1, 0) with BIC = -1188.5917739983836\n",
      "Testing model of order: (1, 1, 1) with BIC = -1195.728770052755\n",
      "Testing model of order: (1, 1, 2) with BIC = -1190.7687463320137\n",
      "Testing model of order: (1, 1, 3) with BIC = -1185.4557151309443\n",
      "Testing model of order: (1, 1, 4) with BIC = -1174.8653010403818\n",
      "Testing model of order: (1, 2, 0) with BIC = -1079.474139448943\n",
      "Testing model of order: (1, 2, 1) with BIC = -1171.084716800101\n"
     ]
    },
    {
     "name": "stderr",
     "output_type": "stream",
     "text": [
      "C:\\Users\\catif\\anaconda3\\lib\\site-packages\\statsmodels\\base\\model.py:548: HessianInversionWarning: Inverting hessian failed, no bse or cov_params available\n",
      "  'available', HessianInversionWarning)\n"
     ]
    },
    {
     "name": "stdout",
     "output_type": "stream",
     "text": [
      "Testing model of order: (1, 2, 2) with BIC = -1173.613330649735\n",
      "Testing model of order: (1, 2, 3) with BIC = -1161.9265103127734\n",
      "Testing model of order: (2, 0, 0) with BIC = -1204.5726170928672\n",
      "Testing model of order: (2, 0, 1) with BIC = -1199.2286363486326\n",
      "Testing model of order: (2, 0, 2) with BIC = -1193.9075274788295\n",
      "Testing model of order: (2, 0, 3) with BIC = -1189.6750244322875\n",
      "Testing model of order: (2, 0, 4) with BIC = -1186.158131334209\n",
      "Testing model of order: (2, 1, 0) with BIC = -1183.9146276085658\n",
      "Testing model of order: (2, 1, 1) with BIC = -1190.7828408245416\n",
      "Testing model of order: (2, 1, 2) with BIC = -1185.144179498652\n"
     ]
    },
    {
     "name": "stderr",
     "output_type": "stream",
     "text": [
      "C:\\Users\\catif\\anaconda3\\lib\\site-packages\\statsmodels\\base\\model.py:548: HessianInversionWarning: Inverting hessian failed, no bse or cov_params available\n",
      "  'available', HessianInversionWarning)\n",
      "C:\\Users\\catif\\anaconda3\\lib\\site-packages\\statsmodels\\base\\model.py:568: ConvergenceWarning: Maximum Likelihood optimization failed to converge. Check mle_retvals\n",
      "  \"Check mle_retvals\", ConvergenceWarning)\n"
     ]
    },
    {
     "name": "stdout",
     "output_type": "stream",
     "text": [
      "Testing model of order: (2, 1, 3) with BIC = -1184.351081858863\n",
      "Testing model of order: (2, 1, 4) with BIC = -1169.6247571162492\n",
      "Testing model of order: (2, 2, 0) with BIC = -1101.0243215270093\n",
      "Testing model of order: (2, 2, 1) with BIC = -1166.3055549731848\n",
      "Testing model of order: (2, 2, 2) with BIC = -1161.7685982122887\n"
     ]
    },
    {
     "name": "stderr",
     "output_type": "stream",
     "text": [
      "C:\\Users\\catif\\anaconda3\\lib\\site-packages\\statsmodels\\base\\model.py:548: HessianInversionWarning: Inverting hessian failed, no bse or cov_params available\n",
      "  'available', HessianInversionWarning)\n",
      "C:\\Users\\catif\\anaconda3\\lib\\site-packages\\statsmodels\\base\\model.py:568: ConvergenceWarning: Maximum Likelihood optimization failed to converge. Check mle_retvals\n",
      "  \"Check mle_retvals\", ConvergenceWarning)\n",
      "C:\\Users\\catif\\anaconda3\\lib\\site-packages\\statsmodels\\tsa\\tsatools.py:689: RuntimeWarning: overflow encountered in exp\n",
      "  newparams = ((1-np.exp(-params))/(1+np.exp(-params))).copy()\n",
      "C:\\Users\\catif\\anaconda3\\lib\\site-packages\\statsmodels\\tsa\\tsatools.py:689: RuntimeWarning: invalid value encountered in true_divide\n",
      "  newparams = ((1-np.exp(-params))/(1+np.exp(-params))).copy()\n",
      "C:\\Users\\catif\\anaconda3\\lib\\site-packages\\statsmodels\\tsa\\tsatools.py:690: RuntimeWarning: overflow encountered in exp\n",
      "  tmp = ((1-np.exp(-params))/(1+np.exp(-params))).copy()\n",
      "C:\\Users\\catif\\anaconda3\\lib\\site-packages\\statsmodels\\tsa\\tsatools.py:690: RuntimeWarning: invalid value encountered in true_divide\n",
      "  tmp = ((1-np.exp(-params))/(1+np.exp(-params))).copy()\n"
     ]
    },
    {
     "name": "stdout",
     "output_type": "stream",
     "text": [
      "Testing model of order: (2, 2, 3) with BIC = -1169.882130522421\n"
     ]
    },
    {
     "name": "stderr",
     "output_type": "stream",
     "text": [
      "C:\\Users\\catif\\anaconda3\\lib\\site-packages\\statsmodels\\base\\model.py:548: HessianInversionWarning: Inverting hessian failed, no bse or cov_params available\n",
      "  'available', HessianInversionWarning)\n"
     ]
    },
    {
     "name": "stdout",
     "output_type": "stream",
     "text": [
      "Testing model of order: (2, 2, 4) with BIC = -1155.5661979423066\n",
      "Testing model of order: (3, 0, 0) with BIC = -1199.2661566171766\n",
      "Testing model of order: (3, 0, 1) with BIC = -1193.891527747027\n",
      "Testing model of order: (3, 0, 2) with BIC = -1198.2435898144663\n",
      "Testing model of order: (3, 0, 3) with BIC = -1186.1070015580012\n",
      "Testing model of order: (3, 0, 4) with BIC = -1181.6926442715678\n",
      "Testing model of order: (3, 1, 0) with BIC = -1179.4869234924302\n",
      "Testing model of order: (3, 1, 1) with BIC = -1185.4505154418246\n",
      "Testing model of order: (3, 1, 2) with BIC = -1180.738820121941\n"
     ]
    },
    {
     "name": "stderr",
     "output_type": "stream",
     "text": [
      "C:\\Users\\catif\\anaconda3\\lib\\site-packages\\statsmodels\\base\\model.py:548: HessianInversionWarning: Inverting hessian failed, no bse or cov_params available\n",
      "  'available', HessianInversionWarning)\n"
     ]
    },
    {
     "name": "stdout",
     "output_type": "stream",
     "text": [
      "Testing model of order: (3, 1, 3) with BIC = -1180.6630420607191\n"
     ]
    },
    {
     "name": "stderr",
     "output_type": "stream",
     "text": [
      "C:\\Users\\catif\\anaconda3\\lib\\site-packages\\statsmodels\\base\\model.py:548: HessianInversionWarning: Inverting hessian failed, no bse or cov_params available\n",
      "  'available', HessianInversionWarning)\n"
     ]
    },
    {
     "name": "stdout",
     "output_type": "stream",
     "text": [
      "Testing model of order: (3, 1, 4) with BIC = -1180.5680290743946\n",
      "Testing model of order: (3, 2, 0) with BIC = -1104.9509574960634\n",
      "Testing model of order: (3, 2, 1) with BIC = -1161.7584046179247\n",
      "Testing model of order: (3, 2, 2) with BIC = -1156.4027945519151\n"
     ]
    },
    {
     "name": "stderr",
     "output_type": "stream",
     "text": [
      "C:\\Users\\catif\\anaconda3\\lib\\site-packages\\statsmodels\\base\\model.py:548: HessianInversionWarning: Inverting hessian failed, no bse or cov_params available\n",
      "  'available', HessianInversionWarning)\n"
     ]
    },
    {
     "name": "stdout",
     "output_type": "stream",
     "text": [
      "Testing model of order: (3, 2, 3) with BIC = -1153.7611106103718\n"
     ]
    },
    {
     "name": "stderr",
     "output_type": "stream",
     "text": [
      "C:\\Users\\catif\\anaconda3\\lib\\site-packages\\statsmodels\\base\\model.py:548: HessianInversionWarning: Inverting hessian failed, no bse or cov_params available\n",
      "  'available', HessianInversionWarning)\n"
     ]
    },
    {
     "name": "stdout",
     "output_type": "stream",
     "text": [
      "Testing model of order: (3, 2, 4) with BIC = -1149.8379374452131\n",
      "Testing model of order: (4, 0, 0) with BIC = -1193.8967294058918\n",
      "Testing model of order: (4, 0, 1) with BIC = -1190.1867452845427\n",
      "Testing model of order: (4, 0, 2) with BIC = -1199.1313041502954\n",
      "Testing model of order: (4, 0, 3) with BIC = -1189.4688348232567\n",
      "Testing model of order: (4, 0, 4) with BIC = -1185.1525233281943\n",
      "Testing model of order: (4, 1, 0) with BIC = -1178.3575026054916\n",
      "Testing model of order: (4, 1, 1) with BIC = -1174.4355692554918\n",
      "Testing model of order: (4, 1, 2) with BIC = -1169.1305316033256\n"
     ]
    },
    {
     "name": "stderr",
     "output_type": "stream",
     "text": [
      "C:\\Users\\catif\\anaconda3\\lib\\site-packages\\statsmodels\\base\\model.py:548: HessianInversionWarning: Inverting hessian failed, no bse or cov_params available\n",
      "  'available', HessianInversionWarning)\n",
      "C:\\Users\\catif\\anaconda3\\lib\\site-packages\\statsmodels\\base\\model.py:568: ConvergenceWarning: Maximum Likelihood optimization failed to converge. Check mle_retvals\n",
      "  \"Check mle_retvals\", ConvergenceWarning)\n"
     ]
    },
    {
     "name": "stdout",
     "output_type": "stream",
     "text": [
      "Testing model of order: (4, 1, 3) with BIC = -1177.7075768100874\n"
     ]
    },
    {
     "name": "stderr",
     "output_type": "stream",
     "text": [
      "C:\\Users\\catif\\anaconda3\\lib\\site-packages\\statsmodels\\base\\model.py:548: HessianInversionWarning: Inverting hessian failed, no bse or cov_params available\n",
      "  'available', HessianInversionWarning)\n"
     ]
    },
    {
     "name": "stdout",
     "output_type": "stream",
     "text": [
      "Testing model of order: (4, 1, 4) with BIC = -1170.3940798828899\n",
      "Testing model of order: (4, 2, 0) with BIC = -1125.7915503117\n",
      "Testing model of order: (4, 2, 1) with BIC = -1160.37365067184\n",
      "Testing model of order: (4, 2, 2) with BIC = -1156.5377314005418\n",
      "Testing model of order: (4, 2, 3) with BIC = -1151.264914981595\n",
      "Testing model of order: (4, 2, 4) with BIC = -1150.1992256481237\n",
      "Best order = (1, 0, 0) best BIC = -1209.6064524461403\n"
     ]
    },
    {
     "name": "stderr",
     "output_type": "stream",
     "text": [
      "C:\\Users\\catif\\anaconda3\\lib\\site-packages\\statsmodels\\base\\model.py:548: HessianInversionWarning: Inverting hessian failed, no bse or cov_params available\n",
      "  'available', HessianInversionWarning)\n"
     ]
    }
   ],
   "source": [
    "# Use the step_ARIMA function with maximum orders of 4, 3, 4\n",
    "BIC, order, model_fit = step_ARIMA(CADairy.loc[:'2012-12-31', 'resids'], 4, 3, 4)    \n",
    "print('Best order = ' + str(order) + ' best BIC = ' + str(BIC))"
   ]
  },
  {
   "cell_type": "markdown",
   "metadata": {},
   "source": [
    "The best model found is (1, 0, 0) and it has BIC = -1209.6064524461403. <br>\n",
    "We will use this model to test how well it computes on its own."
   ]
  },
  {
   "cell_type": "code",
   "execution_count": 33,
   "metadata": {},
   "outputs": [
    {
     "name": "stdout",
     "output_type": "stream",
     "text": [
      "                              ARMA Model Results                              \n",
      "==============================================================================\n",
      "Dep. Variable:                 resids   No. Observations:                  216\n",
      "Model:                     ARMA(1, 0)   Log Likelihood                 610.179\n",
      "Method:                           mle   S.D. of innovations              0.014\n",
      "Date:                Wed, 18 Nov 2020   AIC                          -1216.357\n",
      "Time:                        13:56:59   BIC                          -1209.606\n",
      "Sample:                    01-31-1995   HQIC                         -1213.630\n",
      "                         - 12-31-2012                                         \n",
      "================================================================================\n",
      "                   coef    std err          z      P>|z|      [0.025      0.975]\n",
      "--------------------------------------------------------------------------------\n",
      "ar.L1.resids     0.8248      0.038     21.617      0.000       0.750       0.900\n",
      "                                    Roots                                    \n",
      "=============================================================================\n",
      "                  Real          Imaginary           Modulus         Frequency\n",
      "-----------------------------------------------------------------------------\n",
      "AR.1            1.2123           +0.0000j            1.2123            0.0000\n",
      "-----------------------------------------------------------------------------\n"
     ]
    }
   ],
   "source": [
    "arima_remainder = model_ARIMA(CADairy.loc[:'2012-12-31', 'resids'], order = (1, 0, 0))"
   ]
  },
  {
   "cell_type": "markdown",
   "metadata": {},
   "source": [
    "Observations:\n",
    "- The p-value of the coefficient is very small.\n",
    "- The confidence intervals for the coefficient do not include zero, so the coefficient is significant.\n",
    "- The standard error of the AR coefficient is very small in magnitude than the coefficient themselves.\n",
    "- There is no warning method about being unstable.\n",
    "<br>\n",
    "\n",
    "Based on these observations, this is the best model that will be used to compute an ARIMA model. Then the model will be used\n",
    "to make predictions for the last 12 months of the Milk production time series. <br>\n",
    "Now will be combined all three components to try to make a better forecast. First will make predictions from\n",
    "the ARIMA model for the 12 months from the start of 2013. For this it is used the predict method, with a start index and an end\n",
    "index for the model."
   ]
  },
  {
   "cell_type": "code",
   "execution_count": 34,
   "metadata": {},
   "outputs": [
    {
     "data": {
      "text/plain": [
       "2013-01-31   -0.003742\n",
       "2013-02-28   -0.003087\n",
       "2013-03-31   -0.002546\n",
       "2013-04-30   -0.002100\n",
       "2013-05-31   -0.001732\n",
       "2013-06-30   -0.001429\n",
       "2013-07-31   -0.001179\n",
       "2013-08-31   -0.000972\n",
       "2013-09-30   -0.000802\n",
       "2013-10-31   -0.000661\n",
       "2013-11-30   -0.000546\n",
       "2013-12-31   -0.000450\n",
       "2014-01-31   -0.000371\n",
       "Freq: M, dtype: float64"
      ]
     },
     "execution_count": 34,
     "metadata": {},
     "output_type": "execute_result"
    }
   ],
   "source": [
    "start_index = len(CADairy.loc[:'2012-12-31', 'resids'])\n",
    "end_index = start_index + 12\n",
    "model_prediction = model_fit.predict(start=start_index, end=end_index)\n",
    "model_prediction"
   ]
  },
  {
   "cell_type": "markdown",
   "metadata": {},
   "source": [
    "Predictions look like a series of small numbers. \n",
    "<br>\n",
    "\n",
    "Next we make a prediction for the last 12 months of the log of the Milk production time series using the features from\n",
    "the regression model. The prediction is the combination of the trend, seasonal, and residual (ARIMA) models."
   ]
  },
  {
   "cell_type": "code",
   "execution_count": 35,
   "metadata": {},
   "outputs": [],
   "source": [
    "## Make the forecast for the next year\n",
    "\n",
    "# The trends components: 'Month.Count', 'monthNumSqred', 'monthNumCubed'\n",
    "# The seasonal component: the months of the year\n",
    "X = CADairy.loc['2012-12-31':, ['Month.Count', 'monthNumSqred', 'monthNumCubed', 'Jan', 'Feb', 'Mar', 'Apr', 'May', 'Jun', 'Jul', 'Aug', 'Sep', 'Oct', 'Nov', 'Dec']].to_numpy()\n",
    "\n",
    "## The predictions for the forecast\n",
    "# The reason there's a minus before the model_prediction is just because of the sign of the predictions, they are negative. \n",
    "# So we actually take a difference there. But the sign isn't so important.\n",
    "CADairy.loc['2012-12-31':, 'scores'] =  mod_fit.predict(X) - model_prediction"
   ]
  },
  {
   "cell_type": "code",
   "execution_count": null,
   "metadata": {},
   "outputs": [],
   "source": [
    "# CADairy.head()"
   ]
  },
  {
   "cell_type": "markdown",
   "metadata": {},
   "source": [
    "Next we plot the actual time series (in red) and the prediction (in blue)."
   ]
  },
  {
   "cell_type": "code",
   "execution_count": 36,
   "metadata": {},
   "outputs": [
    {
     "data": {
      "image/png": "[encoded data removed]",
      "text/plain": [
       "<Figure size 576x360 with 1 Axes>"
      ]
     },
     "metadata": {
      "needs_background": "light"
     },
     "output_type": "display_data"
    }
   ],
   "source": [
    "# So we're going to plot the difference there\n",
    "plot_mod_fit(CADairy, 'Milk_log') "
   ]
  },
  {
   "cell_type": "markdown",
   "metadata": {},
   "source": [
    "It can be noted that the forecast looks reasonable, relatively well fit. The actual time series in red, looks very similar\n",
    "with the prediction in blue, for the last 12 months."
   ]
  },
  {
   "cell_type": "markdown",
   "metadata": {},
   "source": [
    "Below it is computed the RMSE and compared to the model with only trend and seasonal component."
   ]
  },
  {
   "cell_type": "code",
   "execution_count": 37,
   "metadata": {},
   "outputs": [
    {
     "data": {
      "text/plain": [
       "0.23557847613621202"
      ]
     },
     "execution_count": 37,
     "metadata": {},
     "output_type": "execute_result"
    }
   ],
   "source": [
    "RMSE(CADairy.loc['2012-12-31':, 'Milk_log'].to_numpy(), CADairy.loc['2012-12-31':, 'scores'])"
   ]
  },
  {
   "cell_type": "markdown",
   "metadata": {},
   "source": [
    "The model with the trend and seasonal components plus an ARIMA model for residual has an RMSE value of 0.23. This value is \n",
    "higher then RMSE of 0.13 for the model with only the trend and sesonal components. It seems that in this case, \n",
    "adding an ARIMA component did not improve the model prediction."
   ]
  },
  {
   "cell_type": "markdown",
   "metadata": {},
   "source": [
    "__Summary:__\n",
    "    \n",
    "It was computed model a using ordinary linear regression for the trend, and the months of the year as the seasonal component. \n",
    "It was taken the remaider of that and computed an ARIMA model, then were made predictions from that ARIMA model. There were\n",
    "made predictions also from the seasonal and trend model. The results for RMSE showed that adding an ARIMA component for the\n",
    "residual did not help making a better forecast."
   ]
  },
  {
   "cell_type": "code",
   "execution_count": null,
   "metadata": {},
   "outputs": [],
   "source": []
  }
 ],
 "metadata": {
  "kernelspec": {
   "display_name": "Python 3 (ipykernel)",
   "language": "python",
   "name": "python3"
  },
  "language_info": {
   "codemirror_mode": {
    "name": "ipython",
    "version": 3
   },
   "file_extension": ".py",
   "mimetype": "text/x-python",
   "name": "python",
   "nbconvert_exporter": "python",
   "pygments_lexer": "ipython3",
   "version": "3.9.12"
  }
 },
 "nbformat": 4,
 "nbformat_minor": 1
}
