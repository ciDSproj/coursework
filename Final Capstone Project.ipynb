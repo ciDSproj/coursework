{
 "cells": [
  {
   "cell_type": "markdown",
   "metadata": {},
   "source": [
    "# Capstone Project\n",
    "## Author - Catalina Ifrim"
   ]
  },
  {
   "cell_type": "code",
   "execution_count": null,
   "metadata": {},
   "outputs": [],
   "source": [
    "\"\"\"\n",
    "UW DATASCI420-Machine Learning Techniques\n",
    "Milestone3-Capstone_Final_Project\n",
    "\n",
    "\"\"\""
   ]
  },
  {
   "cell_type": "markdown",
   "metadata": {},
   "source": [
    "### Instructions\n",
    "\n",
    "Milestone 3 continues your work with the diaper manufacturing problem, using the same datasets:\n",
    "- a dataset file **SECOM** containing **1567 examples**, each with **591 features**, presented in a 1567 x 591 matrix\n",
    "- a labels file listing the classifications and date time stamp for each example\n",
    "\n",
    "Create a new notebook and perform each of the following tasks and answer the related questions:\n",
    "\n",
    "1. **Build a simple neural networks model**\n",
    "2. **Build a DNN model**\n",
    "3. **Build a RNN model**\n",
    "4. Summarize your findings with examples.  Explain what the manufacturer should focus on to optimize the diaper manufacturing\n",
    "process.\n",
    "5. Solicit specific feedback on your code "
   ]
  },
  {
   "cell_type": "markdown",
   "metadata": {},
   "source": [
    "### Dataset Description\n",
    "\n",
    "The SECOM dataset is located at https://archive.ics.uci.edu/ml/machine-learning-databases/secom/ and consists of two files:\n",
    "- a dataset file SECOM containing 1567 examples, each with 591 features, presented in a 1567 x 591 matrix\n",
    "- a labels file listing the classifications and date time stamp for each example\n",
    "\n",
    "\n",
    "A complex modern semi-conductor manufacturing process is normally under consistent surveillance via the monitoring of \n",
    "signals/variables collected from sensors and or process measurement points. However, not all of these signals are equally \n",
    "valuable in a specific monitoring system. The measured signals contain a combination of useful information, irrelevant \n",
    "information as well as noise. It is often the case that useful information is buried in the latter two. Engineers typically \n",
    "have a much larger number of signals than are actually required.\n",
    "\n",
    "The dataset presented in this case represents a selection of such features where each example represents a single production \n",
    "entity with associated measured features. The labels represent a simple pass/fail yield for in house line testing and \n",
    "associated date time stamp. For the labels, –1 corresponds to a Pass and 1 corresponds to a Fail and the data time stamp is \n",
    "for that specific test point."
   ]
  },
  {
   "cell_type": "code",
   "execution_count": 1,
   "metadata": {},
   "outputs": [],
   "source": [
    "# Import libraries\n",
    "import pandas as pd\n",
    "import numpy as np\n",
    "import matplotlib\n",
    "import matplotlib.pyplot as plt\n",
    "from pandas import DataFrame\n",
    "from pandas import concat\n",
    "import seaborn as sns\n",
    "from sklearn import preprocessing\n",
    "from collections import Counter\n",
    "from imblearn.over_sampling import SMOTE\n",
    "from sklearn.impute import SimpleImputer\n",
    "from sklearn.model_selection import train_test_split\n",
    "from sklearn.metrics import confusion_matrix\n",
    "from sklearn.metrics import *\n",
    "from sklearn.neural_network import MLPClassifier\n",
    "import tensorflow as tf\n",
    "from tensorflow import keras\n",
    "from tensorflow.keras.models import Sequential\n",
    "from tensorflow.keras.layers import Dense, Dropout, Conv2D, MaxPool2D, Flatten, LSTM\n",
    "\n",
    "%matplotlib inline"
   ]
  },
  {
   "cell_type": "markdown",
   "metadata": {},
   "source": [
    "### Read and merge data"
   ]
  },
  {
   "cell_type": "code",
   "execution_count": 2,
   "metadata": {},
   "outputs": [],
   "source": [
    "# Load dataset\n",
    "\n",
    "# Read the secom_data dataset as pandas dataframe and give names to the columns\n",
    "url = \"https://archive.ics.uci.edu/ml/machine-learning-databases/secom/secom.data\"\n",
    "names = [\"Signal\" + str(x) for x in range(0, 590)]\n",
    "secom_var = pd.read_csv(url, sep=\" \", names=names, na_values = \"NaN\")\n",
    "\n",
    "# Read the secom_labels dataset as pandas dataframe\n",
    "url_l = \"https://archive.ics.uci.edu/ml/machine-learning-databases/secom/secom_labels.data\"\n",
    "secom_labels = pd.read_csv(url_l,sep=\" \",names = [\"Target\",\"Date\"],parse_dates = [\"Date\"],na_values = \"NaN\")"
   ]
  },
  {
   "cell_type": "markdown",
   "metadata": {},
   "source": [
    "The dataset is loaded and created the secom_var dataframe, giving names to the columns \"Signal\" from 0 to 589. There are also\n",
    "recognized missing values (strings) as NaNs. For the secom_labels dataframe, the initial column of type object is split in \n",
    "two columns: an integer Target column and a datetime Date column. The Target column has two values: -1 (Pass) and 1 (Fail). \n",
    "The Date column contains the time stamp for each observation. <br>\n",
    "The datasets are merged below, then printed the shape of the resulting dataframe and the first few rows."
   ]
  },
  {
   "cell_type": "code",
   "execution_count": 3,
   "metadata": {},
   "outputs": [
    {
     "name": "stdout",
     "output_type": "stream",
     "text": [
      "(1567, 592)\n"
     ]
    },
    {
     "data": {
      "text/html": [
       "<div>\n",
       "<style scoped>\n",
       "    .dataframe tbody tr th:only-of-type {\n",
       "        vertical-align: middle;\n",
       "    }\n",
       "\n",
       "    .dataframe tbody tr th {\n",
       "        vertical-align: top;\n",
       "    }\n",
       "\n",
       "    .dataframe thead th {\n",
       "        text-align: right;\n",
       "    }\n",
       "</style>\n",
       "<table border=\"1\" class=\"dataframe\">\n",
       "  <thead>\n",
       "    <tr style=\"text-align: right;\">\n",
       "      <th></th>\n",
       "      <th>Signal0</th>\n",
       "      <th>Signal1</th>\n",
       "      <th>Signal2</th>\n",
       "      <th>Signal3</th>\n",
       "      <th>Signal4</th>\n",
       "      <th>Signal5</th>\n",
       "      <th>Signal6</th>\n",
       "      <th>Signal7</th>\n",
       "      <th>Signal8</th>\n",
       "      <th>Signal9</th>\n",
       "      <th>...</th>\n",
       "      <th>Signal582</th>\n",
       "      <th>Signal583</th>\n",
       "      <th>Signal584</th>\n",
       "      <th>Signal585</th>\n",
       "      <th>Signal586</th>\n",
       "      <th>Signal587</th>\n",
       "      <th>Signal588</th>\n",
       "      <th>Signal589</th>\n",
       "      <th>Target</th>\n",
       "      <th>Date</th>\n",
       "    </tr>\n",
       "  </thead>\n",
       "  <tbody>\n",
       "    <tr>\n",
       "      <th>0</th>\n",
       "      <td>3030.93</td>\n",
       "      <td>2564.00</td>\n",
       "      <td>2187.7333</td>\n",
       "      <td>1411.1265</td>\n",
       "      <td>1.3602</td>\n",
       "      <td>100.0</td>\n",
       "      <td>97.6133</td>\n",
       "      <td>0.1242</td>\n",
       "      <td>1.5005</td>\n",
       "      <td>0.0162</td>\n",
       "      <td>...</td>\n",
       "      <td>0.5005</td>\n",
       "      <td>0.0118</td>\n",
       "      <td>0.0035</td>\n",
       "      <td>2.3630</td>\n",
       "      <td>NaN</td>\n",
       "      <td>NaN</td>\n",
       "      <td>NaN</td>\n",
       "      <td>NaN</td>\n",
       "      <td>-1</td>\n",
       "      <td>2008-07-19 11:55:00</td>\n",
       "    </tr>\n",
       "    <tr>\n",
       "      <th>1</th>\n",
       "      <td>3095.78</td>\n",
       "      <td>2465.14</td>\n",
       "      <td>2230.4222</td>\n",
       "      <td>1463.6606</td>\n",
       "      <td>0.8294</td>\n",
       "      <td>100.0</td>\n",
       "      <td>102.3433</td>\n",
       "      <td>0.1247</td>\n",
       "      <td>1.4966</td>\n",
       "      <td>-0.0005</td>\n",
       "      <td>...</td>\n",
       "      <td>0.5019</td>\n",
       "      <td>0.0223</td>\n",
       "      <td>0.0055</td>\n",
       "      <td>4.4447</td>\n",
       "      <td>0.0096</td>\n",
       "      <td>0.0201</td>\n",
       "      <td>0.0060</td>\n",
       "      <td>208.2045</td>\n",
       "      <td>-1</td>\n",
       "      <td>2008-07-19 12:32:00</td>\n",
       "    </tr>\n",
       "    <tr>\n",
       "      <th>2</th>\n",
       "      <td>2932.61</td>\n",
       "      <td>2559.94</td>\n",
       "      <td>2186.4111</td>\n",
       "      <td>1698.0172</td>\n",
       "      <td>1.5102</td>\n",
       "      <td>100.0</td>\n",
       "      <td>95.4878</td>\n",
       "      <td>0.1241</td>\n",
       "      <td>1.4436</td>\n",
       "      <td>0.0041</td>\n",
       "      <td>...</td>\n",
       "      <td>0.4958</td>\n",
       "      <td>0.0157</td>\n",
       "      <td>0.0039</td>\n",
       "      <td>3.1745</td>\n",
       "      <td>0.0584</td>\n",
       "      <td>0.0484</td>\n",
       "      <td>0.0148</td>\n",
       "      <td>82.8602</td>\n",
       "      <td>1</td>\n",
       "      <td>2008-07-19 13:17:00</td>\n",
       "    </tr>\n",
       "    <tr>\n",
       "      <th>3</th>\n",
       "      <td>2988.72</td>\n",
       "      <td>2479.90</td>\n",
       "      <td>2199.0333</td>\n",
       "      <td>909.7926</td>\n",
       "      <td>1.3204</td>\n",
       "      <td>100.0</td>\n",
       "      <td>104.2367</td>\n",
       "      <td>0.1217</td>\n",
       "      <td>1.4882</td>\n",
       "      <td>-0.0124</td>\n",
       "      <td>...</td>\n",
       "      <td>0.4990</td>\n",
       "      <td>0.0103</td>\n",
       "      <td>0.0025</td>\n",
       "      <td>2.0544</td>\n",
       "      <td>0.0202</td>\n",
       "      <td>0.0149</td>\n",
       "      <td>0.0044</td>\n",
       "      <td>73.8432</td>\n",
       "      <td>-1</td>\n",
       "      <td>2008-07-19 14:43:00</td>\n",
       "    </tr>\n",
       "    <tr>\n",
       "      <th>4</th>\n",
       "      <td>3032.24</td>\n",
       "      <td>2502.87</td>\n",
       "      <td>2233.3667</td>\n",
       "      <td>1326.5200</td>\n",
       "      <td>1.5334</td>\n",
       "      <td>100.0</td>\n",
       "      <td>100.3967</td>\n",
       "      <td>0.1235</td>\n",
       "      <td>1.5031</td>\n",
       "      <td>-0.0031</td>\n",
       "      <td>...</td>\n",
       "      <td>0.4800</td>\n",
       "      <td>0.4766</td>\n",
       "      <td>0.1045</td>\n",
       "      <td>99.3032</td>\n",
       "      <td>0.0202</td>\n",
       "      <td>0.0149</td>\n",
       "      <td>0.0044</td>\n",
       "      <td>73.8432</td>\n",
       "      <td>-1</td>\n",
       "      <td>2008-07-19 15:22:00</td>\n",
       "    </tr>\n",
       "  </tbody>\n",
       "</table>\n",
       "<p>5 rows × 592 columns</p>\n",
       "</div>"
      ],
      "text/plain": [
       "   Signal0  Signal1    Signal2    Signal3  Signal4  Signal5   Signal6  \\\n",
       "0  3030.93  2564.00  2187.7333  1411.1265   1.3602    100.0   97.6133   \n",
       "1  3095.78  2465.14  2230.4222  1463.6606   0.8294    100.0  102.3433   \n",
       "2  2932.61  2559.94  2186.4111  1698.0172   1.5102    100.0   95.4878   \n",
       "3  2988.72  2479.90  2199.0333   909.7926   1.3204    100.0  104.2367   \n",
       "4  3032.24  2502.87  2233.3667  1326.5200   1.5334    100.0  100.3967   \n",
       "\n",
       "   Signal7  Signal8  Signal9  ...  Signal582  Signal583  Signal584  Signal585  \\\n",
       "0   0.1242   1.5005   0.0162  ...     0.5005     0.0118     0.0035     2.3630   \n",
       "1   0.1247   1.4966  -0.0005  ...     0.5019     0.0223     0.0055     4.4447   \n",
       "2   0.1241   1.4436   0.0041  ...     0.4958     0.0157     0.0039     3.1745   \n",
       "3   0.1217   1.4882  -0.0124  ...     0.4990     0.0103     0.0025     2.0544   \n",
       "4   0.1235   1.5031  -0.0031  ...     0.4800     0.4766     0.1045    99.3032   \n",
       "\n",
       "   Signal586  Signal587  Signal588  Signal589  Target                Date  \n",
       "0        NaN        NaN        NaN        NaN      -1 2008-07-19 11:55:00  \n",
       "1     0.0096     0.0201     0.0060   208.2045      -1 2008-07-19 12:32:00  \n",
       "2     0.0584     0.0484     0.0148    82.8602       1 2008-07-19 13:17:00  \n",
       "3     0.0202     0.0149     0.0044    73.8432      -1 2008-07-19 14:43:00  \n",
       "4     0.0202     0.0149     0.0044    73.8432      -1 2008-07-19 15:22:00  \n",
       "\n",
       "[5 rows x 592 columns]"
      ]
     },
     "execution_count": 3,
     "metadata": {},
     "output_type": "execute_result"
    }
   ],
   "source": [
    "# Merge datasets\n",
    "secom_merged = pd.merge(secom_var, secom_labels, left_index=True, right_index=True)\n",
    "\n",
    "print(secom_merged.shape)\n",
    "secom_merged.head()"
   ]
  },
  {
   "cell_type": "code",
   "execution_count": null,
   "metadata": {},
   "outputs": [],
   "source": [
    "# Check datatypes\n",
    "#secom_merged.dtypes\n",
    "\n",
    "# Print statistics\n",
    "#secom_merged.describe()"
   ]
  },
  {
   "cell_type": "markdown",
   "metadata": {},
   "source": [
    "There are 1567 observations and 591 columns in the dataset. All numeric columns are of type float64, Target column is of\n",
    "type integer and Date is datetime type. It can be noted that the dataframe has missing values marked with NaNs. <br>\n",
    "The statistics show that some columns have a big range of values, for example, column 'Signal4' has a min of 0.68 and a max of\n",
    "1114.54. Some other columns have a standard deviation of 0, so they are constant, like column \"Signal5\"."
   ]
  },
  {
   "cell_type": "markdown",
   "metadata": {},
   "source": [
    "### Data cleaning and preparation"
   ]
  },
  {
   "cell_type": "markdown",
   "metadata": {},
   "source": [
    "#### Replace missing values"
   ]
  },
  {
   "cell_type": "markdown",
   "metadata": {},
   "source": [
    "Most of the columns have missing values marked as NaN, except the Target and Date. Below it is created a dataframe containing \n",
    "only the numeric attributes. The missing values are imputed with the mean of the remaining values in the column using the \n",
    "SimpleImputer class from sklearn."
   ]
  },
  {
   "cell_type": "code",
   "execution_count": 4,
   "metadata": {},
   "outputs": [],
   "source": [
    "# Check the NaNs values in the dataframe\n",
    "#secom_merged.isnull().sum()\n",
    "\n",
    "# Create a dataframe only with attributes\n",
    "secom_data = secom_merged.iloc[:, 0:590]\n",
    "# Create a dataframe only wit Target and Date\n",
    "secom_target = secom_merged.iloc[:, 590:]\n",
    "\n",
    "# Check the first rows\n",
    "#secom_data.head()\n",
    "\n",
    "# Call SimpleImputer to replace missing values with the mean of the remaining values\n",
    "imp = SimpleImputer(strategy=\"mean\")\n",
    "secom_imputed = imp.fit_transform(secom_data)    # impute data in secom_data frame\n",
    "\n",
    "# Cast the np array secom_imputed to Pandas dataframe\n",
    "secom_imputed = pd.DataFrame(secom_imputed, columns = [\"Signal\" + str(x) for x in range(0, 590)])"
   ]
  },
  {
   "cell_type": "markdown",
   "metadata": {},
   "source": [
    "#### Replace outliers"
   ]
  },
  {
   "cell_type": "markdown",
   "metadata": {},
   "source": [
    "The histograms of some variables show that they have outliers. The outliers are replaced with the mean of \n",
    "column non-outliers using the 'replace_outlier' function defined below.  "
   ]
  },
  {
   "cell_type": "code",
   "execution_count": 5,
   "metadata": {},
   "outputs": [],
   "source": [
    "# Define a function to replace outliers in a column with the mean of column non-outliers\n",
    "def replace_outlier(df):      \n",
    "    \"\"\"\"Replace outliers in a dataframe with mean of the column non-outliers\"\"\"   \n",
    "    cols_list = df.columns\n",
    "    for col in cols_list:\n",
    "        Lo = np.mean(df.loc[:, col]) - 2*np.std(df.loc[:, col])\n",
    "        Hi = np.mean(df.loc[:, col]) + 2*np.std(df.loc[:, col])\n",
    "        # Create a flag for values within limits\n",
    "        FlagBad = (df.loc[:, col] < Lo) | (df.loc[:, col] > Hi)\n",
    "        # flag_bad is the complement of flag_good\n",
    "        FlagGood = ~ FlagBad\n",
    "        # Replace outliers with mean of the non-outliers\n",
    "        df.loc[FlagBad, col] = np.mean(df.loc[FlagGood, col])\n",
    "    return df\n",
    "\n",
    "# Find and replace outliers in secom_imputed dataframe\n",
    "secom_imputed = replace_outlier(secom_imputed)"
   ]
  },
  {
   "cell_type": "markdown",
   "metadata": {},
   "source": [
    "#### Create secom dataframe with no missing values and no outliers"
   ]
  },
  {
   "cell_type": "markdown",
   "metadata": {},
   "source": [
    "The secom_imputed dataframe contains all the attributes with no missing values and no outliers. To recreate the initial secom\n",
    "dataset, the secom_imputed dataframe is concatenated with the secom_target dataframe."
   ]
  },
  {
   "cell_type": "code",
   "execution_count": 6,
   "metadata": {},
   "outputs": [],
   "source": [
    "# Concatenate all attributes and target back together (secom_imputed and secom_target)\n",
    "secom = pd.merge(secom_imputed, secom_target, left_index=True, right_index=True)\n",
    "\n",
    "# Check the shape and the first few rows of the new dataframe\n",
    "#print(secom.shape)\n",
    "#secom.head()"
   ]
  },
  {
   "cell_type": "markdown",
   "metadata": {},
   "source": [
    "#### Replace classes in target variable with 0 and 1"
   ]
  },
  {
   "cell_type": "markdown",
   "metadata": {},
   "source": [
    "In the initial dataset, the Target has two values: -1 corresponding to Pass and 1 for Fail. They are replaced with more \n",
    "intuitive values of 1 for Pass and 0 for Fail."
   ]
  },
  {
   "cell_type": "code",
   "execution_count": 7,
   "metadata": {},
   "outputs": [],
   "source": [
    "# Replace -1 (Pass) with 1 \n",
    "# Replace 1 (Fail) with 0\n",
    "secom['Target'] = secom['Target'].map({-1:1, 1:0})      # 1 = Pass; 0 = Fail"
   ]
  },
  {
   "cell_type": "markdown",
   "metadata": {},
   "source": [
    "#### Create the label"
   ]
  },
  {
   "cell_type": "code",
   "execution_count": 8,
   "metadata": {},
   "outputs": [],
   "source": [
    "# Create the label\n",
    "y = secom['Target']"
   ]
  },
  {
   "cell_type": "markdown",
   "metadata": {},
   "source": [
    "Next is performed feature selection to choose a subset of the attributes with highest predictive power. Then it is \n",
    "applied SMOTE to training data for oversampling the minority class. Both techniques help to prevent \n",
    "overfitting of machine learning models."
   ]
  },
  {
   "cell_type": "markdown",
   "metadata": {},
   "source": [
    "#### Apply feature selection techniques to reduce dimensionality of data"
   ]
  },
  {
   "cell_type": "markdown",
   "metadata": {},
   "source": [
    "For selecting the most predictive features from all 590 attributes in the dataset, were applied feature selection methods.\n",
    "Using the SelectKBest method from sklearn it was determined that a subset of ~40-50 features are a lot more important than the \n",
    "other features. The SelectKBest class identified also multiple features that are constant.\n",
    "Applying a Recursive Feature Elimination technique using as estimator a DecisionTreeClassifier, were \n",
    "selected the 40 most predictive features from the dataset. The list with the features is displayed below. "
   ]
  },
  {
   "cell_type": "code",
   "execution_count": 9,
   "metadata": {},
   "outputs": [],
   "source": [
    "# List of 40 features selected with RFE DecisionTreeClassifier\n",
    "\n",
    "selected_features = ['Signal11', 'Signal16', 'Signal27', 'Signal37', 'Signal45', 'Signal59', 'Signal61', 'Signal72', 'Signal76',\n",
    "                     'Signal81', 'Signal83', 'Signal95', 'Signal115', 'Signal117', 'Signal133', 'Signal153', 'Signal197', \n",
    "                     'Signal204', 'Signal220', 'Signal283', 'Signal301', 'Signal331', 'Signal333', 'Signal350', 'Signal354', \n",
    "                     'Signal425', 'Signal429', 'Signal435', 'Signal437', 'Signal457', 'Signal460', 'Signal467', 'Signal468', \n",
    "                     'Signal473', 'Signal477', 'Signal479', 'Signal492', 'Signal539', 'Signal568', 'Signal573']"
   ]
  },
  {
   "cell_type": "markdown",
   "metadata": {},
   "source": [
    "Using the list of 40 selected features, it is created the features dataframe that will be used for building the machine \n",
    "learning models."
   ]
  },
  {
   "cell_type": "code",
   "execution_count": 10,
   "metadata": {},
   "outputs": [
    {
     "name": "stdout",
     "output_type": "stream",
     "text": [
      "(1567, 40)\n"
     ]
    }
   ],
   "source": [
    "# Create the features dataframe\n",
    "features = secom_imputed[selected_features]         # 40 features\n",
    "\n",
    "print(features.shape)\n",
    "#features.head()"
   ]
  },
  {
   "cell_type": "markdown",
   "metadata": {},
   "source": [
    "#### Scale the features"
   ]
  },
  {
   "cell_type": "markdown",
   "metadata": {},
   "source": [
    "Before splitting the data into training and testing sets, the features are scaled using the min-max scaler from sklearn."
   ]
  },
  {
   "cell_type": "code",
   "execution_count": 11,
   "metadata": {},
   "outputs": [],
   "source": [
    "# Scale using MinMaxScaler\n",
    "min_max_scaler = preprocessing.MinMaxScaler()\n",
    "\n",
    "# Get the values in a numpy array\n",
    "X = features.values                                      # using 40 features\n",
    "\n",
    "# Scale the values\n",
    "X_scaled = min_max_scaler.fit_transform(X)\n",
    "# Cast the np array X_scaled to Pandas dataframe\n",
    "X_scaled = pd.DataFrame(X_scaled, columns = selected_features)                                "
   ]
  },
  {
   "cell_type": "markdown",
   "metadata": {},
   "source": [
    "### Split prepared data into training and testing sets"
   ]
  },
  {
   "cell_type": "markdown",
   "metadata": {},
   "source": [
    "Below the datasets X_scaled and y are split into train and testing sets, using 70% for training and 30% for testing."
   ]
  },
  {
   "cell_type": "code",
   "execution_count": 12,
   "metadata": {},
   "outputs": [
    {
     "name": "stdout",
     "output_type": "stream",
     "text": [
      "X_train:  (1096, 40)\n",
      "y_train:  (1096,)\n",
      "X_test:  (471, 40)\n",
      "y_test:  (471,)\n"
     ]
    }
   ],
   "source": [
    "# Split the dataset into training set (70%) and testing set (30%)\n",
    "X_train, X_test, y_train, y_test = train_test_split(X_scaled, y, test_size=0.3, random_state=123)\n",
    "\n",
    "# Print the shape of the training and testing datasets\n",
    "print('X_train: ', X_train.shape)\n",
    "print('y_train: ', y_train.shape)\n",
    "print('X_test: ', X_test.shape)\n",
    "print('y_test: ', y_test.shape)"
   ]
  },
  {
   "cell_type": "markdown",
   "metadata": {},
   "source": [
    "#### Apply SMOTE to handle class imbalance problem"
   ]
  },
  {
   "cell_type": "markdown",
   "metadata": {},
   "source": [
    "The classes in the label are highly imbalanced. As it can be observed below, there are 1463 cases for Pass (1) and 104 cases\n",
    "for Fail (0). To overcome the class imbalance it is applied SMOTE function to do oversampling of the minority class.<br>\n",
    "SMOTE is applied on the training set only, then is displayed the count of classes for resampled dataset."
   ]
  },
  {
   "cell_type": "code",
   "execution_count": 13,
   "metadata": {},
   "outputs": [
    {
     "data": {
      "text/plain": [
       "1    1463\n",
       "0     104\n",
       "Name: Target, dtype: int64"
      ]
     },
     "execution_count": 13,
     "metadata": {},
     "output_type": "execute_result"
    }
   ],
   "source": [
    "# Check the counts of classes in label\n",
    "secom['Target'].value_counts()"
   ]
  },
  {
   "cell_type": "code",
   "execution_count": 14,
   "metadata": {},
   "outputs": [
    {
     "name": "stdout",
     "output_type": "stream",
     "text": [
      "Original dataset shape Counter({1: 1019, 0: 77})\n",
      "Resampled dataset shape Counter({1: 1019, 0: 1019})\n"
     ]
    }
   ],
   "source": [
    "# Summarize the class distribution in y_train using a Counter object\n",
    "print('Original dataset shape {}'.format(Counter(y_train)))\n",
    "\n",
    "# Apply SMOTE function to do oversampling of the minority class\n",
    "sm = SMOTE(random_state=42)\n",
    "X_train_res, y_train_res = sm.fit_sample(X_train, y_train)\n",
    "print('Resampled dataset shape {}'.format(Counter(y_train_res)))"
   ]
  },
  {
   "cell_type": "markdown",
   "metadata": {},
   "source": [
    "In the original dataset were 1019 cases from class 1 (Pass) and 77 from class 0 (Fail). After applying SMOTE technique, the \n",
    "classes are balanced with 1019 cases each."
   ]
  },
  {
   "cell_type": "markdown",
   "metadata": {},
   "source": [
    "### 1. Build a simple neural networks model"
   ]
  },
  {
   "cell_type": "markdown",
   "metadata": {},
   "source": [
    "Below it is built a multi-layer neural network classifier MLP (multi-layer perceptron). The model is instantiated\n",
    "with the 'hidden_layer_sizes' argument set to three layers, each with the same number of neurons as the count of features in\n",
    "the dataset (40). It is selected 'relu' as the activation function and 'adam' as the solver for weight optimization. \n",
    "The maximum number of iterations 'max_iter' is set to 500 and the 'random_state', which determines the random number \n",
    "generation for weights and bias initialization, is set to 1. After fitting the model, it is calculated the accuracy score."
   ]
  },
  {
   "cell_type": "code",
   "execution_count": 15,
   "metadata": {},
   "outputs": [
    {
     "data": {
      "text/plain": [
       "MLPClassifier(hidden_layer_sizes=(40, 40, 40), max_iter=500, random_state=1)"
      ]
     },
     "execution_count": 15,
     "metadata": {},
     "output_type": "execute_result"
    }
   ],
   "source": [
    "# Build the MLP model\n",
    "\n",
    "model_mlp = MLPClassifier(hidden_layer_sizes=(40, 40, 40), solver='adam', activation='relu', max_iter=500, random_state=1)\n",
    "\n",
    "# Train model\n",
    "model_mlp.fit(X_train_res, y_train_res)"
   ]
  },
  {
   "cell_type": "code",
   "execution_count": 16,
   "metadata": {},
   "outputs": [
    {
     "name": "stdout",
     "output_type": "stream",
     "text": [
      "Model MLP Accuracy: 91.30%\n"
     ]
    }
   ],
   "source": [
    "# Evaluate model\n",
    "score = model_mlp.score(X_test, y_test)\n",
    "print(\"Model MLP Accuracy: %.2f%%\" % (score*100))"
   ]
  },
  {
   "cell_type": "markdown",
   "metadata": {},
   "source": [
    "The MLP multi-layer neural network model achieved an accuracy rate of **91.3%**."
   ]
  },
  {
   "cell_type": "markdown",
   "metadata": {},
   "source": [
    "### 2. Build a DNN model"
   ]
  },
  {
   "cell_type": "markdown",
   "metadata": {},
   "source": [
    "The next model built is a Deep Neural Network classifier. The first tf.keras dense layer has the keyword argument input_shape, \n",
    "which is the number of features (40), the activation function 'relu' and 250 neurons. The second dense layer has 100 neurons. \n",
    "The last dense layer is a 1-node softmax layer representing the output classes. <br>\n",
    "The model is compiled by defining the optimizer 'adam', the loss function 'categorical_crossentropy', and the metric used to\n",
    "monitor the training steps 'accuracy'. The model is trained for 10 epochs."
   ]
  },
  {
   "cell_type": "code",
   "execution_count": 17,
   "metadata": {},
   "outputs": [],
   "source": [
    "# Build the DNN model\n",
    "\n",
    "model_dnn = tf.keras.Sequential([\n",
    "    tf.keras.layers.Dense(250, activation='relu', input_shape=(X_train_res.shape[-1],)),      # X_train_res.shape[-1] = 40\n",
    "    tf.keras.layers.Dropout(0.4),\n",
    "    tf.keras.layers.Dense(100, activation='relu'),\n",
    "    tf.keras.layers.Dropout(0.3),\n",
    "    tf.keras.layers.Dense(1, activation='softmax')])"
   ]
  },
  {
   "cell_type": "code",
   "execution_count": 18,
   "metadata": {},
   "outputs": [
    {
     "name": "stdout",
     "output_type": "stream",
     "text": [
      "Epoch 1/10\n",
      "16/16 [==============================] - 1s 27ms/step - loss: 0.0000e+00 - accuracy: 0.4885 - val_loss: 0.0000e+00 - val_accuracy: 0.9427\n",
      "Epoch 2/10\n",
      "16/16 [==============================] - 0s 5ms/step - loss: 0.0000e+00 - accuracy: 0.5043 - val_loss: 0.0000e+00 - val_accuracy: 0.9427\n",
      "Epoch 3/10\n",
      "16/16 [==============================] - 0s 4ms/step - loss: 0.0000e+00 - accuracy: 0.5005 - val_loss: 0.0000e+00 - val_accuracy: 0.9427\n",
      "Epoch 4/10\n",
      "16/16 [==============================] - 0s 5ms/step - loss: 0.0000e+00 - accuracy: 0.5041 - val_loss: 0.0000e+00 - val_accuracy: 0.9427\n",
      "Epoch 5/10\n",
      "16/16 [==============================] - 0s 5ms/step - loss: 0.0000e+00 - accuracy: 0.5049 - val_loss: 0.0000e+00 - val_accuracy: 0.9427\n",
      "Epoch 6/10\n",
      "16/16 [==============================] - 0s 5ms/step - loss: 0.0000e+00 - accuracy: 0.5081 - val_loss: 0.0000e+00 - val_accuracy: 0.9427\n",
      "Epoch 7/10\n",
      "16/16 [==============================] - 0s 5ms/step - loss: 0.0000e+00 - accuracy: 0.4934 - val_loss: 0.0000e+00 - val_accuracy: 0.9427\n",
      "Epoch 8/10\n",
      "16/16 [==============================] - 0s 5ms/step - loss: 0.0000e+00 - accuracy: 0.4938 - val_loss: 0.0000e+00 - val_accuracy: 0.9427\n",
      "Epoch 9/10\n",
      "16/16 [==============================] - 0s 5ms/step - loss: 0.0000e+00 - accuracy: 0.4929 - val_loss: 0.0000e+00 - val_accuracy: 0.9427\n",
      "Epoch 10/10\n",
      "16/16 [==============================] - 0s 5ms/step - loss: 0.0000e+00 - accuracy: 0.5094 - val_loss: 0.0000e+00 - val_accuracy: 0.9427\n"
     ]
    },
    {
     "data": {
      "text/plain": [
       "<tensorflow.python.keras.callbacks.History at 0x20515ce19c8>"
      ]
     },
     "execution_count": 18,
     "metadata": {},
     "output_type": "execute_result"
    }
   ],
   "source": [
    "# Compiling the sequential model\n",
    "model_dnn.compile(loss='categorical_crossentropy', metrics=['accuracy'], optimizer='adam')\n",
    "\n",
    "# Training the model for 10 epochs\n",
    "model_dnn.fit(X_train_res, y_train_res, batch_size=128, epochs=10, validation_data=(X_test, y_test))"
   ]
  },
  {
   "cell_type": "code",
   "execution_count": 19,
   "metadata": {},
   "outputs": [
    {
     "name": "stdout",
     "output_type": "stream",
     "text": [
      "Model DNN Accuracy: 94.27%\n"
     ]
    }
   ],
   "source": [
    "# Evaluate model\n",
    "scores = model_dnn.evaluate(X_test, y_test, verbose=0)\n",
    "print(\"Model DNN Accuracy: %.2f%%\" % (scores[1]*100))"
   ]
  },
  {
   "cell_type": "markdown",
   "metadata": {},
   "source": [
    "The DNN model has an accuracy score of **94.3%**, higher than the accuracy rate of the multi-layer neural network model. "
   ]
  },
  {
   "cell_type": "markdown",
   "metadata": {},
   "source": [
    "### 3. Build a RNN model"
   ]
  },
  {
   "cell_type": "markdown",
   "metadata": {},
   "source": [
    "The secom dataset contains the date timestamp sensor measurements for each observation. Looking at the first few rows, it \n",
    "can be noted that observations occur sequentially at ~ 30-40 minutes each. Recurrent neural networks (RNN) - Long Short-Term\n",
    "Memory (LSTM) can be used for modeling such sequence data as time series, with multiple input variables. \n",
    "\n",
    "For building the LSTM model it is needed that the input and output of the data to have the same dimensions as the \n",
    "input and output of the model. For the first several models that were built, because this condition was not fulfilled, \n",
    "the following value error occured: <br>\n",
    "*ValueError: Input 0 of layer sequential is incompatible with the layer: expected ndim=3, found ndim=2. Full shape \n",
    "received: (None, 40)*. <br>\n",
    "\n",
    "Hence, the features in secom dataset will be prepared before using them for building the time series forecasting model. The \n",
    "code below creates a new dataframe using the scaled 40 features, the 'Date' and the 'Target' variables. Then it is \n",
    "created a time series using the set_index() function."
   ]
  },
  {
   "cell_type": "code",
   "execution_count": 20,
   "metadata": {},
   "outputs": [],
   "source": [
    "# Create a dataframe from scaled selected features (40), Date and Target\n",
    "\n",
    "# Create the date series\n",
    "date = secom['Date']\n",
    "# Merge the scaled 40 features and date\n",
    "scaled = pd.merge(X_scaled, date, left_index=True, right_index=True)\n",
    "# Add also the target\n",
    "data_ts = pd.merge(scaled, y, left_index=True, right_index=True)\n",
    "#data_ts.head(3)"
   ]
  },
  {
   "cell_type": "markdown",
   "metadata": {},
   "source": [
    "Using the 'data_ts' dataframe it is created a time series and displayed the first rows."
   ]
  },
  {
   "cell_type": "code",
   "execution_count": 21,
   "metadata": {},
   "outputs": [
    {
     "name": "stdout",
     "output_type": "stream",
     "text": [
      "(1567, 41)\n"
     ]
    },
    {
     "data": {
      "text/html": [
       "<div>\n",
       "<style scoped>\n",
       "    .dataframe tbody tr th:only-of-type {\n",
       "        vertical-align: middle;\n",
       "    }\n",
       "\n",
       "    .dataframe tbody tr th {\n",
       "        vertical-align: top;\n",
       "    }\n",
       "\n",
       "    .dataframe thead th {\n",
       "        text-align: right;\n",
       "    }\n",
       "</style>\n",
       "<table border=\"1\" class=\"dataframe\">\n",
       "  <thead>\n",
       "    <tr style=\"text-align: right;\">\n",
       "      <th></th>\n",
       "      <th>Signal11</th>\n",
       "      <th>Signal16</th>\n",
       "      <th>Signal27</th>\n",
       "      <th>Signal37</th>\n",
       "      <th>Signal45</th>\n",
       "      <th>Signal59</th>\n",
       "      <th>Signal61</th>\n",
       "      <th>Signal72</th>\n",
       "      <th>Signal76</th>\n",
       "      <th>Signal81</th>\n",
       "      <th>...</th>\n",
       "      <th>Signal467</th>\n",
       "      <th>Signal468</th>\n",
       "      <th>Signal473</th>\n",
       "      <th>Signal477</th>\n",
       "      <th>Signal479</th>\n",
       "      <th>Signal492</th>\n",
       "      <th>Signal539</th>\n",
       "      <th>Signal568</th>\n",
       "      <th>Signal573</th>\n",
       "      <th>Target</th>\n",
       "    </tr>\n",
       "    <tr>\n",
       "      <th>Date</th>\n",
       "      <th></th>\n",
       "      <th></th>\n",
       "      <th></th>\n",
       "      <th></th>\n",
       "      <th></th>\n",
       "      <th></th>\n",
       "      <th></th>\n",
       "      <th></th>\n",
       "      <th></th>\n",
       "      <th></th>\n",
       "      <th></th>\n",
       "      <th></th>\n",
       "      <th></th>\n",
       "      <th></th>\n",
       "      <th></th>\n",
       "      <th></th>\n",
       "      <th></th>\n",
       "      <th></th>\n",
       "      <th></th>\n",
       "      <th></th>\n",
       "      <th></th>\n",
       "    </tr>\n",
       "  </thead>\n",
       "  <tbody>\n",
       "    <tr>\n",
       "      <th>2008-07-19 11:55:00</th>\n",
       "      <td>0.090278</td>\n",
       "      <td>0.618239</td>\n",
       "      <td>0.696317</td>\n",
       "      <td>0.598223</td>\n",
       "      <td>0.291364</td>\n",
       "      <td>0.368850</td>\n",
       "      <td>0.682130</td>\n",
       "      <td>0.497203</td>\n",
       "      <td>0.567381</td>\n",
       "      <td>0.526141</td>\n",
       "      <td>...</td>\n",
       "      <td>0.221091</td>\n",
       "      <td>0.455459</td>\n",
       "      <td>0.298283</td>\n",
       "      <td>0.192733</td>\n",
       "      <td>0.215076</td>\n",
       "      <td>0.493507</td>\n",
       "      <td>0.257537</td>\n",
       "      <td>0.500309</td>\n",
       "      <td>0.324726</td>\n",
       "      <td>1</td>\n",
       "    </tr>\n",
       "    <tr>\n",
       "      <th>2008-07-19 12:32:00</th>\n",
       "      <td>0.488426</td>\n",
       "      <td>0.509946</td>\n",
       "      <td>0.905711</td>\n",
       "      <td>0.494716</td>\n",
       "      <td>0.382366</td>\n",
       "      <td>0.436545</td>\n",
       "      <td>0.394913</td>\n",
       "      <td>0.497203</td>\n",
       "      <td>0.573507</td>\n",
       "      <td>0.255193</td>\n",
       "      <td>...</td>\n",
       "      <td>0.149000</td>\n",
       "      <td>0.677097</td>\n",
       "      <td>0.234730</td>\n",
       "      <td>0.192266</td>\n",
       "      <td>0.132798</td>\n",
       "      <td>0.493507</td>\n",
       "      <td>0.200705</td>\n",
       "      <td>0.500309</td>\n",
       "      <td>0.258998</td>\n",
       "      <td>1</td>\n",
       "    </tr>\n",
       "    <tr>\n",
       "      <th>2008-07-19 13:17:00</th>\n",
       "      <td>0.460648</td>\n",
       "      <td>0.517480</td>\n",
       "      <td>0.971938</td>\n",
       "      <td>0.134251</td>\n",
       "      <td>0.337897</td>\n",
       "      <td>0.451416</td>\n",
       "      <td>0.266173</td>\n",
       "      <td>0.303236</td>\n",
       "      <td>0.475498</td>\n",
       "      <td>0.544510</td>\n",
       "      <td>...</td>\n",
       "      <td>0.064708</td>\n",
       "      <td>0.031224</td>\n",
       "      <td>0.379049</td>\n",
       "      <td>0.347214</td>\n",
       "      <td>0.416070</td>\n",
       "      <td>0.493507</td>\n",
       "      <td>0.278218</td>\n",
       "      <td>0.468772</td>\n",
       "      <td>0.158451</td>\n",
       "      <td>0</td>\n",
       "    </tr>\n",
       "  </tbody>\n",
       "</table>\n",
       "<p>3 rows × 41 columns</p>\n",
       "</div>"
      ],
      "text/plain": [
       "                     Signal11  Signal16  Signal27  Signal37  Signal45  \\\n",
       "Date                                                                    \n",
       "2008-07-19 11:55:00  0.090278  0.618239  0.696317  0.598223  0.291364   \n",
       "2008-07-19 12:32:00  0.488426  0.509946  0.905711  0.494716  0.382366   \n",
       "2008-07-19 13:17:00  0.460648  0.517480  0.971938  0.134251  0.337897   \n",
       "\n",
       "                     Signal59  Signal61  Signal72  Signal76  Signal81  ...  \\\n",
       "Date                                                                   ...   \n",
       "2008-07-19 11:55:00  0.368850  0.682130  0.497203  0.567381  0.526141  ...   \n",
       "2008-07-19 12:32:00  0.436545  0.394913  0.497203  0.573507  0.255193  ...   \n",
       "2008-07-19 13:17:00  0.451416  0.266173  0.303236  0.475498  0.544510  ...   \n",
       "\n",
       "                     Signal467  Signal468  Signal473  Signal477  Signal479  \\\n",
       "Date                                                                         \n",
       "2008-07-19 11:55:00   0.221091   0.455459   0.298283   0.192733   0.215076   \n",
       "2008-07-19 12:32:00   0.149000   0.677097   0.234730   0.192266   0.132798   \n",
       "2008-07-19 13:17:00   0.064708   0.031224   0.379049   0.347214   0.416070   \n",
       "\n",
       "                     Signal492  Signal539  Signal568  Signal573  Target  \n",
       "Date                                                                     \n",
       "2008-07-19 11:55:00   0.493507   0.257537   0.500309   0.324726       1  \n",
       "2008-07-19 12:32:00   0.493507   0.200705   0.500309   0.258998       1  \n",
       "2008-07-19 13:17:00   0.493507   0.278218   0.468772   0.158451       0  \n",
       "\n",
       "[3 rows x 41 columns]"
      ]
     },
     "execution_count": 21,
     "metadata": {},
     "output_type": "execute_result"
    }
   ],
   "source": [
    "# Create time series\n",
    "data_ts.set_index(['Date'], inplace=True)\n",
    "\n",
    "print(data_ts.shape)\n",
    "data_ts.head(3)"
   ]
  },
  {
   "cell_type": "markdown",
   "metadata": {},
   "source": [
    "Looking at the index of the time series it can be observed that the signal values occur aproximatelly twice per hour at\n",
    "~30-35 minutes interval. Since it is more difficult to work with values at different time intervals, the data is resampled\n",
    "hourly by calculating the sum()."
   ]
  },
  {
   "cell_type": "code",
   "execution_count": 22,
   "metadata": {},
   "outputs": [
    {
     "name": "stdout",
     "output_type": "stream",
     "text": [
      "(8105, 41)\n"
     ]
    },
    {
     "data": {
      "text/html": [
       "<div>\n",
       "<style scoped>\n",
       "    .dataframe tbody tr th:only-of-type {\n",
       "        vertical-align: middle;\n",
       "    }\n",
       "\n",
       "    .dataframe tbody tr th {\n",
       "        vertical-align: top;\n",
       "    }\n",
       "\n",
       "    .dataframe thead th {\n",
       "        text-align: right;\n",
       "    }\n",
       "</style>\n",
       "<table border=\"1\" class=\"dataframe\">\n",
       "  <thead>\n",
       "    <tr style=\"text-align: right;\">\n",
       "      <th></th>\n",
       "      <th>Signal11</th>\n",
       "      <th>Signal16</th>\n",
       "      <th>Signal27</th>\n",
       "      <th>Signal37</th>\n",
       "      <th>Signal45</th>\n",
       "      <th>Signal59</th>\n",
       "      <th>Signal61</th>\n",
       "      <th>Signal72</th>\n",
       "      <th>Signal76</th>\n",
       "      <th>Signal81</th>\n",
       "      <th>...</th>\n",
       "      <th>Signal467</th>\n",
       "      <th>Signal468</th>\n",
       "      <th>Signal473</th>\n",
       "      <th>Signal477</th>\n",
       "      <th>Signal479</th>\n",
       "      <th>Signal492</th>\n",
       "      <th>Signal539</th>\n",
       "      <th>Signal568</th>\n",
       "      <th>Signal573</th>\n",
       "      <th>Target</th>\n",
       "    </tr>\n",
       "    <tr>\n",
       "      <th>Date</th>\n",
       "      <th></th>\n",
       "      <th></th>\n",
       "      <th></th>\n",
       "      <th></th>\n",
       "      <th></th>\n",
       "      <th></th>\n",
       "      <th></th>\n",
       "      <th></th>\n",
       "      <th></th>\n",
       "      <th></th>\n",
       "      <th></th>\n",
       "      <th></th>\n",
       "      <th></th>\n",
       "      <th></th>\n",
       "      <th></th>\n",
       "      <th></th>\n",
       "      <th></th>\n",
       "      <th></th>\n",
       "      <th></th>\n",
       "      <th></th>\n",
       "      <th></th>\n",
       "    </tr>\n",
       "  </thead>\n",
       "  <tbody>\n",
       "    <tr>\n",
       "      <th>2008-01-08 02:00:00</th>\n",
       "      <td>0.539352</td>\n",
       "      <td>0.457887</td>\n",
       "      <td>0.80188</td>\n",
       "      <td>0.716559</td>\n",
       "      <td>0.408894</td>\n",
       "      <td>0.854703</td>\n",
       "      <td>0.658615</td>\n",
       "      <td>0.298714</td>\n",
       "      <td>0.192956</td>\n",
       "      <td>0.504451</td>\n",
       "      <td>...</td>\n",
       "      <td>0.198701</td>\n",
       "      <td>0.038007</td>\n",
       "      <td>0.218997</td>\n",
       "      <td>0.152071</td>\n",
       "      <td>0.533841</td>\n",
       "      <td>0.493507</td>\n",
       "      <td>0.714518</td>\n",
       "      <td>0.499585</td>\n",
       "      <td>0.535342</td>\n",
       "      <td>1</td>\n",
       "    </tr>\n",
       "    <tr>\n",
       "      <th>2008-01-08 03:00:00</th>\n",
       "      <td>0.000000</td>\n",
       "      <td>0.000000</td>\n",
       "      <td>0.00000</td>\n",
       "      <td>0.000000</td>\n",
       "      <td>0.000000</td>\n",
       "      <td>0.000000</td>\n",
       "      <td>0.000000</td>\n",
       "      <td>0.000000</td>\n",
       "      <td>0.000000</td>\n",
       "      <td>0.000000</td>\n",
       "      <td>...</td>\n",
       "      <td>0.000000</td>\n",
       "      <td>0.000000</td>\n",
       "      <td>0.000000</td>\n",
       "      <td>0.000000</td>\n",
       "      <td>0.000000</td>\n",
       "      <td>0.000000</td>\n",
       "      <td>0.000000</td>\n",
       "      <td>0.000000</td>\n",
       "      <td>0.000000</td>\n",
       "      <td>0</td>\n",
       "    </tr>\n",
       "    <tr>\n",
       "      <th>2008-01-08 04:00:00</th>\n",
       "      <td>0.000000</td>\n",
       "      <td>0.000000</td>\n",
       "      <td>0.00000</td>\n",
       "      <td>0.000000</td>\n",
       "      <td>0.000000</td>\n",
       "      <td>0.000000</td>\n",
       "      <td>0.000000</td>\n",
       "      <td>0.000000</td>\n",
       "      <td>0.000000</td>\n",
       "      <td>0.000000</td>\n",
       "      <td>...</td>\n",
       "      <td>0.000000</td>\n",
       "      <td>0.000000</td>\n",
       "      <td>0.000000</td>\n",
       "      <td>0.000000</td>\n",
       "      <td>0.000000</td>\n",
       "      <td>0.000000</td>\n",
       "      <td>0.000000</td>\n",
       "      <td>0.000000</td>\n",
       "      <td>0.000000</td>\n",
       "      <td>0</td>\n",
       "    </tr>\n",
       "  </tbody>\n",
       "</table>\n",
       "<p>3 rows × 41 columns</p>\n",
       "</div>"
      ],
      "text/plain": [
       "                     Signal11  Signal16  Signal27  Signal37  Signal45  \\\n",
       "Date                                                                    \n",
       "2008-01-08 02:00:00  0.539352  0.457887   0.80188  0.716559  0.408894   \n",
       "2008-01-08 03:00:00  0.000000  0.000000   0.00000  0.000000  0.000000   \n",
       "2008-01-08 04:00:00  0.000000  0.000000   0.00000  0.000000  0.000000   \n",
       "\n",
       "                     Signal59  Signal61  Signal72  Signal76  Signal81  ...  \\\n",
       "Date                                                                   ...   \n",
       "2008-01-08 02:00:00  0.854703  0.658615  0.298714  0.192956  0.504451  ...   \n",
       "2008-01-08 03:00:00  0.000000  0.000000  0.000000  0.000000  0.000000  ...   \n",
       "2008-01-08 04:00:00  0.000000  0.000000  0.000000  0.000000  0.000000  ...   \n",
       "\n",
       "                     Signal467  Signal468  Signal473  Signal477  Signal479  \\\n",
       "Date                                                                         \n",
       "2008-01-08 02:00:00   0.198701   0.038007   0.218997   0.152071   0.533841   \n",
       "2008-01-08 03:00:00   0.000000   0.000000   0.000000   0.000000   0.000000   \n",
       "2008-01-08 04:00:00   0.000000   0.000000   0.000000   0.000000   0.000000   \n",
       "\n",
       "                     Signal492  Signal539  Signal568  Signal573  Target  \n",
       "Date                                                                     \n",
       "2008-01-08 02:00:00   0.493507   0.714518   0.499585   0.535342       1  \n",
       "2008-01-08 03:00:00   0.000000   0.000000   0.000000   0.000000       0  \n",
       "2008-01-08 04:00:00   0.000000   0.000000   0.000000   0.000000       0  \n",
       "\n",
       "[3 rows x 41 columns]"
      ]
     },
     "execution_count": 22,
     "metadata": {},
     "output_type": "execute_result"
    }
   ],
   "source": [
    "# Resample data hourly\n",
    "data = data_ts.resample('H').sum()\n",
    "\n",
    "print(data.shape)\n",
    "data.head(3)"
   ]
  },
  {
   "cell_type": "markdown",
   "metadata": {},
   "source": [
    "After resampling the dataframe contains 8105 observations corresponding to each hour. The sensor observations were taken for a\n",
    "time interval of 11 months, starting on January 2008 ('2008-01-08 02:00:00') until December 2008 ('2008-12-10 18:00:00').\n",
    "\n",
    "There are no missing values NaNs in the time series, as verified below."
   ]
  },
  {
   "cell_type": "code",
   "execution_count": null,
   "metadata": {},
   "outputs": [],
   "source": [
    "# Check for NaNs\n",
    "#data.isnull().sum()"
   ]
  },
  {
   "cell_type": "markdown",
   "metadata": {},
   "source": [
    "Next it is checked the distribution of some randomly selected features. For this it is defined a list of features 'groups'. "
   ]
  },
  {
   "cell_type": "code",
   "execution_count": 23,
   "metadata": {},
   "outputs": [
    {
     "data": {
      "image/png": "[encoded data removed]",
      "text/plain": [
       "<Figure size 576x576 with 7 Axes>"
      ]
     },
     "metadata": {
      "needs_background": "light"
     },
     "output_type": "display_data"
    }
   ],
   "source": [
    "# Check the distribution of some variables\n",
    "values = data.values\n",
    "\n",
    "# Specify columns to plot\n",
    "groups = [0, 1, 5, 10, 20, 25, 35]\n",
    "i = 1\n",
    "# Plot each column\n",
    "plt.figure(figsize=(8,8))\n",
    "for group in groups:\n",
    "    plt.subplot(len(groups), 1, i)\n",
    "    plt.plot(values[:, group])\n",
    "    plt.title(data.columns[group], y=0.5, loc='right')\n",
    "    i += 1\n",
    "plt.show()"
   ]
  },
  {
   "cell_type": "markdown",
   "metadata": {},
   "source": [
    "The distribution of the variables show that the most frequency of the signals occur between ~5000-7000 period, corresponding to\n",
    "the time interval between August 2008 and October 2008.\n",
    "\n",
    "Next it is defined a function \"series_to_supervised\" to create columns of lag observations and forecast observations.\n",
    "The function basically transforms the time series from a sequence, to pairs of input and output sequences. For this it is used \n",
    "the pandas shift() function that creates copies of columns that are pushed forward or pulled back \n",
    "(adding rows of NaNs to the front or to the end). This way can be created new framings of the time series\n",
    "given the desired length of input and output sequences. All variates in the time series can be shifted like this to create\n",
    "multivariate input and output sequences. The function takes the arguments below and returns a single value, the pandas DataFrame\n",
    "of series framed for supervised learning.\n",
    "- data - sequence of observations as a list or 2D NumPy array\n",
    "- n_in - number of lag observations as input (X). The values are between 1 and len(data); default is 1\n",
    "- n_out - number of observations as output (y). The values are between 0 and len(data)-1; default is 1\n",
    "- dropnan - Boolean whether or not to drop rows with NaN values; default is True"
   ]
  },
  {
   "cell_type": "code",
   "execution_count": 24,
   "metadata": {},
   "outputs": [
    {
     "data": {
      "text/html": [
       "<div>\n",
       "<style scoped>\n",
       "    .dataframe tbody tr th:only-of-type {\n",
       "        vertical-align: middle;\n",
       "    }\n",
       "\n",
       "    .dataframe tbody tr th {\n",
       "        vertical-align: top;\n",
       "    }\n",
       "\n",
       "    .dataframe thead th {\n",
       "        text-align: right;\n",
       "    }\n",
       "</style>\n",
       "<table border=\"1\" class=\"dataframe\">\n",
       "  <thead>\n",
       "    <tr style=\"text-align: right;\">\n",
       "      <th></th>\n",
       "      <th>var1(t-1)</th>\n",
       "      <th>var2(t-1)</th>\n",
       "      <th>var3(t-1)</th>\n",
       "      <th>var4(t-1)</th>\n",
       "      <th>var5(t-1)</th>\n",
       "      <th>var6(t-1)</th>\n",
       "      <th>var7(t-1)</th>\n",
       "      <th>var8(t-1)</th>\n",
       "      <th>var9(t-1)</th>\n",
       "      <th>var10(t-1)</th>\n",
       "      <th>...</th>\n",
       "      <th>var32(t)</th>\n",
       "      <th>var33(t)</th>\n",
       "      <th>var34(t)</th>\n",
       "      <th>var35(t)</th>\n",
       "      <th>var36(t)</th>\n",
       "      <th>var37(t)</th>\n",
       "      <th>var38(t)</th>\n",
       "      <th>var39(t)</th>\n",
       "      <th>var40(t)</th>\n",
       "      <th>var41(t)</th>\n",
       "    </tr>\n",
       "    <tr>\n",
       "      <th>Date</th>\n",
       "      <th></th>\n",
       "      <th></th>\n",
       "      <th></th>\n",
       "      <th></th>\n",
       "      <th></th>\n",
       "      <th></th>\n",
       "      <th></th>\n",
       "      <th></th>\n",
       "      <th></th>\n",
       "      <th></th>\n",
       "      <th></th>\n",
       "      <th></th>\n",
       "      <th></th>\n",
       "      <th></th>\n",
       "      <th></th>\n",
       "      <th></th>\n",
       "      <th></th>\n",
       "      <th></th>\n",
       "      <th></th>\n",
       "      <th></th>\n",
       "      <th></th>\n",
       "    </tr>\n",
       "  </thead>\n",
       "  <tbody>\n",
       "    <tr>\n",
       "      <th>2008-01-08 03:00:00</th>\n",
       "      <td>0.539352</td>\n",
       "      <td>0.457887</td>\n",
       "      <td>0.80188</td>\n",
       "      <td>0.716559</td>\n",
       "      <td>0.408894</td>\n",
       "      <td>0.854703</td>\n",
       "      <td>0.658615</td>\n",
       "      <td>0.298714</td>\n",
       "      <td>0.192956</td>\n",
       "      <td>0.504451</td>\n",
       "      <td>...</td>\n",
       "      <td>0.000000</td>\n",
       "      <td>0.00000</td>\n",
       "      <td>0.000000</td>\n",
       "      <td>0.000000</td>\n",
       "      <td>0.000000</td>\n",
       "      <td>0.000000</td>\n",
       "      <td>0.000000</td>\n",
       "      <td>0.000000</td>\n",
       "      <td>0.000000</td>\n",
       "      <td>0</td>\n",
       "    </tr>\n",
       "    <tr>\n",
       "      <th>2008-01-08 04:00:00</th>\n",
       "      <td>0.000000</td>\n",
       "      <td>0.000000</td>\n",
       "      <td>0.00000</td>\n",
       "      <td>0.000000</td>\n",
       "      <td>0.000000</td>\n",
       "      <td>0.000000</td>\n",
       "      <td>0.000000</td>\n",
       "      <td>0.000000</td>\n",
       "      <td>0.000000</td>\n",
       "      <td>0.000000</td>\n",
       "      <td>...</td>\n",
       "      <td>0.000000</td>\n",
       "      <td>0.00000</td>\n",
       "      <td>0.000000</td>\n",
       "      <td>0.000000</td>\n",
       "      <td>0.000000</td>\n",
       "      <td>0.000000</td>\n",
       "      <td>0.000000</td>\n",
       "      <td>0.000000</td>\n",
       "      <td>0.000000</td>\n",
       "      <td>0</td>\n",
       "    </tr>\n",
       "    <tr>\n",
       "      <th>2008-01-08 05:00:00</th>\n",
       "      <td>0.000000</td>\n",
       "      <td>0.000000</td>\n",
       "      <td>0.00000</td>\n",
       "      <td>0.000000</td>\n",
       "      <td>0.000000</td>\n",
       "      <td>0.000000</td>\n",
       "      <td>0.000000</td>\n",
       "      <td>0.000000</td>\n",
       "      <td>0.000000</td>\n",
       "      <td>0.000000</td>\n",
       "      <td>...</td>\n",
       "      <td>0.187537</td>\n",
       "      <td>0.07251</td>\n",
       "      <td>0.174752</td>\n",
       "      <td>0.218409</td>\n",
       "      <td>0.098701</td>\n",
       "      <td>0.493507</td>\n",
       "      <td>0.179895</td>\n",
       "      <td>0.716165</td>\n",
       "      <td>0.417188</td>\n",
       "      <td>0</td>\n",
       "    </tr>\n",
       "  </tbody>\n",
       "</table>\n",
       "<p>3 rows × 82 columns</p>\n",
       "</div>"
      ],
      "text/plain": [
       "                     var1(t-1)  var2(t-1)  var3(t-1)  var4(t-1)  var5(t-1)  \\\n",
       "Date                                                                         \n",
       "2008-01-08 03:00:00   0.539352   0.457887    0.80188   0.716559   0.408894   \n",
       "2008-01-08 04:00:00   0.000000   0.000000    0.00000   0.000000   0.000000   \n",
       "2008-01-08 05:00:00   0.000000   0.000000    0.00000   0.000000   0.000000   \n",
       "\n",
       "                     var6(t-1)  var7(t-1)  var8(t-1)  var9(t-1)  var10(t-1)  \\\n",
       "Date                                                                          \n",
       "2008-01-08 03:00:00   0.854703   0.658615   0.298714   0.192956    0.504451   \n",
       "2008-01-08 04:00:00   0.000000   0.000000   0.000000   0.000000    0.000000   \n",
       "2008-01-08 05:00:00   0.000000   0.000000   0.000000   0.000000    0.000000   \n",
       "\n",
       "                     ...  var32(t)  var33(t)  var34(t)  var35(t)  var36(t)  \\\n",
       "Date                 ...                                                     \n",
       "2008-01-08 03:00:00  ...  0.000000   0.00000  0.000000  0.000000  0.000000   \n",
       "2008-01-08 04:00:00  ...  0.000000   0.00000  0.000000  0.000000  0.000000   \n",
       "2008-01-08 05:00:00  ...  0.187537   0.07251  0.174752  0.218409  0.098701   \n",
       "\n",
       "                     var37(t)  var38(t)  var39(t)  var40(t)  var41(t)  \n",
       "Date                                                                   \n",
       "2008-01-08 03:00:00  0.000000  0.000000  0.000000  0.000000         0  \n",
       "2008-01-08 04:00:00  0.000000  0.000000  0.000000  0.000000         0  \n",
       "2008-01-08 05:00:00  0.493507  0.179895  0.716165  0.417188         0  \n",
       "\n",
       "[3 rows x 82 columns]"
      ]
     },
     "execution_count": 24,
     "metadata": {},
     "output_type": "execute_result"
    }
   ],
   "source": [
    "# Convert series to supervised learning\n",
    "def series_to_supervised(data, n_in=1, n_out=1, dropnan=True):\n",
    "    \"\"\"Create lag and forecast observations\"\"\"\n",
    "    n_vars = 1 if type(data) is list else data.shape[1]\n",
    "    df = DataFrame(data)\n",
    "    cols, names = list(), list()\n",
    "    # Input sequence (t-n, ... t-1)\n",
    "    for i in range(n_in, 0, -1):\n",
    "        cols.append(df.shift(i))\n",
    "        names += [('var%d(t-%d)' % (j+1, i)) for j in range(n_vars)]\n",
    "    # Forecast sequence (t, t+1, ... t+n)\n",
    "    for i in range(0, n_out):\n",
    "        cols.append(df.shift(-i))\n",
    "        if i == 0:\n",
    "            names += [('var%d(t)' % (j+1)) for j in range(n_vars)]\n",
    "        else:\n",
    "            names += [('var%d(t+%d)' % (j+1, i)) for j in range(n_vars)]\n",
    "    # Put it all together\n",
    "    agg = concat(cols, axis=1)\n",
    "    agg.columns = names\n",
    "    # Drop rows with NaN values\n",
    "    if dropnan:\n",
    "        agg.dropna(inplace=True)\n",
    "    return agg\n",
    "\n",
    "# Ensure all data is float\n",
    "values = values.astype('float32')\n",
    "# Frame as supervised learning\n",
    "reframed = series_to_supervised(data, 1, 1)\n",
    "# Display first rows\n",
    "reframed.head(3)"
   ]
  },
  {
   "cell_type": "markdown",
   "metadata": {},
   "source": [
    "In the transformed dataset the observations are named “var1” and the input observation is named (t-1) while the output time step\n",
    "is named (t). There are 40 input variables (input series) and the 1 output variable (the target at the current hour).\n",
    "To build the time series forecasting LSTM model, we can use the lagged observations (e.g. t-1) as input variables to forecast\n",
    "the current time step (t).\n",
    "\n",
    "We check the column names for the reframed dataset, to see which are the columns that we don't want to predict, then drop them."
   ]
  },
  {
   "cell_type": "code",
   "execution_count": null,
   "metadata": {},
   "outputs": [],
   "source": [
    "# Check the column names\n",
    "#cols_reframed = reframed.columns\n",
    "#cols_reframed"
   ]
  },
  {
   "cell_type": "code",
   "execution_count": 25,
   "metadata": {},
   "outputs": [
    {
     "data": {
      "text/html": [
       "<div>\n",
       "<style scoped>\n",
       "    .dataframe tbody tr th:only-of-type {\n",
       "        vertical-align: middle;\n",
       "    }\n",
       "\n",
       "    .dataframe tbody tr th {\n",
       "        vertical-align: top;\n",
       "    }\n",
       "\n",
       "    .dataframe thead th {\n",
       "        text-align: right;\n",
       "    }\n",
       "</style>\n",
       "<table border=\"1\" class=\"dataframe\">\n",
       "  <thead>\n",
       "    <tr style=\"text-align: right;\">\n",
       "      <th></th>\n",
       "      <th>var1(t-1)</th>\n",
       "      <th>var2(t-1)</th>\n",
       "      <th>var3(t-1)</th>\n",
       "      <th>var4(t-1)</th>\n",
       "      <th>var5(t-1)</th>\n",
       "      <th>var6(t-1)</th>\n",
       "      <th>var7(t-1)</th>\n",
       "      <th>var8(t-1)</th>\n",
       "      <th>var9(t-1)</th>\n",
       "      <th>var10(t-1)</th>\n",
       "      <th>...</th>\n",
       "      <th>var32(t-1)</th>\n",
       "      <th>var33(t-1)</th>\n",
       "      <th>var34(t-1)</th>\n",
       "      <th>var35(t-1)</th>\n",
       "      <th>var36(t-1)</th>\n",
       "      <th>var37(t-1)</th>\n",
       "      <th>var38(t-1)</th>\n",
       "      <th>var39(t-1)</th>\n",
       "      <th>var40(t-1)</th>\n",
       "      <th>var41(t)</th>\n",
       "    </tr>\n",
       "    <tr>\n",
       "      <th>Date</th>\n",
       "      <th></th>\n",
       "      <th></th>\n",
       "      <th></th>\n",
       "      <th></th>\n",
       "      <th></th>\n",
       "      <th></th>\n",
       "      <th></th>\n",
       "      <th></th>\n",
       "      <th></th>\n",
       "      <th></th>\n",
       "      <th></th>\n",
       "      <th></th>\n",
       "      <th></th>\n",
       "      <th></th>\n",
       "      <th></th>\n",
       "      <th></th>\n",
       "      <th></th>\n",
       "      <th></th>\n",
       "      <th></th>\n",
       "      <th></th>\n",
       "      <th></th>\n",
       "    </tr>\n",
       "  </thead>\n",
       "  <tbody>\n",
       "    <tr>\n",
       "      <th>2008-01-08 03:00:00</th>\n",
       "      <td>0.539352</td>\n",
       "      <td>0.457887</td>\n",
       "      <td>0.80188</td>\n",
       "      <td>0.716559</td>\n",
       "      <td>0.408894</td>\n",
       "      <td>0.854703</td>\n",
       "      <td>0.658615</td>\n",
       "      <td>0.298714</td>\n",
       "      <td>0.192956</td>\n",
       "      <td>0.504451</td>\n",
       "      <td>...</td>\n",
       "      <td>0.198701</td>\n",
       "      <td>0.038007</td>\n",
       "      <td>0.218997</td>\n",
       "      <td>0.152071</td>\n",
       "      <td>0.533841</td>\n",
       "      <td>0.493507</td>\n",
       "      <td>0.714518</td>\n",
       "      <td>0.499585</td>\n",
       "      <td>0.535342</td>\n",
       "      <td>0</td>\n",
       "    </tr>\n",
       "    <tr>\n",
       "      <th>2008-01-08 04:00:00</th>\n",
       "      <td>0.000000</td>\n",
       "      <td>0.000000</td>\n",
       "      <td>0.00000</td>\n",
       "      <td>0.000000</td>\n",
       "      <td>0.000000</td>\n",
       "      <td>0.000000</td>\n",
       "      <td>0.000000</td>\n",
       "      <td>0.000000</td>\n",
       "      <td>0.000000</td>\n",
       "      <td>0.000000</td>\n",
       "      <td>...</td>\n",
       "      <td>0.000000</td>\n",
       "      <td>0.000000</td>\n",
       "      <td>0.000000</td>\n",
       "      <td>0.000000</td>\n",
       "      <td>0.000000</td>\n",
       "      <td>0.000000</td>\n",
       "      <td>0.000000</td>\n",
       "      <td>0.000000</td>\n",
       "      <td>0.000000</td>\n",
       "      <td>0</td>\n",
       "    </tr>\n",
       "    <tr>\n",
       "      <th>2008-01-08 05:00:00</th>\n",
       "      <td>0.000000</td>\n",
       "      <td>0.000000</td>\n",
       "      <td>0.00000</td>\n",
       "      <td>0.000000</td>\n",
       "      <td>0.000000</td>\n",
       "      <td>0.000000</td>\n",
       "      <td>0.000000</td>\n",
       "      <td>0.000000</td>\n",
       "      <td>0.000000</td>\n",
       "      <td>0.000000</td>\n",
       "      <td>...</td>\n",
       "      <td>0.000000</td>\n",
       "      <td>0.000000</td>\n",
       "      <td>0.000000</td>\n",
       "      <td>0.000000</td>\n",
       "      <td>0.000000</td>\n",
       "      <td>0.000000</td>\n",
       "      <td>0.000000</td>\n",
       "      <td>0.000000</td>\n",
       "      <td>0.000000</td>\n",
       "      <td>0</td>\n",
       "    </tr>\n",
       "  </tbody>\n",
       "</table>\n",
       "<p>3 rows × 41 columns</p>\n",
       "</div>"
      ],
      "text/plain": [
       "                     var1(t-1)  var2(t-1)  var3(t-1)  var4(t-1)  var5(t-1)  \\\n",
       "Date                                                                         \n",
       "2008-01-08 03:00:00   0.539352   0.457887    0.80188   0.716559   0.408894   \n",
       "2008-01-08 04:00:00   0.000000   0.000000    0.00000   0.000000   0.000000   \n",
       "2008-01-08 05:00:00   0.000000   0.000000    0.00000   0.000000   0.000000   \n",
       "\n",
       "                     var6(t-1)  var7(t-1)  var8(t-1)  var9(t-1)  var10(t-1)  \\\n",
       "Date                                                                          \n",
       "2008-01-08 03:00:00   0.854703   0.658615   0.298714   0.192956    0.504451   \n",
       "2008-01-08 04:00:00   0.000000   0.000000   0.000000   0.000000    0.000000   \n",
       "2008-01-08 05:00:00   0.000000   0.000000   0.000000   0.000000    0.000000   \n",
       "\n",
       "                     ...  var32(t-1)  var33(t-1)  var34(t-1)  var35(t-1)  \\\n",
       "Date                 ...                                                   \n",
       "2008-01-08 03:00:00  ...    0.198701    0.038007    0.218997    0.152071   \n",
       "2008-01-08 04:00:00  ...    0.000000    0.000000    0.000000    0.000000   \n",
       "2008-01-08 05:00:00  ...    0.000000    0.000000    0.000000    0.000000   \n",
       "\n",
       "                     var36(t-1)  var37(t-1)  var38(t-1)  var39(t-1)  \\\n",
       "Date                                                                  \n",
       "2008-01-08 03:00:00    0.533841    0.493507    0.714518    0.499585   \n",
       "2008-01-08 04:00:00    0.000000    0.000000    0.000000    0.000000   \n",
       "2008-01-08 05:00:00    0.000000    0.000000    0.000000    0.000000   \n",
       "\n",
       "                     var40(t-1)  var41(t)  \n",
       "Date                                       \n",
       "2008-01-08 03:00:00    0.535342         0  \n",
       "2008-01-08 04:00:00    0.000000         0  \n",
       "2008-01-08 05:00:00    0.000000         0  \n",
       "\n",
       "[3 rows x 41 columns]"
      ]
     },
     "execution_count": 25,
     "metadata": {},
     "output_type": "execute_result"
    }
   ],
   "source": [
    "# Drop columns we don't want to predict\n",
    "reframed.drop(reframed.columns[[40,41,42,43,44,45,46,47,48,49,50,51,52,53,54,55,56,57,58,59,60,61,62,63,64,65,66,67,68,69,70,\n",
    "                               71,72,73,74,75,76,77,78,79,80]], axis=1, inplace=True)\n",
    "reframed.head(3)"
   ]
  },
  {
   "cell_type": "markdown",
   "metadata": {},
   "source": [
    "The dataset is split into train and test sets, then the train and test sets split into input and output variables. \n",
    "For training are used 250 days from the entire period and the rest are used for testing. Then, the inputs (X) are\n",
    "reshaped into the 3D format [samples, timesteps, features] expected by LSTM model. The shape of the input and output shapes are\n",
    "printed below."
   ]
  },
  {
   "cell_type": "code",
   "execution_count": 26,
   "metadata": {},
   "outputs": [
    {
     "data": {
      "text/plain": [
       "(8104, 41)"
      ]
     },
     "execution_count": 26,
     "metadata": {},
     "output_type": "execute_result"
    }
   ],
   "source": [
    "# Get the values from reframed\n",
    "values = reframed.values\n",
    "# Check the shape\n",
    "values.shape"
   ]
  },
  {
   "cell_type": "code",
   "execution_count": 27,
   "metadata": {},
   "outputs": [
    {
     "name": "stdout",
     "output_type": "stream",
     "text": [
      "(6000, 40)\n",
      "(6000,)\n",
      "(2104, 40)\n",
      "(2104,)\n"
     ]
    }
   ],
   "source": [
    "# Split into train and test sets\n",
    "n_train_hours = 250 * 24                       # use 250 days x 24 hours/day\n",
    "train = values[:n_train_hours, :]\n",
    "test = values[n_train_hours:, :]\n",
    "# Split into input and outputs\n",
    "train_X, train_y = train[:, :-1], train[:, -1]\n",
    "test_X, test_y = test[:, :-1], test[:, -1]\n",
    "\n",
    "# Print input and output shapes\n",
    "print(train_X.shape)\n",
    "print(train_y.shape)\n",
    "print(test_X.shape)\n",
    "print(test_y.shape)"
   ]
  },
  {
   "cell_type": "code",
   "execution_count": 28,
   "metadata": {},
   "outputs": [
    {
     "name": "stdout",
     "output_type": "stream",
     "text": [
      "(6000, 1, 40) (6000,) (2104, 1, 40) (2104,)\n"
     ]
    }
   ],
   "source": [
    "# Reshape input to be 3D [samples, timesteps, features]\n",
    "train_X = train_X.reshape((train_X.shape[0], 1, train_X.shape[1]))\n",
    "test_X = test_X.reshape((test_X.shape[0], 1, test_X.shape[1]))\n",
    "print(train_X.shape, train_y.shape, test_X.shape, test_y.shape)"
   ]
  },
  {
   "cell_type": "markdown",
   "metadata": {},
   "source": [
    "The shape of the train and test input and output sets show that there are used 6000 hours of data for training and about 2000 \n",
    "hours for testing.<br>\n",
    "Next it is built the RNN-LSTM model. There are four LSTM layers with 50 neurons each. The first layer has the input-shape() \n",
    "argument which expects a 3D tensor with shape [samples, timesteps, features]. The return_sequences argument is set to True.\n",
    "After compiling, the model is trained for 10 epochs then evaluated the accuracy score."
   ]
  },
  {
   "cell_type": "code",
   "execution_count": 29,
   "metadata": {},
   "outputs": [],
   "source": [
    "# Build the RNN-LSTM model\n",
    "\n",
    "model_rnn = Sequential()\n",
    "model_rnn.add(LSTM(units = 50, return_sequences=True, input_shape=(train_X.shape[1], train_X.shape[2])))\n",
    "model_rnn.add(Dropout(0.2))\n",
    "model_rnn.add(LSTM(units = 50, return_sequences=True))\n",
    "model_rnn.add(Dropout(0.2))\n",
    "model_rnn.add(LSTM(units = 50, return_sequences=True))\n",
    "model_rnn.add(Dropout(0.2))\n",
    "model_rnn.add(LSTM(units = 50))\n",
    "model_rnn.add(Dropout(0.2))\n",
    "model_rnn.add(Dense(units = 1))"
   ]
  },
  {
   "cell_type": "code",
   "execution_count": 30,
   "metadata": {},
   "outputs": [
    {
     "name": "stdout",
     "output_type": "stream",
     "text": [
      "Epoch 1/10\n",
      "94/94 [==============================] - 5s 16ms/step - loss: nan - accuracy: 0.9162 - val_loss: nan - val_accuracy: 0.8394\n",
      "Epoch 2/10\n",
      "94/94 [==============================] - 1s 5ms/step - loss: nan - accuracy: 0.9143 - val_loss: nan - val_accuracy: 0.8394\n",
      "Epoch 3/10\n",
      "94/94 [==============================] - 1s 6ms/step - loss: nan - accuracy: 0.9183 - val_loss: nan - val_accuracy: 0.8394\n",
      "Epoch 4/10\n",
      "94/94 [==============================] - 1s 5ms/step - loss: nan - accuracy: 0.9093 - val_loss: nan - val_accuracy: 0.8394\n",
      "Epoch 5/10\n",
      "94/94 [==============================] - 1s 6ms/step - loss: nan - accuracy: 0.9139 - val_loss: nan - val_accuracy: 0.8394\n",
      "Epoch 6/10\n",
      "94/94 [==============================] - 1s 6ms/step - loss: nan - accuracy: 0.9146 - val_loss: nan - val_accuracy: 0.8394\n",
      "Epoch 7/10\n",
      "94/94 [==============================] - 1s 6ms/step - loss: nan - accuracy: 0.9120 - val_loss: nan - val_accuracy: 0.8394\n",
      "Epoch 8/10\n",
      "94/94 [==============================] - 1s 6ms/step - loss: nan - accuracy: 0.9125 - val_loss: nan - val_accuracy: 0.8394\n",
      "Epoch 9/10\n",
      "94/94 [==============================] - 1s 5ms/step - loss: nan - accuracy: 0.9117 - val_loss: nan - val_accuracy: 0.8394\n",
      "Epoch 10/10\n",
      "94/94 [==============================] - 1s 6ms/step - loss: nan - accuracy: 0.9164 - val_loss: nan - val_accuracy: 0.8394\n"
     ]
    },
    {
     "data": {
      "text/plain": [
       "<tensorflow.python.keras.callbacks.History at 0x2051b75ad08>"
      ]
     },
     "execution_count": 30,
     "metadata": {},
     "output_type": "execute_result"
    }
   ],
   "source": [
    "# Compiling the sequential model\n",
    "model_rnn.compile(loss='categorical_crossentropy', metrics=['accuracy'], optimizer='adam')\n",
    "\n",
    "# Training the model\n",
    "model_rnn.fit(train_X, train_y, batch_size=64, epochs=10, validation_data=(test_X, test_y))"
   ]
  },
  {
   "cell_type": "code",
   "execution_count": 31,
   "metadata": {},
   "outputs": [
    {
     "name": "stdout",
     "output_type": "stream",
     "text": [
      "Model RNN Accuracy: 83.94%\n"
     ]
    }
   ],
   "source": [
    "# Evaluate model\n",
    "scores = model_rnn.evaluate(test_X, test_y, verbose=0)\n",
    "print(\"Model RNN Accuracy: %.2f%%\" % (scores[1]*100))"
   ]
  },
  {
   "cell_type": "markdown",
   "metadata": {},
   "source": [
    "The RNN-LSTM model achieved an accuracy score of **84%**."
   ]
  },
  {
   "cell_type": "code",
   "execution_count": null,
   "metadata": {},
   "outputs": [],
   "source": [
    "# Solicit Feedback - Question 1\n",
    "\n",
    "# Is there a better way to split train and test series data for obtaining the inputs and outputs for building the RNN model? "
   ]
  },
  {
   "cell_type": "markdown",
   "metadata": {},
   "source": [
    "### 4. Summarize your findings with examples\n",
    "\n",
    "#### Explain what the manufacturer should focus on to optimize the diaper manufacturing process."
   ]
  },
  {
   "cell_type": "markdown",
   "metadata": {},
   "source": [
    "- The SECOM dataset was **cleaned and prepared** by imputing missing values and replacing outliers. \n",
    "\n",
    "- To address the **class imbalance** in the label, it was applied **SMOTE technique** to do oversampling of the minority class. \n",
    "\n",
    "- **Feature selection** (previously done), yielded a subset of the most relevant features to the target variable. \n",
    "\n",
    "- The **subset of 40 features** was used for building three classification models for predicting the diaper quality: a **Multi-layer \n",
    "Neural Network perceptron classifier (MLP)**, a **Deep Neural Network (DNN)** classifier and a  **Recurrent Neural \n",
    "Networks (RNN)-Long Short-Term Memory (LSTM) model**. \n",
    "\n",
    "- For **modeling** the secom sequence data **as time series with multiple input variables**, the **input and output data** needed to be \n",
    "prepared to **match the input and output of the LSTM model**. Each model was evaluated by calculating the accuracy rate. \n",
    "The **highest accuracy rate** was achieved by the **DNN model** with a value of **94.3%**, followed by the MLP model with 91.3% and the \n",
    "RNN model with 84%.\n",
    "\n",
    "The Neural network models built behave like black box algorithms, and this does not allow drawing direct recommendations for \n",
    "the diaper manufacturer regarding the sensor measurements. But, as mentioned above, only 40 features were \n",
    "selected as relevant from the initial 590 attributes for building the classification models. \n",
    "\n",
    "It can be concluded that multiple sensor measurements were not important in determining whether or not an anomaly is detected. \n",
    "Since sensor measurements are subject to noise or irrelevant information, when selecting a sensor, the manufacturer should \n",
    "understand the impact of each characteristic on the measurements and make sure to select a sensor that aligns closely with \n",
    "the project requirements."
   ]
  },
  {
   "cell_type": "code",
   "execution_count": null,
   "metadata": {},
   "outputs": [],
   "source": []
  }
 ],
 "metadata": {
  "kernelspec": {
   "display_name": "Python 3 (ipykernel)",
   "language": "python",
   "name": "python3"
  },
  "language_info": {
   "codemirror_mode": {
    "name": "ipython",
    "version": 3
   },
   "file_extension": ".py",
   "mimetype": "text/x-python",
   "name": "python",
   "nbconvert_exporter": "python",
   "pygments_lexer": "ipython3",
   "version": "3.9.12"
  }
 },
 "nbformat": 4,
 "nbformat_minor": 4
}
