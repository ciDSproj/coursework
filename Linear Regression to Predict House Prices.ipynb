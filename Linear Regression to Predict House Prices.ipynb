{
 "cells": [
  {
   "cell_type": "markdown",
   "metadata": {},
   "source": [
    "# Linear Regression to Predict House Prices\n",
    "\n",
    "## Author - Catalina Ifrim\n",
    "\n"
   ]
  },
  {
   "cell_type": "code",
   "execution_count": null,
   "metadata": {},
   "outputs": [],
   "source": [
    "\"\"\"\n",
    "UW DATASCI410-Methods for Data Analysis\n",
    "Milestone3-Linear Regression\n",
    "\n",
    "\"\"\""
   ]
  },
  {
   "cell_type": "markdown",
   "metadata": {},
   "source": [
    "### Introduction"
   ]
  },
  {
   "cell_type": "markdown",
   "metadata": {},
   "source": [
    "The EDA and Hypothesis Testing results for housing dataset, obtained in previous milestones were used for building predictive \n",
    "regression models. The project includes selecting the features, building the initial model and improving it by applying \n",
    "feature engineering techniques, then buiding other types of regression models.\n",
    "\n",
    "Building the models was an iterative process. The **initial linear regression model** for predicting house prices was built based on\n",
    "features identified during EDA. Trying to **improve the model**, were built two other models by **adding new features** obtained \n",
    "using **feature engineering** techniques. There were built also a couple of other models using **regularization techniques** \n",
    "(**Lasso and Ridge regression**)."
   ]
  },
  {
   "cell_type": "markdown",
   "metadata": {},
   "source": [
    "### Dataset information\n",
    "\n",
    "The dataset \"kc_house_data.csv\" contains house sale prices for King County, including Seattle for houses sold between May 2014\n",
    "and May 2015. The dataset is located at: https://library.startlearninglabs.uw.edu/DATASCI410/Datasets/kc_house_data.csv. \n",
    "There are 21613 observations in the dataset and 20 attributes. Each entry contains information about house characteristics.\n",
    "\n",
    "Attribute information:\n",
    "\n",
    "- id: Unique identifier for the house\n",
    "- date: Date when house was sold\n",
    "- price: House price\n",
    "- bedrooms: Number of bedrooms\n",
    "- bathrooms: Number of bathrooms\n",
    "- sqft_living: Square footage of the home \n",
    "- sqft_lot: Square footage of the lot\n",
    "- floors: Number of floors (levels) in the house\n",
    "- waterfront: House which has a view to a waterfront\n",
    "- view: Has been viewed\n",
    "- condition: How good the condition is (overall). It is coded on a 1-5 scale, with 1 being \"poor\" and 5 being \"very good\". \n",
    "- grade: Overall grade given to the housing unit, based on King County grading system. The grade refers to the design and \n",
    "quality of the construction.\n",
    "- sqft_above: Square footage of the house apart from basement\n",
    "- sqft_basement: Square footage of the basement\n",
    "- yr_built: Built year\n",
    "- yr_renovated: Year when house was renovated\n",
    "- zipcode: Zipcode of the house location\n",
    "- lat: Latitude coordinate\n",
    "- long: Longitude coordinate\n",
    "- sqft_living15: The square footage of interior housing living space for the nearest 15 neighbors\n",
    "- sqft_lot15: The square footage of the land lots of the nearest 15 neighbors "
   ]
  },
  {
   "cell_type": "code",
   "execution_count": 1,
   "metadata": {},
   "outputs": [],
   "source": [
    "# Load necessary libraries\n",
    "import pandas as pd\n",
    "import numpy as np\n",
    "import matplotlib.pyplot as plt\n",
    "import seaborn as sns\n",
    "\n",
    "from sklearn.model_selection import train_test_split\n",
    "from sklearn import linear_model\n",
    "from sklearn.linear_model import LinearRegression\n",
    "#import statsmodels.api as sm\n",
    "from sklearn.metrics import mean_squared_error, r2_score\n",
    "import statsmodels.formula.api as sm\n",
    "from sklearn.cluster import KMeans\n",
    "from sklearn.linear_model import Ridge\n",
    "from sklearn.linear_model import Lasso\n",
    "\n",
    "%matplotlib inline"
   ]
  },
  {
   "cell_type": "markdown",
   "metadata": {},
   "source": [
    "### Load Data"
   ]
  },
  {
   "cell_type": "code",
   "execution_count": 2,
   "metadata": {},
   "outputs": [],
   "source": [
    "# Load data\n",
    "filename = 'https://library.startlearninglabs.uw.edu/DATASCI410/Datasets/kc_house_data.csv'\n",
    "house_price = pd.read_csv(filename)"
   ]
  },
  {
   "cell_type": "code",
   "execution_count": 3,
   "metadata": {},
   "outputs": [
    {
     "name": "stdout",
     "output_type": "stream",
     "text": [
      "(21613, 21)\n"
     ]
    },
    {
     "data": {
      "text/html": [
       "<div>\n",
       "<style scoped>\n",
       "    .dataframe tbody tr th:only-of-type {\n",
       "        vertical-align: middle;\n",
       "    }\n",
       "\n",
       "    .dataframe tbody tr th {\n",
       "        vertical-align: top;\n",
       "    }\n",
       "\n",
       "    .dataframe thead th {\n",
       "        text-align: right;\n",
       "    }\n",
       "</style>\n",
       "<table border=\"1\" class=\"dataframe\">\n",
       "  <thead>\n",
       "    <tr style=\"text-align: right;\">\n",
       "      <th></th>\n",
       "      <th>id</th>\n",
       "      <th>date</th>\n",
       "      <th>price</th>\n",
       "      <th>bedrooms</th>\n",
       "      <th>bathrooms</th>\n",
       "      <th>sqft_living</th>\n",
       "      <th>sqft_lot</th>\n",
       "      <th>floors</th>\n",
       "      <th>waterfront</th>\n",
       "      <th>view</th>\n",
       "      <th>...</th>\n",
       "      <th>grade</th>\n",
       "      <th>sqft_above</th>\n",
       "      <th>sqft_basement</th>\n",
       "      <th>yr_built</th>\n",
       "      <th>yr_renovated</th>\n",
       "      <th>zipcode</th>\n",
       "      <th>lat</th>\n",
       "      <th>long</th>\n",
       "      <th>sqft_living15</th>\n",
       "      <th>sqft_lot15</th>\n",
       "    </tr>\n",
       "  </thead>\n",
       "  <tbody>\n",
       "    <tr>\n",
       "      <th>0</th>\n",
       "      <td>7129300520</td>\n",
       "      <td>20141013T000000</td>\n",
       "      <td>221900.0</td>\n",
       "      <td>3</td>\n",
       "      <td>1.00</td>\n",
       "      <td>1180</td>\n",
       "      <td>5650</td>\n",
       "      <td>1.0</td>\n",
       "      <td>0</td>\n",
       "      <td>0</td>\n",
       "      <td>...</td>\n",
       "      <td>7</td>\n",
       "      <td>1180</td>\n",
       "      <td>0</td>\n",
       "      <td>1955</td>\n",
       "      <td>0</td>\n",
       "      <td>98178</td>\n",
       "      <td>47.5112</td>\n",
       "      <td>-122.257</td>\n",
       "      <td>1340</td>\n",
       "      <td>5650</td>\n",
       "    </tr>\n",
       "    <tr>\n",
       "      <th>1</th>\n",
       "      <td>6414100192</td>\n",
       "      <td>20141209T000000</td>\n",
       "      <td>538000.0</td>\n",
       "      <td>3</td>\n",
       "      <td>2.25</td>\n",
       "      <td>2570</td>\n",
       "      <td>7242</td>\n",
       "      <td>2.0</td>\n",
       "      <td>0</td>\n",
       "      <td>0</td>\n",
       "      <td>...</td>\n",
       "      <td>7</td>\n",
       "      <td>2170</td>\n",
       "      <td>400</td>\n",
       "      <td>1951</td>\n",
       "      <td>1991</td>\n",
       "      <td>98125</td>\n",
       "      <td>47.7210</td>\n",
       "      <td>-122.319</td>\n",
       "      <td>1690</td>\n",
       "      <td>7639</td>\n",
       "    </tr>\n",
       "    <tr>\n",
       "      <th>2</th>\n",
       "      <td>5631500400</td>\n",
       "      <td>20150225T000000</td>\n",
       "      <td>180000.0</td>\n",
       "      <td>2</td>\n",
       "      <td>1.00</td>\n",
       "      <td>770</td>\n",
       "      <td>10000</td>\n",
       "      <td>1.0</td>\n",
       "      <td>0</td>\n",
       "      <td>0</td>\n",
       "      <td>...</td>\n",
       "      <td>6</td>\n",
       "      <td>770</td>\n",
       "      <td>0</td>\n",
       "      <td>1933</td>\n",
       "      <td>0</td>\n",
       "      <td>98028</td>\n",
       "      <td>47.7379</td>\n",
       "      <td>-122.233</td>\n",
       "      <td>2720</td>\n",
       "      <td>8062</td>\n",
       "    </tr>\n",
       "    <tr>\n",
       "      <th>3</th>\n",
       "      <td>2487200875</td>\n",
       "      <td>20141209T000000</td>\n",
       "      <td>604000.0</td>\n",
       "      <td>4</td>\n",
       "      <td>3.00</td>\n",
       "      <td>1960</td>\n",
       "      <td>5000</td>\n",
       "      <td>1.0</td>\n",
       "      <td>0</td>\n",
       "      <td>0</td>\n",
       "      <td>...</td>\n",
       "      <td>7</td>\n",
       "      <td>1050</td>\n",
       "      <td>910</td>\n",
       "      <td>1965</td>\n",
       "      <td>0</td>\n",
       "      <td>98136</td>\n",
       "      <td>47.5208</td>\n",
       "      <td>-122.393</td>\n",
       "      <td>1360</td>\n",
       "      <td>5000</td>\n",
       "    </tr>\n",
       "    <tr>\n",
       "      <th>4</th>\n",
       "      <td>1954400510</td>\n",
       "      <td>20150218T000000</td>\n",
       "      <td>510000.0</td>\n",
       "      <td>3</td>\n",
       "      <td>2.00</td>\n",
       "      <td>1680</td>\n",
       "      <td>8080</td>\n",
       "      <td>1.0</td>\n",
       "      <td>0</td>\n",
       "      <td>0</td>\n",
       "      <td>...</td>\n",
       "      <td>8</td>\n",
       "      <td>1680</td>\n",
       "      <td>0</td>\n",
       "      <td>1987</td>\n",
       "      <td>0</td>\n",
       "      <td>98074</td>\n",
       "      <td>47.6168</td>\n",
       "      <td>-122.045</td>\n",
       "      <td>1800</td>\n",
       "      <td>7503</td>\n",
       "    </tr>\n",
       "  </tbody>\n",
       "</table>\n",
       "<p>5 rows × 21 columns</p>\n",
       "</div>"
      ],
      "text/plain": [
       "           id             date     price  bedrooms  bathrooms  sqft_living  \\\n",
       "0  7129300520  20141013T000000  221900.0         3       1.00         1180   \n",
       "1  6414100192  20141209T000000  538000.0         3       2.25         2570   \n",
       "2  5631500400  20150225T000000  180000.0         2       1.00          770   \n",
       "3  2487200875  20141209T000000  604000.0         4       3.00         1960   \n",
       "4  1954400510  20150218T000000  510000.0         3       2.00         1680   \n",
       "\n",
       "   sqft_lot  floors  waterfront  view  ...  grade  sqft_above  sqft_basement  \\\n",
       "0      5650     1.0           0     0  ...      7        1180              0   \n",
       "1      7242     2.0           0     0  ...      7        2170            400   \n",
       "2     10000     1.0           0     0  ...      6         770              0   \n",
       "3      5000     1.0           0     0  ...      7        1050            910   \n",
       "4      8080     1.0           0     0  ...      8        1680              0   \n",
       "\n",
       "   yr_built  yr_renovated  zipcode      lat     long  sqft_living15  \\\n",
       "0      1955             0    98178  47.5112 -122.257           1340   \n",
       "1      1951          1991    98125  47.7210 -122.319           1690   \n",
       "2      1933             0    98028  47.7379 -122.233           2720   \n",
       "3      1965             0    98136  47.5208 -122.393           1360   \n",
       "4      1987             0    98074  47.6168 -122.045           1800   \n",
       "\n",
       "   sqft_lot15  \n",
       "0        5650  \n",
       "1        7639  \n",
       "2        8062  \n",
       "3        5000  \n",
       "4        7503  \n",
       "\n",
       "[5 rows x 21 columns]"
      ]
     },
     "execution_count": 3,
     "metadata": {},
     "output_type": "execute_result"
    }
   ],
   "source": [
    "# Print the shape and the first few rows\n",
    "print(house_price.shape)\n",
    "house_price.head()"
   ]
  },
  {
   "cell_type": "markdown",
   "metadata": {},
   "source": [
    "Observations regarding the dataset:\n",
    "\n",
    "- There are more than 21613 entries in the dataset.\n",
    "- There are 20 columns most of them containing numeric data, either floating point number (float64) or integer (int64). Only \n",
    "the column 'date' is of type \"object\"."
   ]
  },
  {
   "cell_type": "code",
   "execution_count": 4,
   "metadata": {},
   "outputs": [
    {
     "data": {
      "text/html": [
       "<div>\n",
       "<style scoped>\n",
       "    .dataframe tbody tr th:only-of-type {\n",
       "        vertical-align: middle;\n",
       "    }\n",
       "\n",
       "    .dataframe tbody tr th {\n",
       "        vertical-align: top;\n",
       "    }\n",
       "\n",
       "    .dataframe thead th {\n",
       "        text-align: right;\n",
       "    }\n",
       "</style>\n",
       "<table border=\"1\" class=\"dataframe\">\n",
       "  <thead>\n",
       "    <tr style=\"text-align: right;\">\n",
       "      <th></th>\n",
       "      <th>id</th>\n",
       "      <th>price</th>\n",
       "      <th>bedrooms</th>\n",
       "      <th>bathrooms</th>\n",
       "      <th>sqft_living</th>\n",
       "      <th>sqft_lot</th>\n",
       "      <th>floors</th>\n",
       "      <th>waterfront</th>\n",
       "      <th>view</th>\n",
       "      <th>condition</th>\n",
       "      <th>grade</th>\n",
       "      <th>sqft_above</th>\n",
       "      <th>sqft_basement</th>\n",
       "      <th>yr_built</th>\n",
       "      <th>yr_renovated</th>\n",
       "      <th>zipcode</th>\n",
       "      <th>lat</th>\n",
       "      <th>long</th>\n",
       "      <th>sqft_living15</th>\n",
       "      <th>sqft_lot15</th>\n",
       "    </tr>\n",
       "  </thead>\n",
       "  <tbody>\n",
       "    <tr>\n",
       "      <th>count</th>\n",
       "      <td>2.161300e+04</td>\n",
       "      <td>2.161300e+04</td>\n",
       "      <td>21613.000000</td>\n",
       "      <td>21613.000000</td>\n",
       "      <td>21613.000000</td>\n",
       "      <td>2.161300e+04</td>\n",
       "      <td>21613.000000</td>\n",
       "      <td>21613.000000</td>\n",
       "      <td>21613.000000</td>\n",
       "      <td>21613.000000</td>\n",
       "      <td>21613.000000</td>\n",
       "      <td>21613.000000</td>\n",
       "      <td>21613.000000</td>\n",
       "      <td>21613.000000</td>\n",
       "      <td>21613.000000</td>\n",
       "      <td>21613.000000</td>\n",
       "      <td>21613.000000</td>\n",
       "      <td>21613.000000</td>\n",
       "      <td>21613.000000</td>\n",
       "      <td>21613.000000</td>\n",
       "    </tr>\n",
       "    <tr>\n",
       "      <th>mean</th>\n",
       "      <td>4.580302e+09</td>\n",
       "      <td>5.400881e+05</td>\n",
       "      <td>3.370842</td>\n",
       "      <td>2.114757</td>\n",
       "      <td>2079.899736</td>\n",
       "      <td>1.510697e+04</td>\n",
       "      <td>1.494309</td>\n",
       "      <td>0.007542</td>\n",
       "      <td>0.234303</td>\n",
       "      <td>3.409430</td>\n",
       "      <td>7.656873</td>\n",
       "      <td>1788.390691</td>\n",
       "      <td>291.509045</td>\n",
       "      <td>1971.005136</td>\n",
       "      <td>84.402258</td>\n",
       "      <td>98077.939805</td>\n",
       "      <td>47.560053</td>\n",
       "      <td>-122.213896</td>\n",
       "      <td>1986.552492</td>\n",
       "      <td>12768.455652</td>\n",
       "    </tr>\n",
       "    <tr>\n",
       "      <th>std</th>\n",
       "      <td>2.876566e+09</td>\n",
       "      <td>3.671272e+05</td>\n",
       "      <td>0.930062</td>\n",
       "      <td>0.770163</td>\n",
       "      <td>918.440897</td>\n",
       "      <td>4.142051e+04</td>\n",
       "      <td>0.539989</td>\n",
       "      <td>0.086517</td>\n",
       "      <td>0.766318</td>\n",
       "      <td>0.650743</td>\n",
       "      <td>1.175459</td>\n",
       "      <td>828.090978</td>\n",
       "      <td>442.575043</td>\n",
       "      <td>29.373411</td>\n",
       "      <td>401.679240</td>\n",
       "      <td>53.505026</td>\n",
       "      <td>0.138564</td>\n",
       "      <td>0.140828</td>\n",
       "      <td>685.391304</td>\n",
       "      <td>27304.179631</td>\n",
       "    </tr>\n",
       "    <tr>\n",
       "      <th>min</th>\n",
       "      <td>1.000102e+06</td>\n",
       "      <td>7.500000e+04</td>\n",
       "      <td>0.000000</td>\n",
       "      <td>0.000000</td>\n",
       "      <td>290.000000</td>\n",
       "      <td>5.200000e+02</td>\n",
       "      <td>1.000000</td>\n",
       "      <td>0.000000</td>\n",
       "      <td>0.000000</td>\n",
       "      <td>1.000000</td>\n",
       "      <td>1.000000</td>\n",
       "      <td>290.000000</td>\n",
       "      <td>0.000000</td>\n",
       "      <td>1900.000000</td>\n",
       "      <td>0.000000</td>\n",
       "      <td>98001.000000</td>\n",
       "      <td>47.155900</td>\n",
       "      <td>-122.519000</td>\n",
       "      <td>399.000000</td>\n",
       "      <td>651.000000</td>\n",
       "    </tr>\n",
       "    <tr>\n",
       "      <th>25%</th>\n",
       "      <td>2.123049e+09</td>\n",
       "      <td>3.219500e+05</td>\n",
       "      <td>3.000000</td>\n",
       "      <td>1.750000</td>\n",
       "      <td>1427.000000</td>\n",
       "      <td>5.040000e+03</td>\n",
       "      <td>1.000000</td>\n",
       "      <td>0.000000</td>\n",
       "      <td>0.000000</td>\n",
       "      <td>3.000000</td>\n",
       "      <td>7.000000</td>\n",
       "      <td>1190.000000</td>\n",
       "      <td>0.000000</td>\n",
       "      <td>1951.000000</td>\n",
       "      <td>0.000000</td>\n",
       "      <td>98033.000000</td>\n",
       "      <td>47.471000</td>\n",
       "      <td>-122.328000</td>\n",
       "      <td>1490.000000</td>\n",
       "      <td>5100.000000</td>\n",
       "    </tr>\n",
       "    <tr>\n",
       "      <th>50%</th>\n",
       "      <td>3.904930e+09</td>\n",
       "      <td>4.500000e+05</td>\n",
       "      <td>3.000000</td>\n",
       "      <td>2.250000</td>\n",
       "      <td>1910.000000</td>\n",
       "      <td>7.618000e+03</td>\n",
       "      <td>1.500000</td>\n",
       "      <td>0.000000</td>\n",
       "      <td>0.000000</td>\n",
       "      <td>3.000000</td>\n",
       "      <td>7.000000</td>\n",
       "      <td>1560.000000</td>\n",
       "      <td>0.000000</td>\n",
       "      <td>1975.000000</td>\n",
       "      <td>0.000000</td>\n",
       "      <td>98065.000000</td>\n",
       "      <td>47.571800</td>\n",
       "      <td>-122.230000</td>\n",
       "      <td>1840.000000</td>\n",
       "      <td>7620.000000</td>\n",
       "    </tr>\n",
       "    <tr>\n",
       "      <th>75%</th>\n",
       "      <td>7.308900e+09</td>\n",
       "      <td>6.450000e+05</td>\n",
       "      <td>4.000000</td>\n",
       "      <td>2.500000</td>\n",
       "      <td>2550.000000</td>\n",
       "      <td>1.068800e+04</td>\n",
       "      <td>2.000000</td>\n",
       "      <td>0.000000</td>\n",
       "      <td>0.000000</td>\n",
       "      <td>4.000000</td>\n",
       "      <td>8.000000</td>\n",
       "      <td>2210.000000</td>\n",
       "      <td>560.000000</td>\n",
       "      <td>1997.000000</td>\n",
       "      <td>0.000000</td>\n",
       "      <td>98118.000000</td>\n",
       "      <td>47.678000</td>\n",
       "      <td>-122.125000</td>\n",
       "      <td>2360.000000</td>\n",
       "      <td>10083.000000</td>\n",
       "    </tr>\n",
       "    <tr>\n",
       "      <th>max</th>\n",
       "      <td>9.900000e+09</td>\n",
       "      <td>7.700000e+06</td>\n",
       "      <td>33.000000</td>\n",
       "      <td>8.000000</td>\n",
       "      <td>13540.000000</td>\n",
       "      <td>1.651359e+06</td>\n",
       "      <td>3.500000</td>\n",
       "      <td>1.000000</td>\n",
       "      <td>4.000000</td>\n",
       "      <td>5.000000</td>\n",
       "      <td>13.000000</td>\n",
       "      <td>9410.000000</td>\n",
       "      <td>4820.000000</td>\n",
       "      <td>2015.000000</td>\n",
       "      <td>2015.000000</td>\n",
       "      <td>98199.000000</td>\n",
       "      <td>47.777600</td>\n",
       "      <td>-121.315000</td>\n",
       "      <td>6210.000000</td>\n",
       "      <td>871200.000000</td>\n",
       "    </tr>\n",
       "  </tbody>\n",
       "</table>\n",
       "</div>"
      ],
      "text/plain": [
       "                 id         price      bedrooms     bathrooms   sqft_living  \\\n",
       "count  2.161300e+04  2.161300e+04  21613.000000  21613.000000  21613.000000   \n",
       "mean   4.580302e+09  5.400881e+05      3.370842      2.114757   2079.899736   \n",
       "std    2.876566e+09  3.671272e+05      0.930062      0.770163    918.440897   \n",
       "min    1.000102e+06  7.500000e+04      0.000000      0.000000    290.000000   \n",
       "25%    2.123049e+09  3.219500e+05      3.000000      1.750000   1427.000000   \n",
       "50%    3.904930e+09  4.500000e+05      3.000000      2.250000   1910.000000   \n",
       "75%    7.308900e+09  6.450000e+05      4.000000      2.500000   2550.000000   \n",
       "max    9.900000e+09  7.700000e+06     33.000000      8.000000  13540.000000   \n",
       "\n",
       "           sqft_lot        floors    waterfront          view     condition  \\\n",
       "count  2.161300e+04  21613.000000  21613.000000  21613.000000  21613.000000   \n",
       "mean   1.510697e+04      1.494309      0.007542      0.234303      3.409430   \n",
       "std    4.142051e+04      0.539989      0.086517      0.766318      0.650743   \n",
       "min    5.200000e+02      1.000000      0.000000      0.000000      1.000000   \n",
       "25%    5.040000e+03      1.000000      0.000000      0.000000      3.000000   \n",
       "50%    7.618000e+03      1.500000      0.000000      0.000000      3.000000   \n",
       "75%    1.068800e+04      2.000000      0.000000      0.000000      4.000000   \n",
       "max    1.651359e+06      3.500000      1.000000      4.000000      5.000000   \n",
       "\n",
       "              grade    sqft_above  sqft_basement      yr_built  yr_renovated  \\\n",
       "count  21613.000000  21613.000000   21613.000000  21613.000000  21613.000000   \n",
       "mean       7.656873   1788.390691     291.509045   1971.005136     84.402258   \n",
       "std        1.175459    828.090978     442.575043     29.373411    401.679240   \n",
       "min        1.000000    290.000000       0.000000   1900.000000      0.000000   \n",
       "25%        7.000000   1190.000000       0.000000   1951.000000      0.000000   \n",
       "50%        7.000000   1560.000000       0.000000   1975.000000      0.000000   \n",
       "75%        8.000000   2210.000000     560.000000   1997.000000      0.000000   \n",
       "max       13.000000   9410.000000    4820.000000   2015.000000   2015.000000   \n",
       "\n",
       "            zipcode           lat          long  sqft_living15     sqft_lot15  \n",
       "count  21613.000000  21613.000000  21613.000000   21613.000000   21613.000000  \n",
       "mean   98077.939805     47.560053   -122.213896    1986.552492   12768.455652  \n",
       "std       53.505026      0.138564      0.140828     685.391304   27304.179631  \n",
       "min    98001.000000     47.155900   -122.519000     399.000000     651.000000  \n",
       "25%    98033.000000     47.471000   -122.328000    1490.000000    5100.000000  \n",
       "50%    98065.000000     47.571800   -122.230000    1840.000000    7620.000000  \n",
       "75%    98118.000000     47.678000   -122.125000    2360.000000   10083.000000  \n",
       "max    98199.000000     47.777600   -121.315000    6210.000000  871200.000000  "
      ]
     },
     "execution_count": 4,
     "metadata": {},
     "output_type": "execute_result"
    }
   ],
   "source": [
    "# Display summary statistics\n",
    "house_price.describe()"
   ]
  },
  {
   "cell_type": "markdown",
   "metadata": {},
   "source": [
    "From the summary statistics can be observed some useful information:\n",
    "\n",
    "- The average price value is ~540,088 which is slightly higher than the median (450,000). This indicates a skewed distribution.\n",
    "- The min and max price values show a very large range, between 75,000 and 7,700,000. \n",
    "- The standard deviation for price is very high with a value of 367,127. This indicates dispersed values.\n",
    "- Also, for price, the lower IQR is much smaller (approximately half) than the upper IQR. It can be noted that 25% of the \n",
    "prices are less than 321,950 while 25% are more than 645,000. \n",
    "- The mean value of the living space is ~2080 sqft, with a min of 290 sqft and a max of 13,540 sqft. The upper and lower IQR \n",
    "for the sqft_living indicate that 25% of sqft_living is less than 1427 sqft, while 25% is more than 2550 sqft.\n",
    "- For bedrooms the average number is 3 and for baths is 2."
   ]
  },
  {
   "cell_type": "code",
   "execution_count": null,
   "metadata": {},
   "outputs": [],
   "source": [
    "# Check for missing values by counting the NaNs\n",
    "#house_price.isnull().sum()"
   ]
  },
  {
   "cell_type": "markdown",
   "metadata": {},
   "source": [
    "There are no missing values in the dataframe."
   ]
  },
  {
   "cell_type": "markdown",
   "metadata": {},
   "source": [
    "### Treat Outliers"
   ]
  },
  {
   "cell_type": "markdown",
   "metadata": {},
   "source": [
    "The columns bathrooms and bedrooms have outliers. These will be replaced with the mean of the non-outliers."
   ]
  },
  {
   "cell_type": "code",
   "execution_count": 5,
   "metadata": {},
   "outputs": [],
   "source": [
    "# Replace outliers in column 'bathrooms' with the mean of non-outliers\n",
    "\n",
    "# Calculate the limits for values that are not outliers\n",
    "LimitHi = np.mean(house_price['bathrooms']) + 2*np.std(house_price['bathrooms'])\n",
    "LimitLo = np.mean(house_price['bathrooms']) - 2*np.std(house_price['bathrooms'])\n",
    "# Create Flag for values outside of limits\n",
    "FlagBad = (house_price['bathrooms'] < LimitLo) | (house_price['bathrooms'] > LimitHi)\n",
    "# FlagGood is the complement of FlagBad\n",
    "FlagGood = ~FlagBad\n",
    "# Replace outleiers with the mean of non-outliers\n",
    "house_price.loc[FlagBad,'bathrooms'] = np.mean(house_price.loc[FlagGood,'bathrooms'])\n",
    "# Round to two decimals using round function for Pandas dataframe\n",
    "house_price['bathrooms'] = house_price['bathrooms'].round(decimals=2)\n",
    "\n",
    "# Check the counts for 'bathrooms'\n",
    "#house_price['bathrooms'].value_counts()\n",
    "\n",
    "\n",
    "# Replace outliers in column 'bedrooms' with the mean of non-outliers\n",
    "\n",
    "# Calculate the limits for values that are not outliers. \n",
    "LimitHi = np.mean(house_price['bedrooms']) + 2*np.std(house_price['bedrooms'])\n",
    "LimitLo = np.mean(house_price['bedrooms']) - 2*np.std(house_price['bedrooms'])\n",
    "# Create Flag for values outside of limits\n",
    "FlagBad = (house_price['bedrooms'] < LimitLo) | (house_price['bedrooms'] > LimitHi)\n",
    "# FlagGood is the complement of FlagBad\n",
    "FlagGood = ~FlagBad\n",
    "# Replace outleiers with the mean of non-outliers\n",
    "house_price.loc[FlagBad,'bedrooms'] = np.mean(house_price.loc[FlagGood,'bedrooms'])\n",
    "# Column'bedrooms' is now of type 'float' so it needs to be cast back to integer type\n",
    "# Cast the column bedrooms to type int\n",
    "house_price.loc[:,'bedrooms'] = house_price.loc[:,'bedrooms'].astype(int)\n",
    "\n",
    "# Check frequency count for 'bathrooms'\n",
    "#house_price['bedrooms'].value_counts()"
   ]
  },
  {
   "cell_type": "markdown",
   "metadata": {},
   "source": [
    "### Scale Features"
   ]
  },
  {
   "cell_type": "markdown",
   "metadata": {},
   "source": [
    "Before building the regression models, features need to be scaled. Below it is defined a function that will scale the features\n",
    "to have zero mean and unit variance."
   ]
  },
  {
   "cell_type": "code",
   "execution_count": 6,
   "metadata": {},
   "outputs": [],
   "source": [
    "# Define a function to scale the features\n",
    "def scale(col): \n",
    "    \"\"\"Scale a feature to have zero mean and unit variance\"\"\"\n",
    "    mean_col = np.mean(col)\n",
    "    sd_col = np.std(col)\n",
    "    std = (col - mean_col) / sd_col\n",
    "    return std"
   ]
  },
  {
   "cell_type": "code",
   "execution_count": 7,
   "metadata": {},
   "outputs": [],
   "source": [
    "# Scale the independent variables in the dataset and add scaled columns to data frame\n",
    "house_price['sqft_living_scale'] = scale(house_price['sqft_living'])\n",
    "house_price['sqft_living15_scale'] = scale(house_price['sqft_living15'])\n",
    "\n",
    "# Check the dataframe\n",
    "#house_price.head()"
   ]
  },
  {
   "cell_type": "markdown",
   "metadata": {},
   "source": [
    "The EDA in Milestone 1 highlighted that the label **price has a highly right skewed distribution**. The histogram and Kernel \n",
    "Density Estimation plot of price showed that the highest density of prices lies between 400K-600K, with a long tail towards \n",
    "the end indicating a much lower frequency corresponding to high-priced houses going up to ~8000K. <br>\n",
    "For a more symetric distribution, closer to Normal, it will be used the **log price** for building the regression models. "
   ]
  },
  {
   "cell_type": "markdown",
   "metadata": {},
   "source": [
    "### Calculate the log of price"
   ]
  },
  {
   "cell_type": "code",
   "execution_count": 8,
   "metadata": {},
   "outputs": [],
   "source": [
    "# Calculate the log price \n",
    "house_price['log_price'] = np.log(house_price['price'])"
   ]
  },
  {
   "cell_type": "markdown",
   "metadata": {},
   "source": [
    "### Model 1 - Linear Regression - using features identified during EDA"
   ]
  },
  {
   "cell_type": "markdown",
   "metadata": {},
   "source": [
    "The first model is a linear regression and it is built using both Sklearn and Statsmodels. For the model were used the features\n",
    "identified during the EDA performed in Milestone 1.\n",
    "\n",
    "\n",
    "The EDA highlighted the following key relationships between various features of a house and its sales price:\n",
    "\n",
    "- **Neighborhood and location**<br> The higher the livable space of neighborhood homes, the higher gets the price for a house. \n",
    "The sale prices of similar homes in the neighborhood is one of the best indicators of a home’s value. \n",
    "Location is another factor that influences the house price. The average price for a house for most of the zipcodes is of \n",
    "500K-600K. Some zipcodes have an average price much higher (~2000K) and very high-priced houses. \n",
    "- **Home size, usable space, number of bedrooms and bathrooms** <br> Livable space is directly related to a home’s sales price.\n",
    "A bigger home can have higher sales prices. The number of bedrooms is a highly valued factor in determining the \n",
    "price. The prices get higher as the number of bedrooms and bathrooms increases.  \n",
    "- **Condition, design, and quality of construction** <br> Condition values are relative to the age of the house and the grade \n",
    "(based on King County grading system), which refers to the design and quality of the construction. Houses in good condition, do\n",
    "not need expensive repairs after a sale. A good overall design and high quality of the construction could significantly increase\n",
    "the home’s price.\n",
    "\n",
    "Based on these conclusions, for the first linear regression model were selected the following features:<br>\n",
    "**sqft_living, sqft_living15, bedrooms, grade and condition**."
   ]
  },
  {
   "cell_type": "markdown",
   "metadata": {},
   "source": [
    "#### Build Model 1 using Sklearn"
   ]
  },
  {
   "cell_type": "code",
   "execution_count": 9,
   "metadata": {},
   "outputs": [
    {
     "name": "stdout",
     "output_type": "stream",
     "text": [
      "Intercept: \n",
      " 11.421802160891415\n",
      "Coefficients: \n",
      " [ 0.18163848  0.05474258 -0.03452641  0.18099277  0.10425653]\n",
      "R squared: 0.5763 \n",
      "\n"
     ]
    }
   ],
   "source": [
    "# Pull out variables of interest\n",
    "x = house_price[['sqft_living_scale', 'sqft_living15_scale', 'bedrooms', 'grade', 'condition']]\n",
    "y = house_price['log_price']\n",
    "\n",
    "# Convert x to a Numpy array \n",
    "x = x.to_numpy()\n",
    "\n",
    "# Build the model\n",
    "regression_model = LinearRegression()\n",
    "# Fit the data (train the model)\n",
    "regression_model.fit(x, y)\n",
    "# Predict\n",
    "y_predicted = regression_model.predict(x)\n",
    "\n",
    "print('Intercept: \\n', regression_model.intercept_)            # pull out the intercept\n",
    "print('Coefficients: \\n', regression_model.coef_)              # pull out coefficients\n",
    "print('R squared: %.4f \\n' % regression_model.score(x, y))"
   ]
  },
  {
   "cell_type": "markdown",
   "metadata": {},
   "source": [
    "#### Build Model 1 using OLS Statsmodels"
   ]
  },
  {
   "cell_type": "code",
   "execution_count": 10,
   "metadata": {},
   "outputs": [
    {
     "name": "stdout",
     "output_type": "stream",
     "text": [
      "Intercept, Slopes : \n",
      "Intercept              11.421802\n",
      "sqft_living_scale       0.181638\n",
      "sqft_living15_scale     0.054743\n",
      "bedrooms               -0.034526\n",
      "grade                   0.180993\n",
      "condition               0.104257\n",
      "dtype: float64\n"
     ]
    }
   ],
   "source": [
    "# Build the model\n",
    "ols_model = sm.ols(formula = 'log_price ~ sqft_living_scale + sqft_living15_scale + bedrooms + grade + condition', data=house_price)\n",
    "\n",
    "# Get the results\n",
    "results = ols_model.fit()\n",
    "y_output = house_price['log_price']\n",
    "\n",
    "# Get slope (m) and y-intercept (b)\n",
    "print('Intercept, Slopes : \\n{}'.format(results.params))"
   ]
  },
  {
   "cell_type": "markdown",
   "metadata": {},
   "source": [
    "The code below computes summary statistics and makes diagnostic plots for ordinary linear models using the statsmodels library."
   ]
  },
  {
   "cell_type": "code",
   "execution_count": 11,
   "metadata": {},
   "outputs": [
    {
     "name": "stdout",
     "output_type": "stream",
     "text": [
      "\n",
      "SSE, SST, SSR, and RMSE:\n",
      "SSE: 3455.160072591946\n",
      "SST: 5995.094942910212\n",
      "SSR: 2539.934870318266\n",
      "RMSE: 26.287487793975085\n",
      "                            OLS Regression Results                            \n",
      "==============================================================================\n",
      "Dep. Variable:              log_price   R-squared:                       0.576\n",
      "Model:                            OLS   Adj. R-squared:                  0.576\n",
      "Method:                 Least Squares   F-statistic:                     5879.\n",
      "Date:                Mon, 14 Dec 2020   Prob (F-statistic):               0.00\n",
      "Time:                        08:09:01   Log-Likelihood:                -7529.1\n",
      "No. Observations:               21613   AIC:                         1.507e+04\n",
      "Df Residuals:                   21607   BIC:                         1.512e+04\n",
      "Df Model:                           5                                         \n",
      "Covariance Type:            nonrobust                                         \n",
      "=======================================================================================\n",
      "                          coef    std err          t      P>|t|      [0.025      0.975]\n",
      "---------------------------------------------------------------------------------------\n",
      "Intercept              11.4218      0.033    349.336      0.000      11.358      11.486\n",
      "sqft_living_scale       0.1816      0.004     40.689      0.000       0.173       0.190\n",
      "sqft_living15_scale     0.0547      0.004     14.521      0.000       0.047       0.062\n",
      "bedrooms               -0.0345      0.004     -9.704      0.000      -0.042      -0.028\n",
      "grade                   0.1810      0.003     54.999      0.000       0.175       0.187\n",
      "condition               0.1043      0.004     28.652      0.000       0.097       0.111\n",
      "==============================================================================\n",
      "Omnibus:                       28.141   Durbin-Watson:                   1.982\n",
      "Prob(Omnibus):                  0.000   Jarque-Bera (JB):               27.217\n",
      "Skew:                           0.070   Prob(JB):                     1.23e-06\n",
      "Kurtosis:                       2.896   Cond. No.                         129.\n",
      "==============================================================================\n",
      "\n",
      "Warnings:\n",
      "[1] Standard Errors assume that the covariance matrix of the errors is correctly specified.\n"
     ]
    }
   ],
   "source": [
    "# Additional Statistics\n",
    "print('\\nSSE, SST, SSR, and RMSE:')\n",
    "mean_y = np.mean(y_output)\n",
    "sst = np.sum((y_output - mean_y)**2)\n",
    "sse = sst - results.ssr\n",
    "print('SSE: {}'.format(sse))\n",
    "print('SST: {}'.format(sst))\n",
    "print('SSR: {}'.format(results.ssr))\n",
    "print('RMSE: {}'.format(np.sqrt(results.mse_model)))\n",
    "\n",
    "# Get most of the linear regression statistics we are interested in:\n",
    "print(results.summary())"
   ]
  },
  {
   "cell_type": "markdown",
   "metadata": {},
   "source": [
    "It can be observed that the parameters obtained with statsmodels are the same with the parameters obtained using sklearn.\n",
    "\n",
    "The statsmodels results include the values for SSE, SST, SSR and RMSE; the number of observations (21613); the number of the \n",
    "degress of freedom of residuals (21606) and the degrees of freedom of the model which is 6 (there are 6 parameters).\n",
    "Both the R squared and adjusted R squared are 0.576 which is not a high number.\n",
    "According to the value of the RMSE, the predictions for price made by the Linear Regression model are likely off by \n",
    "about 26.28.\n",
    "\n",
    "The p-value for Intercept is 0 and the confidence interval does not include 0, which means it's significant.\n",
    "The coefficients for all parameters are meaningful as well: the p-value is 0 for all of them and the confidence interval for \n",
    "each parameter does not include 0. Since the parameters are significant, they will be kept all in the model.\n",
    "It can be concluded that we can be rejected the null hypothesis that the intercept and coefficients are same as 0."
   ]
  },
  {
   "cell_type": "code",
   "execution_count": 12,
   "metadata": {},
   "outputs": [
    {
     "data": {
      "text/plain": [
       "Text(0.5, 1.0, 'Residual Histogram')"
      ]
     },
     "execution_count": 12,
     "metadata": {},
     "output_type": "execute_result"
    },
    {
     "data": {
      "image/png": "[encoded data removed]",
      "text/plain": [
       "<Figure size 432x288 with 1 Axes>"
      ]
     },
     "metadata": {
      "needs_background": "light"
     },
     "output_type": "display_data"
    }
   ],
   "source": [
    "# Plot the histogram of the residuals\n",
    "sns.distplot(results.resid, hist=True)\n",
    "plt.grid(True)\n",
    "plt.xlabel('Residual')\n",
    "plt.ylabel('Frequency')\n",
    "plt.title('Residual Histogram')"
   ]
  },
  {
   "cell_type": "markdown",
   "metadata": {},
   "source": [
    "It can be noted that the residuals are normally distributed which is an assumption that we have a linear regression."
   ]
  },
  {
   "cell_type": "markdown",
   "metadata": {},
   "source": [
    "### Model 2 - Linear Regression - adding KMeans clusters and a polynomial feature "
   ]
  },
  {
   "cell_type": "markdown",
   "metadata": {},
   "source": [
    "In an attempt to improve model 1, are created two new features. The new features are:\n",
    "- **KMeans** for the **zipcode** variable to find clusters of houses by zipcode.\n",
    "- Create a new polynomial feature obtained by squaring the variable bedrooms: **bedrooms_sqr** = bedrooms * bedrooms. <br>\n",
    "By computing this feature, it increases the separation between a small number of bedrooms (e.g. 1) and a higher \n",
    "number of bedrooms (e.g. 4) since 1 squared is 1, but 4 squared is 16. Consequently this feature will mostly affect houses with\n",
    "many bedrooms.\n",
    "\n",
    "In this model will be also included two other features from the dataset - **view and waterfront** - identified during Hypothesis Simulation in \n",
    "Milestone 2 as having potential predictive power."
   ]
  },
  {
   "cell_type": "markdown",
   "metadata": {},
   "source": [
    "#### Create new features"
   ]
  },
  {
   "cell_type": "code",
   "execution_count": 13,
   "metadata": {},
   "outputs": [],
   "source": [
    "# Apply K-Means and add the cluster labels to the dataset\n",
    "\n",
    "# Create a dataframe using some of the columns except the expert label\n",
    "X = house_price.loc[:, [\"zipcode\"]] \n",
    "\n",
    "# Call the KMeans function from the sklearn module, using two number of clusters\n",
    "kmeans = KMeans(n_clusters=3, max_iter=600, algorithm = 'auto')\n",
    "# Labels returned by KMeans\n",
    "Y = kmeans.fit_predict(X)  \n",
    "# Cluster centers returned by KMeans\n",
    "C = kmeans.cluster_centers_    \n",
    "# Add the cluster label to the dataset\n",
    "house_price['KMeans_Cluster'] = Y\n",
    "\n",
    "# Create bedrooms squared\n",
    "house_price['bedrooms_sqr'] = house_price['bedrooms'] **2"
   ]
  },
  {
   "cell_type": "code",
   "execution_count": null,
   "metadata": {},
   "outputs": [],
   "source": [
    "# Check the dataframe\n",
    "#house_price.head()"
   ]
  },
  {
   "cell_type": "markdown",
   "metadata": {},
   "source": [
    "For model 2, in addition to the features used for model 1, are also used the following features: \n",
    "**view, waterfront, KMeans_Cluster and bedrooms_sqr**."
   ]
  },
  {
   "cell_type": "markdown",
   "metadata": {},
   "source": [
    "#### Build Model 2 using Sklearn"
   ]
  },
  {
   "cell_type": "code",
   "execution_count": 14,
   "metadata": {},
   "outputs": [
    {
     "name": "stdout",
     "output_type": "stream",
     "text": [
      "Intercept: \n",
      " 11.905815722059248\n",
      "Coefficients: \n",
      " [ 0.16942067  0.05781036 -0.18954398  0.16287449  0.09463578  0.07800463\n",
      "  0.3704622  -0.1499408   0.02554209]\n",
      "R squared: 0.6310 \n",
      "\n"
     ]
    }
   ],
   "source": [
    "# Pull out variables of interest\n",
    "x = house_price[['sqft_living_scale', 'sqft_living15_scale', 'bedrooms', 'grade', 'condition', 'view', 'waterfront', 'KMeans_Cluster', 'bedrooms_sqr']]\n",
    "y = house_price['log_price']\n",
    "\n",
    "# Convert x to a Numpy array \n",
    "x = x.to_numpy()\n",
    "\n",
    "# Build the model\n",
    "regression_model = LinearRegression()\n",
    "# Fit the data (train the model)\n",
    "regression_model.fit(x, y)\n",
    "# Predict\n",
    "y_predicted = regression_model.predict(x)\n",
    "\n",
    "print('Intercept: \\n', regression_model.intercept_)            \n",
    "print('Coefficients: \\n', regression_model.coef_)              \n",
    "print('R squared: %.4f \\n' % regression_model.score(x, y))"
   ]
  },
  {
   "cell_type": "markdown",
   "metadata": {},
   "source": [
    "#### Build Model 2 using Statsmodels"
   ]
  },
  {
   "cell_type": "code",
   "execution_count": 15,
   "metadata": {},
   "outputs": [
    {
     "name": "stdout",
     "output_type": "stream",
     "text": [
      "Intercept, Slopes : \n",
      "Intercept              11.905816\n",
      "sqft_living_scale       0.169421\n",
      "sqft_living15_scale     0.057810\n",
      "bedrooms               -0.189544\n",
      "grade                   0.162874\n",
      "condition               0.094636\n",
      "view                    0.078005\n",
      "waterfront              0.370462\n",
      "KMeans_Cluster         -0.149941\n",
      "bedrooms_sqr            0.025542\n",
      "dtype: float64\n"
     ]
    }
   ],
   "source": [
    "# Add new created features\n",
    "ols_model = sm.ols(formula = 'log_price ~ sqft_living_scale + sqft_living15_scale + bedrooms + grade + condition + view + waterfront + KMeans_Cluster + bedrooms_sqr', data=house_price)\n",
    "\n",
    "results = ols_model.fit()\n",
    "y_output = house_price['log_price']\n",
    "\n",
    "# Get slope (m) and y-intercept (b)\n",
    "print('Intercept, Slopes : \\n{}'.format(results.params))"
   ]
  },
  {
   "cell_type": "markdown",
   "metadata": {},
   "source": [
    "Print the evaluation metrics."
   ]
  },
  {
   "cell_type": "code",
   "execution_count": 16,
   "metadata": {},
   "outputs": [
    {
     "name": "stdout",
     "output_type": "stream",
     "text": [
      "\n",
      "SSE, SST, SSR, and RMSE:\n",
      "SSE: 3782.7984529196015\n",
      "SST: 5995.094942910212\n",
      "SSR: 2212.2964899906106\n",
      "RMSE: 20.501486268397443\n",
      "                            OLS Regression Results                            \n",
      "==============================================================================\n",
      "Dep. Variable:              log_price   R-squared:                       0.631\n",
      "Model:                            OLS   Adj. R-squared:                  0.631\n",
      "Method:                 Least Squares   F-statistic:                     4104.\n",
      "Date:                Mon, 14 Dec 2020   Prob (F-statistic):               0.00\n",
      "Time:                        08:09:48   Log-Likelihood:                -6036.7\n",
      "No. Observations:               21613   AIC:                         1.209e+04\n",
      "Df Residuals:                   21603   BIC:                         1.217e+04\n",
      "Df Model:                           9                                         \n",
      "Covariance Type:            nonrobust                                         \n",
      "=======================================================================================\n",
      "                          coef    std err          t      P>|t|      [0.025      0.975]\n",
      "---------------------------------------------------------------------------------------\n",
      "Intercept              11.9058      0.042    282.710      0.000      11.823      11.988\n",
      "sqft_living_scale       0.1694      0.004     40.284      0.000       0.161       0.178\n",
      "sqft_living15_scale     0.0578      0.004     16.300      0.000       0.051       0.065\n",
      "bedrooms               -0.1895      0.019     -9.861      0.000      -0.227      -0.152\n",
      "grade                   0.1629      0.003     52.380      0.000       0.157       0.169\n",
      "condition               0.0946      0.003     27.760      0.000       0.088       0.101\n",
      "view                    0.0780      0.003     23.895      0.000       0.072       0.084\n",
      "waterfront              0.3705      0.028     13.460      0.000       0.317       0.424\n",
      "KMeans_Cluster         -0.1499      0.003    -45.097      0.000      -0.156      -0.143\n",
      "bedrooms_sqr            0.0255      0.003      9.256      0.000       0.020       0.031\n",
      "==============================================================================\n",
      "Omnibus:                        3.130   Durbin-Watson:                   1.974\n",
      "Prob(Omnibus):                  0.209   Jarque-Bera (JB):                3.186\n",
      "Skew:                           0.012   Prob(JB):                        0.203\n",
      "Kurtosis:                       3.054   Cond. No.                         321.\n",
      "==============================================================================\n",
      "\n",
      "Warnings:\n",
      "[1] Standard Errors assume that the covariance matrix of the errors is correctly specified.\n"
     ]
    }
   ],
   "source": [
    "# Additional Statistics\n",
    "print('\\nSSE, SST, SSR, and RMSE:')\n",
    "mean_y = np.mean(y_output)\n",
    "sst = np.sum((y_output - mean_y)**2)\n",
    "sse = sst - results.ssr\n",
    "print('SSE: {}'.format(sse))\n",
    "print('SST: {}'.format(sst))\n",
    "print('SSR: {}'.format(results.ssr))\n",
    "print('RMSE: {}'.format(np.sqrt(results.mse_model)))\n",
    "\n",
    "# Get most of the linear regression statistics we are interested in:\n",
    "print(results.summary())"
   ]
  },
  {
   "cell_type": "markdown",
   "metadata": {},
   "source": [
    "It can be noted that the Intercept and all the coeficients have the p-value 0 and the confidence interval for each parameter \n",
    "does not include zero. The null hypothesis can be rejected.\n",
    "Both R-squared and adjusted R-squared have a value of 0.631, higher than the R-squared for model 1 (0.57). This means that the\n",
    "new parameters included in model 2 add value to the model. Also, the AIC score has a value of 12090, lower than \n",
    "AIC value of 15070 obtained for model 1."
   ]
  },
  {
   "cell_type": "code",
   "execution_count": 17,
   "metadata": {},
   "outputs": [
    {
     "data": {
      "text/plain": [
       "Text(0.5, 1.0, 'Residual Histogram')"
      ]
     },
     "execution_count": 17,
     "metadata": {},
     "output_type": "execute_result"
    },
    {
     "data": {
      "image/png": "[encoded data removed]",
      "text/plain": [
       "<Figure size 432x288 with 1 Axes>"
      ]
     },
     "metadata": {
      "needs_background": "light"
     },
     "output_type": "display_data"
    }
   ],
   "source": [
    "# Plot the histogram of the residuals\n",
    "sns.distplot(results.resid, hist=True)\n",
    "plt.grid(True)\n",
    "plt.xlabel('Residual')\n",
    "plt.ylabel('Frequency')\n",
    "plt.title('Residual Histogram')"
   ]
  },
  {
   "cell_type": "markdown",
   "metadata": {},
   "source": [
    "The histogram shows that the residuals have a normal distribution."
   ]
  },
  {
   "cell_type": "markdown",
   "metadata": {},
   "source": [
    "### Model 3 - Linear Regression - adding an interaction term and a polynomial feature"
   ]
  },
  {
   "cell_type": "markdown",
   "metadata": {},
   "source": [
    "The third model included two new features. The new features are:\n",
    "- another polynomial term, bathrooms squared: **bathrooms_sqr** = bathrooms * bathrooms\n",
    "- an interaction term: **beds_baths** = bedrooms x bathrooms"
   ]
  },
  {
   "cell_type": "markdown",
   "metadata": {},
   "source": [
    "#### Create new features"
   ]
  },
  {
   "cell_type": "code",
   "execution_count": 18,
   "metadata": {},
   "outputs": [],
   "source": [
    "# Create bathrooms squared\n",
    "house_price['bathrooms_sqr'] = house_price['bathrooms'] **2\n",
    "\n",
    "# Create bedrooms*bathrooms \n",
    "house_price['beds_baths'] = house_price['bedrooms'] * house_price['bathrooms']"
   ]
  },
  {
   "cell_type": "markdown",
   "metadata": {},
   "source": [
    "The new features **bathrooms_sqr** and **beds_baths** are added to the other parameters in model 2."
   ]
  },
  {
   "cell_type": "markdown",
   "metadata": {},
   "source": [
    "#### Build Model 3 using Sklearn"
   ]
  },
  {
   "cell_type": "code",
   "execution_count": 19,
   "metadata": {},
   "outputs": [
    {
     "name": "stdout",
     "output_type": "stream",
     "text": [
      "Intercept: \n",
      " 11.894910077548625\n",
      "Coefficients: \n",
      " [ 0.16826392  0.06021409 -0.18502712  0.16147852  0.09593919  0.07717437\n",
      "  0.36397002 -0.14952917  0.03406508  0.02589264 -0.0308841 ]\n",
      "R squared: 0.6317 \n",
      "\n"
     ]
    }
   ],
   "source": [
    "# Pull out variables of interest\n",
    "x = house_price[['sqft_living_scale', 'sqft_living15_scale', 'bedrooms', 'grade', 'condition', 'view', 'waterfront', 'KMeans_Cluster', 'bedrooms_sqr', 'bathrooms_sqr', 'beds_baths']]\n",
    "y = house_price['log_price']\n",
    "\n",
    "# Convert x to a Numpy array \n",
    "x = x.to_numpy()\n",
    "\n",
    "# Build the model\n",
    "regression_model = LinearRegression()\n",
    "# Fit the data (train the model)\n",
    "regression_model.fit(x, y)\n",
    "# Predict\n",
    "y_predicted = regression_model.predict(x)\n",
    "\n",
    "print('Intercept: \\n', regression_model.intercept_)            \n",
    "print('Coefficients: \\n', regression_model.coef_)              \n",
    "print('R squared: %.4f \\n' % regression_model.score(x, y))"
   ]
  },
  {
   "cell_type": "markdown",
   "metadata": {},
   "source": [
    "#### Build Model 3 using Statsmodels"
   ]
  },
  {
   "cell_type": "code",
   "execution_count": 20,
   "metadata": {},
   "outputs": [
    {
     "name": "stdout",
     "output_type": "stream",
     "text": [
      "Intercept, Slopes : \n",
      "Intercept              11.894910\n",
      "sqft_living_scale       0.168264\n",
      "sqft_living15_scale     0.060214\n",
      "bedrooms               -0.185027\n",
      "grade                   0.161479\n",
      "condition               0.095939\n",
      "view                    0.077174\n",
      "waterfront              0.363970\n",
      "KMeans_Cluster         -0.149529\n",
      "bedrooms_sqr            0.034065\n",
      "bathrooms_sqr           0.025893\n",
      "beds_baths             -0.030884\n",
      "dtype: float64\n"
     ]
    }
   ],
   "source": [
    "# Add new created features\n",
    "ols_model = sm.ols(formula = 'log_price ~ sqft_living_scale + sqft_living15_scale + bedrooms + grade + condition + view + waterfront + KMeans_Cluster + bedrooms_sqr + bathrooms_sqr + beds_baths', data=house_price)\n",
    "\n",
    "results = ols_model.fit()\n",
    "y_output = house_price['log_price']\n",
    "\n",
    "# Get slope (m) and y-intercept (b)\n",
    "print('Intercept, Slopes : \\n{}'.format(results.params))"
   ]
  },
  {
   "cell_type": "code",
   "execution_count": 21,
   "metadata": {},
   "outputs": [
    {
     "name": "stdout",
     "output_type": "stream",
     "text": [
      "\n",
      "SSE, SST, SSR, and RMSE:\n",
      "SSE: 3786.9847889669873\n",
      "SST: 5995.094942910212\n",
      "SSR: 2208.1101539432248\n",
      "RMSE: 18.55455050524114\n",
      "                            OLS Regression Results                            \n",
      "==============================================================================\n",
      "Dep. Variable:              log_price   R-squared:                       0.632\n",
      "Model:                            OLS   Adj. R-squared:                  0.631\n",
      "Method:                 Least Squares   F-statistic:                     3368.\n",
      "Date:                Mon, 14 Dec 2020   Prob (F-statistic):               0.00\n",
      "Time:                        08:11:52   Log-Likelihood:                -6016.2\n",
      "No. Observations:               21613   AIC:                         1.206e+04\n",
      "Df Residuals:                   21601   BIC:                         1.215e+04\n",
      "Df Model:                          11                                         \n",
      "Covariance Type:            nonrobust                                         \n",
      "=======================================================================================\n",
      "                          coef    std err          t      P>|t|      [0.025      0.975]\n",
      "---------------------------------------------------------------------------------------\n",
      "Intercept              11.8949      0.042    281.268      0.000      11.812      11.978\n",
      "sqft_living_scale       0.1683      0.004     39.057      0.000       0.160       0.177\n",
      "sqft_living15_scale     0.0602      0.004     16.896      0.000       0.053       0.067\n",
      "bedrooms               -0.1850      0.019     -9.554      0.000      -0.223      -0.147\n",
      "grade                   0.1615      0.003     50.910      0.000       0.155       0.168\n",
      "condition               0.0959      0.003     28.004      0.000       0.089       0.103\n",
      "view                    0.0772      0.003     23.632      0.000       0.071       0.084\n",
      "waterfront              0.3640      0.028     13.224      0.000       0.310       0.418\n",
      "KMeans_Cluster         -0.1495      0.003    -44.989      0.000      -0.156      -0.143\n",
      "bedrooms_sqr            0.0341      0.003     11.117      0.000       0.028       0.040\n",
      "bathrooms_sqr           0.0259      0.004      6.399      0.000       0.018       0.034\n",
      "beds_baths             -0.0309      0.005     -6.199      0.000      -0.041      -0.021\n",
      "==============================================================================\n",
      "Omnibus:                        2.906   Durbin-Watson:                   1.973\n",
      "Prob(Omnibus):                  0.234   Jarque-Bera (JB):                2.943\n",
      "Skew:                           0.013   Prob(JB):                        0.230\n",
      "Kurtosis:                       3.051   Cond. No.                         374.\n",
      "==============================================================================\n",
      "\n",
      "Warnings:\n",
      "[1] Standard Errors assume that the covariance matrix of the errors is correctly specified.\n"
     ]
    }
   ],
   "source": [
    "# Additional Statistics\n",
    "print('\\nSSE, SST, SSR, and RMSE:')\n",
    "mean_y = np.mean(y_output)\n",
    "sst = np.sum((y_output - mean_y)**2)\n",
    "sse = sst - results.ssr\n",
    "print('SSE: {}'.format(sse))\n",
    "print('SST: {}'.format(sst))\n",
    "print('SSR: {}'.format(results.ssr))\n",
    "print('RMSE: {}'.format(np.sqrt(results.mse_model)))\n",
    "\n",
    "# Get most of the linear regression statistics we are interested in:\n",
    "print(results.summary())"
   ]
  },
  {
   "cell_type": "markdown",
   "metadata": {},
   "source": [
    "The resuts show that the Intercept and the coefficients are all significant: the p_values are very small (zero) and the confidence\n",
    "intervals do not include zero. The R-squared and adjusted R-squared have basically the same values of 0.632 as for model 2.\n",
    "RMSE is ~ 18 compared with RMSE of ~ 20 for model 2. "
   ]
  },
  {
   "cell_type": "code",
   "execution_count": 22,
   "metadata": {},
   "outputs": [
    {
     "data": {
      "text/plain": [
       "Text(0.5, 1.0, 'Residual Histogram')"
      ]
     },
     "execution_count": 22,
     "metadata": {},
     "output_type": "execute_result"
    },
    {
     "data": {
      "image/png": "[encoded data removed]",
      "text/plain": [
       "<Figure size 432x288 with 1 Axes>"
      ]
     },
     "metadata": {
      "needs_background": "light"
     },
     "output_type": "display_data"
    }
   ],
   "source": [
    "# Plot the histogram of the residuals\n",
    "sns.distplot(results.resid, hist=True)\n",
    "plt.grid(True)\n",
    "plt.xlabel('Residual')\n",
    "plt.ylabel('Frequency')\n",
    "plt.title('Residual Histogram')"
   ]
  },
  {
   "cell_type": "markdown",
   "metadata": {},
   "source": [
    "The histogram of the residuals has a normal distribution.\n",
    "\n",
    "Based on the results for model 3, it can be noted that adding the last two new features did not improve too much model 2. Next\n",
    "it will be used model 2 for building models using regularization."
   ]
  },
  {
   "cell_type": "markdown",
   "metadata": {},
   "source": [
    "### Model 4 - Ridge Regression"
   ]
  },
  {
   "cell_type": "markdown",
   "metadata": {},
   "source": [
    "Linear regression works by selecting coefficients for each independent variable that minimizes a loss function. However, if the\n",
    "coefficients are too large, it can lead to model over-fitting on the training dataset which will not generalize well on the \n",
    "unseen data. To overcome this shortcoming, it is used regularization which penalizes large coefficients. \n",
    "Below are tried Ridge Regression and LASSO Regression as regularization to improve the results for model 2.\n",
    "For both these models, because the target is not normally distributed, it was log-transformed.\n",
    "\n",
    "Before building the models using sklearn library, it is created a variable for the target and the dataset is split into\n",
    "training and testing sets."
   ]
  },
  {
   "cell_type": "code",
   "execution_count": 23,
   "metadata": {},
   "outputs": [],
   "source": [
    "# Create a variable with the name of the column target \n",
    "Label = \"log_price\"\n",
    "\n",
    "# Create a list with all the columns in Model 2\n",
    "cols = list(['sqft_living_scale', 'sqft_living15_scale', 'bedrooms', 'grade', 'condition', 'view', 'waterfront', 'KMeans_Cluster',  'bedrooms_sqr'])\n",
    "\n",
    "# Remove the Label column from the columns list\n",
    "#cols.remove(Label)\n",
    "\n",
    "# Create a dataframe with all columns (except the label)\n",
    "X = house_price[cols]\n",
    "# Create a dataframe only for the label\n",
    "y = house_price[Label]\n",
    "\n",
    "# Split the dataset into training set and testing set\n",
    "X_train, X_test, y_train, y_test = train_test_split(X, y, test_size=0.2, random_state=123)"
   ]
  },
  {
   "cell_type": "code",
   "execution_count": 24,
   "metadata": {},
   "outputs": [
    {
     "name": "stdout",
     "output_type": "stream",
     "text": [
      "X_train:  (17290, 9)\n",
      "y_train:  (17290,)\n",
      "X_test:  (4323, 9)\n",
      "y_test:  (4323,)\n"
     ]
    }
   ],
   "source": [
    "# Print the shape of training and testing datasets\n",
    "print('X_train: ', X_train.shape)\n",
    "print('y_train: ', y_train.shape)\n",
    "print('X_test: ', X_test.shape)\n",
    "print('y_test: ', y_test.shape)"
   ]
  },
  {
   "cell_type": "markdown",
   "metadata": {},
   "source": [
    "In scikit-learn, a ridge regression model is constructed by using the Ridge class. The first line of code below instantiates \n",
    "the Ridge Regression model with an alpha value of 0.01. The second line fits the model to the training data.\n",
    "The model is evaluated by printing the RMSE and R-squared on training and test sets."
   ]
  },
  {
   "cell_type": "code",
   "execution_count": 25,
   "metadata": {},
   "outputs": [
    {
     "name": "stdout",
     "output_type": "stream",
     "text": [
      "RMSE and R-squared for training set\n",
      "0.3201254010371269\n",
      "0.6284341557958675\n",
      "RMSE and R-squared for test set\n",
      "0.31926238552127717\n",
      "0.6406962654625648\n"
     ]
    }
   ],
   "source": [
    "# Ridge Regression\n",
    "rr = Ridge(alpha=0.01)\n",
    "rr.fit(X_train, y_train) \n",
    "pred_train_rr= rr.predict(X_train)  \n",
    "print ('RMSE and R-squared for training set')\n",
    "print(np.sqrt(mean_squared_error(y_train,pred_train_rr)))   # RMSE training set\n",
    "print(r2_score(y_train, pred_train_rr))                     # R-squared training set\n",
    "\n",
    "pred_test_rr= rr.predict(X_test)\n",
    "print('RMSE and R-squared for test set')\n",
    "print(np.sqrt(mean_squared_error(y_test,pred_test_rr)))     # RMSE test set\n",
    "print(r2_score(y_test, pred_test_rr))                       # R-squared test set"
   ]
  },
  {
   "cell_type": "markdown",
   "metadata": {},
   "source": [
    "It can be observed that the accuracy values are quite close for training and test sets. The R-squared is just a bit lower for \n",
    "train set comparing with model 2. The RMSE value is higher then for model 2."
   ]
  },
  {
   "cell_type": "markdown",
   "metadata": {},
   "source": [
    "### Model 5 - Lasso Regression"
   ]
  },
  {
   "cell_type": "markdown",
   "metadata": {},
   "source": [
    "In scikit-learn, a lasso regression model is constructed by using the Lasso class. The first line of code below instantiates \n",
    "the Lasso Regression model with an alpha value of 0.01. The second line fits the model to the training data.\n",
    "The evaluation metrics are also printed below."
   ]
  },
  {
   "cell_type": "code",
   "execution_count": 26,
   "metadata": {},
   "outputs": [
    {
     "name": "stdout",
     "output_type": "stream",
     "text": [
      "RMSE and R-squared for training set\n",
      "0.3235574155741596\n",
      "0.6204244502946081\n",
      "RMSE and R-squared for test set\n",
      "0.32197375209907636\n",
      "0.6345675077840349\n"
     ]
    }
   ],
   "source": [
    "# Lasso Regression\n",
    "model_lasso = Lasso(alpha=0.01)\n",
    "model_lasso.fit(X_train, y_train) \n",
    "pred_train_lasso= model_lasso.predict(X_train)\n",
    "print ('RMSE and R-squared for training set')\n",
    "print(np.sqrt(mean_squared_error(y_train,pred_train_lasso)))\n",
    "print(r2_score(y_train, pred_train_lasso))\n",
    "\n",
    "pred_test_lasso= model_lasso.predict(X_test)\n",
    "print('RMSE and R-squared for test set')\n",
    "print(np.sqrt(mean_squared_error(y_test,pred_test_lasso))) \n",
    "print(r2_score(y_test, pred_test_lasso))"
   ]
  },
  {
   "cell_type": "markdown",
   "metadata": {},
   "source": [
    "It can be observed that the accuracies for train and test sets are very close together for Lasso regression.\n",
    "The RMSE value for train set is higher than for model 2. The R-squared is slightly lower than R-squared for model 2. \n",
    "\n",
    "There are other iterations that can be done to improve model performance. It was assigned the value of alpha to be 0.01, but\n",
    "this can be altered by hyper parameter tuning to arrive at the optimal alpha value. Cross-validation can also be tried along \n",
    "with feature selection techniques. "
   ]
  },
  {
   "cell_type": "markdown",
   "metadata": {},
   "source": [
    "### Conclusion\n",
    "\n",
    "Using the Exploratory Data Analysis and Hypothesis Simulation results obtained in Milestone 1 and 2 for King County house\n",
    "dataset, were built several regression models for predicting house prices. The first linear regression model used the features\n",
    "identified during EDA in Milestone 1. The evaluation metric R-squared was not very high. Trying to improve it, were built two \n",
    "other models using enhancement techniques. These included calculating polynomial features, interaction terms and creating \n",
    "clusters by applying the KMeans. The second model had a higher R-squared value, meaning that the new\n",
    "features added value to the model. The third model, although had all the coeficients significant, did not have a higher R-squared\n",
    "comparing with model 2. Overall, the second model performed much better. It was also tried to improve model 2\n",
    "by using regularization techniques such as Ridge and Lasso regressions. Although the resulted models had close accuracies \n",
    "for both train and test sets, they could still be further improved by tunning the hyper parameter and other techniques."
   ]
  },
  {
   "cell_type": "code",
   "execution_count": null,
   "metadata": {},
   "outputs": [],
   "source": []
  }
 ],
 "metadata": {
  "kernelspec": {
   "display_name": "Python 3 (ipykernel)",
   "language": "python",
   "name": "python3"
  },
  "language_info": {
   "codemirror_mode": {
    "name": "ipython",
    "version": 3
   },
   "file_extension": ".py",
   "mimetype": "text/x-python",
   "name": "python",
   "nbconvert_exporter": "python",
   "pygments_lexer": "ipython3",
   "version": "3.9.12"
  }
 },
 "nbformat": 4,
 "nbformat_minor": 4
}
