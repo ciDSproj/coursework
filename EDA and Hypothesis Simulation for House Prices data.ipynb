{
 "cells": [
  {
   "cell_type": "markdown",
   "metadata": {},
   "source": [
    "# EDA and Hypothesis Simulation for House Prices data\n",
    "\n",
    "## Author - Catalina Ifrim\n",
    "\n"
   ]
  },
  {
   "cell_type": "code",
   "execution_count": null,
   "metadata": {},
   "outputs": [],
   "source": [
    "\"\"\"\n",
    "UW DATASCI410-Methods for Data Analysis\n",
    "Milestone2-Hypothesis Simulation\n",
    "\n",
    "\"\"\""
   ]
  },
  {
   "cell_type": "markdown",
   "metadata": {},
   "source": [
    "### Summary\n",
    "\n",
    "This project contains **Exploratory Data Analysis** of the **house dataset** which includes visual exploration and \n",
    "investigatating summary statistics. This allowed drawing insights regarding various factors that influence a home’s price.\n",
    "\n",
    "It also covers **Hypothesis Simulation** that includes computing summary statistics and confidence intervals\n",
    "by **classical bootstrap and Bayesian methods**, as well as **hypothesis tests** to determine if the **differences in pairs**\n",
    "and if multiple populations are significant."
   ]
  },
  {
   "cell_type": "code",
   "execution_count": 1,
   "metadata": {},
   "outputs": [],
   "source": [
    "# Import libraries\n",
    "import pandas as pd\n",
    "import numpy as np\n",
    "import matplotlib.pyplot as plt\n",
    "from matplotlib import pyplot\n",
    "import seaborn as sns\n",
    "import numpy.random as nr\n",
    "from scipy.stats import norm\n",
    "import scipy.stats as ss\n",
    "import scipy\n",
    "\n",
    "%matplotlib inline"
   ]
  },
  {
   "cell_type": "markdown",
   "metadata": {},
   "source": [
    "## 1. Explore the dataset supported by charts and summary statistics"
   ]
  },
  {
   "cell_type": "markdown",
   "metadata": {},
   "source": [
    "### Dataset information\n",
    "\n",
    "The dataset used for this assignment is \"kc_house_data.csv\" and contains house sale prices for King County, including Seattle \n",
    "for houses sold between May 2014 and May 2015. The dataset is located at:\n",
    "https://library.startlearninglabs.uw.edu/DATASCI410/Datasets/kc_house_data.csv.\n",
    "There are 21613 observations in the dataset and 20 attributes. Each entry contains information about house characteristics. \n",
    "\n",
    "Attribute information:\n",
    "\n",
    "- id: Unique identifier for the house\n",
    "- date: Date when house was sold\n",
    "- price: House price\n",
    "- bedrooms: Number of bedrooms\n",
    "- bathrooms: Number of bathrooms\n",
    "- sqft_living: Square footage of the home \n",
    "- sqft_lot: Square footage of the lot\n",
    "- floors: Number of floors (levels) in the house\n",
    "- waterfront: House which has a view to a waterfront\n",
    "- view: Has been viewed\n",
    "- condition: How good the condition is (overall). It is coded on a 1-5 scale, with 1 being \"poor\" and 5 being \"very good\". \n",
    "- grade: Overall grade given to the housing unit, based on King County grading system. The grade refers to the design and \n",
    "quality of the construction.\n",
    "- sqft_above: Square footage of the house apart from basement\n",
    "- sqft_basement: Square footage of the basement\n",
    "- yr_built: Built year\n",
    "- yr_renovated: Year when house was renovated\n",
    "- zipcode: Zipcode of the house location\n",
    "- lat: Latitude coordinate\n",
    "- long: Longitude coordinate\n",
    "- sqft_living15: The square footage of interior housing living space for the nearest 15 neighbors\n",
    "- sqft_lot15: The square footage of the land lots of the nearest 15 neighbors "
   ]
  },
  {
   "cell_type": "code",
   "execution_count": 2,
   "metadata": {},
   "outputs": [],
   "source": [
    "# Load data\n",
    "filename = 'https://library.startlearninglabs.uw.edu/DATASCI410/Datasets/kc_house_data.csv'\n",
    "house_price = pd.read_csv(filename)"
   ]
  },
  {
   "cell_type": "code",
   "execution_count": 3,
   "metadata": {},
   "outputs": [
    {
     "name": "stdout",
     "output_type": "stream",
     "text": [
      "<class 'pandas.core.frame.DataFrame'>\n",
      "RangeIndex: 21613 entries, 0 to 21612\n",
      "Data columns (total 21 columns):\n",
      " #   Column         Non-Null Count  Dtype  \n",
      "---  ------         --------------  -----  \n",
      " 0   id             21613 non-null  int64  \n",
      " 1   date           21613 non-null  object \n",
      " 2   price          21613 non-null  float64\n",
      " 3   bedrooms       21613 non-null  int64  \n",
      " 4   bathrooms      21613 non-null  float64\n",
      " 5   sqft_living    21613 non-null  int64  \n",
      " 6   sqft_lot       21613 non-null  int64  \n",
      " 7   floors         21613 non-null  float64\n",
      " 8   waterfront     21613 non-null  int64  \n",
      " 9   view           21613 non-null  int64  \n",
      " 10  condition      21613 non-null  int64  \n",
      " 11  grade          21613 non-null  int64  \n",
      " 12  sqft_above     21613 non-null  int64  \n",
      " 13  sqft_basement  21613 non-null  int64  \n",
      " 14  yr_built       21613 non-null  int64  \n",
      " 15  yr_renovated   21613 non-null  int64  \n",
      " 16  zipcode        21613 non-null  int64  \n",
      " 17  lat            21613 non-null  float64\n",
      " 18  long           21613 non-null  float64\n",
      " 19  sqft_living15  21613 non-null  int64  \n",
      " 20  sqft_lot15     21613 non-null  int64  \n",
      "dtypes: float64(5), int64(15), object(1)\n",
      "memory usage: 3.5+ MB\n"
     ]
    }
   ],
   "source": [
    "# Check the size of dataset and the data types of the columns\n",
    "house_price.info(verbose=2)"
   ]
  },
  {
   "cell_type": "markdown",
   "metadata": {},
   "source": [
    "Observations regarding the dataset:\n",
    "\n",
    "- There are more than 21613 entries in the dataset.\n",
    "- There are 20 columns most of them containing numeric data, either floating point number (float64) or integer (int64). Only \n",
    "the column 'date' is of type \"object\"."
   ]
  },
  {
   "cell_type": "code",
   "execution_count": 4,
   "metadata": {},
   "outputs": [
    {
     "data": {
      "text/html": [
       "<div>\n",
       "<style scoped>\n",
       "    .dataframe tbody tr th:only-of-type {\n",
       "        vertical-align: middle;\n",
       "    }\n",
       "\n",
       "    .dataframe tbody tr th {\n",
       "        vertical-align: top;\n",
       "    }\n",
       "\n",
       "    .dataframe thead th {\n",
       "        text-align: right;\n",
       "    }\n",
       "</style>\n",
       "<table border=\"1\" class=\"dataframe\">\n",
       "  <thead>\n",
       "    <tr style=\"text-align: right;\">\n",
       "      <th></th>\n",
       "      <th>id</th>\n",
       "      <th>date</th>\n",
       "      <th>price</th>\n",
       "      <th>bedrooms</th>\n",
       "      <th>bathrooms</th>\n",
       "      <th>sqft_living</th>\n",
       "      <th>sqft_lot</th>\n",
       "      <th>floors</th>\n",
       "      <th>waterfront</th>\n",
       "      <th>view</th>\n",
       "      <th>...</th>\n",
       "      <th>grade</th>\n",
       "      <th>sqft_above</th>\n",
       "      <th>sqft_basement</th>\n",
       "      <th>yr_built</th>\n",
       "      <th>yr_renovated</th>\n",
       "      <th>zipcode</th>\n",
       "      <th>lat</th>\n",
       "      <th>long</th>\n",
       "      <th>sqft_living15</th>\n",
       "      <th>sqft_lot15</th>\n",
       "    </tr>\n",
       "  </thead>\n",
       "  <tbody>\n",
       "    <tr>\n",
       "      <th>0</th>\n",
       "      <td>7129300520</td>\n",
       "      <td>20141013T000000</td>\n",
       "      <td>221900.0</td>\n",
       "      <td>3</td>\n",
       "      <td>1.00</td>\n",
       "      <td>1180</td>\n",
       "      <td>5650</td>\n",
       "      <td>1.0</td>\n",
       "      <td>0</td>\n",
       "      <td>0</td>\n",
       "      <td>...</td>\n",
       "      <td>7</td>\n",
       "      <td>1180</td>\n",
       "      <td>0</td>\n",
       "      <td>1955</td>\n",
       "      <td>0</td>\n",
       "      <td>98178</td>\n",
       "      <td>47.5112</td>\n",
       "      <td>-122.257</td>\n",
       "      <td>1340</td>\n",
       "      <td>5650</td>\n",
       "    </tr>\n",
       "    <tr>\n",
       "      <th>1</th>\n",
       "      <td>6414100192</td>\n",
       "      <td>20141209T000000</td>\n",
       "      <td>538000.0</td>\n",
       "      <td>3</td>\n",
       "      <td>2.25</td>\n",
       "      <td>2570</td>\n",
       "      <td>7242</td>\n",
       "      <td>2.0</td>\n",
       "      <td>0</td>\n",
       "      <td>0</td>\n",
       "      <td>...</td>\n",
       "      <td>7</td>\n",
       "      <td>2170</td>\n",
       "      <td>400</td>\n",
       "      <td>1951</td>\n",
       "      <td>1991</td>\n",
       "      <td>98125</td>\n",
       "      <td>47.7210</td>\n",
       "      <td>-122.319</td>\n",
       "      <td>1690</td>\n",
       "      <td>7639</td>\n",
       "    </tr>\n",
       "    <tr>\n",
       "      <th>2</th>\n",
       "      <td>5631500400</td>\n",
       "      <td>20150225T000000</td>\n",
       "      <td>180000.0</td>\n",
       "      <td>2</td>\n",
       "      <td>1.00</td>\n",
       "      <td>770</td>\n",
       "      <td>10000</td>\n",
       "      <td>1.0</td>\n",
       "      <td>0</td>\n",
       "      <td>0</td>\n",
       "      <td>...</td>\n",
       "      <td>6</td>\n",
       "      <td>770</td>\n",
       "      <td>0</td>\n",
       "      <td>1933</td>\n",
       "      <td>0</td>\n",
       "      <td>98028</td>\n",
       "      <td>47.7379</td>\n",
       "      <td>-122.233</td>\n",
       "      <td>2720</td>\n",
       "      <td>8062</td>\n",
       "    </tr>\n",
       "    <tr>\n",
       "      <th>3</th>\n",
       "      <td>2487200875</td>\n",
       "      <td>20141209T000000</td>\n",
       "      <td>604000.0</td>\n",
       "      <td>4</td>\n",
       "      <td>3.00</td>\n",
       "      <td>1960</td>\n",
       "      <td>5000</td>\n",
       "      <td>1.0</td>\n",
       "      <td>0</td>\n",
       "      <td>0</td>\n",
       "      <td>...</td>\n",
       "      <td>7</td>\n",
       "      <td>1050</td>\n",
       "      <td>910</td>\n",
       "      <td>1965</td>\n",
       "      <td>0</td>\n",
       "      <td>98136</td>\n",
       "      <td>47.5208</td>\n",
       "      <td>-122.393</td>\n",
       "      <td>1360</td>\n",
       "      <td>5000</td>\n",
       "    </tr>\n",
       "    <tr>\n",
       "      <th>4</th>\n",
       "      <td>1954400510</td>\n",
       "      <td>20150218T000000</td>\n",
       "      <td>510000.0</td>\n",
       "      <td>3</td>\n",
       "      <td>2.00</td>\n",
       "      <td>1680</td>\n",
       "      <td>8080</td>\n",
       "      <td>1.0</td>\n",
       "      <td>0</td>\n",
       "      <td>0</td>\n",
       "      <td>...</td>\n",
       "      <td>8</td>\n",
       "      <td>1680</td>\n",
       "      <td>0</td>\n",
       "      <td>1987</td>\n",
       "      <td>0</td>\n",
       "      <td>98074</td>\n",
       "      <td>47.6168</td>\n",
       "      <td>-122.045</td>\n",
       "      <td>1800</td>\n",
       "      <td>7503</td>\n",
       "    </tr>\n",
       "  </tbody>\n",
       "</table>\n",
       "<p>5 rows × 21 columns</p>\n",
       "</div>"
      ],
      "text/plain": [
       "           id             date     price  bedrooms  bathrooms  sqft_living  \\\n",
       "0  7129300520  20141013T000000  221900.0         3       1.00         1180   \n",
       "1  6414100192  20141209T000000  538000.0         3       2.25         2570   \n",
       "2  5631500400  20150225T000000  180000.0         2       1.00          770   \n",
       "3  2487200875  20141209T000000  604000.0         4       3.00         1960   \n",
       "4  1954400510  20150218T000000  510000.0         3       2.00         1680   \n",
       "\n",
       "   sqft_lot  floors  waterfront  view  ...  grade  sqft_above  sqft_basement  \\\n",
       "0      5650     1.0           0     0  ...      7        1180              0   \n",
       "1      7242     2.0           0     0  ...      7        2170            400   \n",
       "2     10000     1.0           0     0  ...      6         770              0   \n",
       "3      5000     1.0           0     0  ...      7        1050            910   \n",
       "4      8080     1.0           0     0  ...      8        1680              0   \n",
       "\n",
       "   yr_built  yr_renovated  zipcode      lat     long  sqft_living15  \\\n",
       "0      1955             0    98178  47.5112 -122.257           1340   \n",
       "1      1951          1991    98125  47.7210 -122.319           1690   \n",
       "2      1933             0    98028  47.7379 -122.233           2720   \n",
       "3      1965             0    98136  47.5208 -122.393           1360   \n",
       "4      1987             0    98074  47.6168 -122.045           1800   \n",
       "\n",
       "   sqft_lot15  \n",
       "0        5650  \n",
       "1        7639  \n",
       "2        8062  \n",
       "3        5000  \n",
       "4        7503  \n",
       "\n",
       "[5 rows x 21 columns]"
      ]
     },
     "execution_count": 4,
     "metadata": {},
     "output_type": "execute_result"
    }
   ],
   "source": [
    "# Display a few rows from the dataset\n",
    "house_price.head()"
   ]
  },
  {
   "cell_type": "markdown",
   "metadata": {},
   "source": [
    "There are a few observations that we can draw looking at this lines from the dataframe:\n",
    "  \n",
    "- The column 'condition' has integer values from 1 to 5 corresponding to house condition. Similar the column 'grade' contains\n",
    "values between 1-13, corresponding to the overall grade of the house.\n",
    "- The column 'bathrooms' display values  of 1, 2.25, 4 etc. that correspond to different types of bathrooms (\"full bath\", \n",
    "\"half-bath\" or \"3/4 bath\")\n",
    "- The column 'waterfront' contains only two values, 0 and 1 coresponding to houses that have a waterfront view or not. "
   ]
  },
  {
   "cell_type": "code",
   "execution_count": 5,
   "metadata": {},
   "outputs": [
    {
     "data": {
      "text/html": [
       "<div>\n",
       "<style scoped>\n",
       "    .dataframe tbody tr th:only-of-type {\n",
       "        vertical-align: middle;\n",
       "    }\n",
       "\n",
       "    .dataframe tbody tr th {\n",
       "        vertical-align: top;\n",
       "    }\n",
       "\n",
       "    .dataframe thead th {\n",
       "        text-align: right;\n",
       "    }\n",
       "</style>\n",
       "<table border=\"1\" class=\"dataframe\">\n",
       "  <thead>\n",
       "    <tr style=\"text-align: right;\">\n",
       "      <th></th>\n",
       "      <th>id</th>\n",
       "      <th>price</th>\n",
       "      <th>bedrooms</th>\n",
       "      <th>bathrooms</th>\n",
       "      <th>sqft_living</th>\n",
       "      <th>sqft_lot</th>\n",
       "      <th>floors</th>\n",
       "      <th>waterfront</th>\n",
       "      <th>view</th>\n",
       "      <th>condition</th>\n",
       "      <th>grade</th>\n",
       "      <th>sqft_above</th>\n",
       "      <th>sqft_basement</th>\n",
       "      <th>yr_built</th>\n",
       "      <th>yr_renovated</th>\n",
       "      <th>zipcode</th>\n",
       "      <th>lat</th>\n",
       "      <th>long</th>\n",
       "      <th>sqft_living15</th>\n",
       "      <th>sqft_lot15</th>\n",
       "    </tr>\n",
       "  </thead>\n",
       "  <tbody>\n",
       "    <tr>\n",
       "      <th>count</th>\n",
       "      <td>2.161300e+04</td>\n",
       "      <td>2.161300e+04</td>\n",
       "      <td>21613.000000</td>\n",
       "      <td>21613.000000</td>\n",
       "      <td>21613.000000</td>\n",
       "      <td>2.161300e+04</td>\n",
       "      <td>21613.000000</td>\n",
       "      <td>21613.000000</td>\n",
       "      <td>21613.000000</td>\n",
       "      <td>21613.000000</td>\n",
       "      <td>21613.000000</td>\n",
       "      <td>21613.000000</td>\n",
       "      <td>21613.000000</td>\n",
       "      <td>21613.000000</td>\n",
       "      <td>21613.000000</td>\n",
       "      <td>21613.000000</td>\n",
       "      <td>21613.000000</td>\n",
       "      <td>21613.000000</td>\n",
       "      <td>21613.000000</td>\n",
       "      <td>21613.000000</td>\n",
       "    </tr>\n",
       "    <tr>\n",
       "      <th>mean</th>\n",
       "      <td>4.580302e+09</td>\n",
       "      <td>5.400881e+05</td>\n",
       "      <td>3.370842</td>\n",
       "      <td>2.114757</td>\n",
       "      <td>2079.899736</td>\n",
       "      <td>1.510697e+04</td>\n",
       "      <td>1.494309</td>\n",
       "      <td>0.007542</td>\n",
       "      <td>0.234303</td>\n",
       "      <td>3.409430</td>\n",
       "      <td>7.656873</td>\n",
       "      <td>1788.390691</td>\n",
       "      <td>291.509045</td>\n",
       "      <td>1971.005136</td>\n",
       "      <td>84.402258</td>\n",
       "      <td>98077.939805</td>\n",
       "      <td>47.560053</td>\n",
       "      <td>-122.213896</td>\n",
       "      <td>1986.552492</td>\n",
       "      <td>12768.455652</td>\n",
       "    </tr>\n",
       "    <tr>\n",
       "      <th>std</th>\n",
       "      <td>2.876566e+09</td>\n",
       "      <td>3.671272e+05</td>\n",
       "      <td>0.930062</td>\n",
       "      <td>0.770163</td>\n",
       "      <td>918.440897</td>\n",
       "      <td>4.142051e+04</td>\n",
       "      <td>0.539989</td>\n",
       "      <td>0.086517</td>\n",
       "      <td>0.766318</td>\n",
       "      <td>0.650743</td>\n",
       "      <td>1.175459</td>\n",
       "      <td>828.090978</td>\n",
       "      <td>442.575043</td>\n",
       "      <td>29.373411</td>\n",
       "      <td>401.679240</td>\n",
       "      <td>53.505026</td>\n",
       "      <td>0.138564</td>\n",
       "      <td>0.140828</td>\n",
       "      <td>685.391304</td>\n",
       "      <td>27304.179631</td>\n",
       "    </tr>\n",
       "    <tr>\n",
       "      <th>min</th>\n",
       "      <td>1.000102e+06</td>\n",
       "      <td>7.500000e+04</td>\n",
       "      <td>0.000000</td>\n",
       "      <td>0.000000</td>\n",
       "      <td>290.000000</td>\n",
       "      <td>5.200000e+02</td>\n",
       "      <td>1.000000</td>\n",
       "      <td>0.000000</td>\n",
       "      <td>0.000000</td>\n",
       "      <td>1.000000</td>\n",
       "      <td>1.000000</td>\n",
       "      <td>290.000000</td>\n",
       "      <td>0.000000</td>\n",
       "      <td>1900.000000</td>\n",
       "      <td>0.000000</td>\n",
       "      <td>98001.000000</td>\n",
       "      <td>47.155900</td>\n",
       "      <td>-122.519000</td>\n",
       "      <td>399.000000</td>\n",
       "      <td>651.000000</td>\n",
       "    </tr>\n",
       "    <tr>\n",
       "      <th>25%</th>\n",
       "      <td>2.123049e+09</td>\n",
       "      <td>3.219500e+05</td>\n",
       "      <td>3.000000</td>\n",
       "      <td>1.750000</td>\n",
       "      <td>1427.000000</td>\n",
       "      <td>5.040000e+03</td>\n",
       "      <td>1.000000</td>\n",
       "      <td>0.000000</td>\n",
       "      <td>0.000000</td>\n",
       "      <td>3.000000</td>\n",
       "      <td>7.000000</td>\n",
       "      <td>1190.000000</td>\n",
       "      <td>0.000000</td>\n",
       "      <td>1951.000000</td>\n",
       "      <td>0.000000</td>\n",
       "      <td>98033.000000</td>\n",
       "      <td>47.471000</td>\n",
       "      <td>-122.328000</td>\n",
       "      <td>1490.000000</td>\n",
       "      <td>5100.000000</td>\n",
       "    </tr>\n",
       "    <tr>\n",
       "      <th>50%</th>\n",
       "      <td>3.904930e+09</td>\n",
       "      <td>4.500000e+05</td>\n",
       "      <td>3.000000</td>\n",
       "      <td>2.250000</td>\n",
       "      <td>1910.000000</td>\n",
       "      <td>7.618000e+03</td>\n",
       "      <td>1.500000</td>\n",
       "      <td>0.000000</td>\n",
       "      <td>0.000000</td>\n",
       "      <td>3.000000</td>\n",
       "      <td>7.000000</td>\n",
       "      <td>1560.000000</td>\n",
       "      <td>0.000000</td>\n",
       "      <td>1975.000000</td>\n",
       "      <td>0.000000</td>\n",
       "      <td>98065.000000</td>\n",
       "      <td>47.571800</td>\n",
       "      <td>-122.230000</td>\n",
       "      <td>1840.000000</td>\n",
       "      <td>7620.000000</td>\n",
       "    </tr>\n",
       "    <tr>\n",
       "      <th>75%</th>\n",
       "      <td>7.308900e+09</td>\n",
       "      <td>6.450000e+05</td>\n",
       "      <td>4.000000</td>\n",
       "      <td>2.500000</td>\n",
       "      <td>2550.000000</td>\n",
       "      <td>1.068800e+04</td>\n",
       "      <td>2.000000</td>\n",
       "      <td>0.000000</td>\n",
       "      <td>0.000000</td>\n",
       "      <td>4.000000</td>\n",
       "      <td>8.000000</td>\n",
       "      <td>2210.000000</td>\n",
       "      <td>560.000000</td>\n",
       "      <td>1997.000000</td>\n",
       "      <td>0.000000</td>\n",
       "      <td>98118.000000</td>\n",
       "      <td>47.678000</td>\n",
       "      <td>-122.125000</td>\n",
       "      <td>2360.000000</td>\n",
       "      <td>10083.000000</td>\n",
       "    </tr>\n",
       "    <tr>\n",
       "      <th>max</th>\n",
       "      <td>9.900000e+09</td>\n",
       "      <td>7.700000e+06</td>\n",
       "      <td>33.000000</td>\n",
       "      <td>8.000000</td>\n",
       "      <td>13540.000000</td>\n",
       "      <td>1.651359e+06</td>\n",
       "      <td>3.500000</td>\n",
       "      <td>1.000000</td>\n",
       "      <td>4.000000</td>\n",
       "      <td>5.000000</td>\n",
       "      <td>13.000000</td>\n",
       "      <td>9410.000000</td>\n",
       "      <td>4820.000000</td>\n",
       "      <td>2015.000000</td>\n",
       "      <td>2015.000000</td>\n",
       "      <td>98199.000000</td>\n",
       "      <td>47.777600</td>\n",
       "      <td>-121.315000</td>\n",
       "      <td>6210.000000</td>\n",
       "      <td>871200.000000</td>\n",
       "    </tr>\n",
       "  </tbody>\n",
       "</table>\n",
       "</div>"
      ],
      "text/plain": [
       "                 id         price      bedrooms     bathrooms   sqft_living  \\\n",
       "count  2.161300e+04  2.161300e+04  21613.000000  21613.000000  21613.000000   \n",
       "mean   4.580302e+09  5.400881e+05      3.370842      2.114757   2079.899736   \n",
       "std    2.876566e+09  3.671272e+05      0.930062      0.770163    918.440897   \n",
       "min    1.000102e+06  7.500000e+04      0.000000      0.000000    290.000000   \n",
       "25%    2.123049e+09  3.219500e+05      3.000000      1.750000   1427.000000   \n",
       "50%    3.904930e+09  4.500000e+05      3.000000      2.250000   1910.000000   \n",
       "75%    7.308900e+09  6.450000e+05      4.000000      2.500000   2550.000000   \n",
       "max    9.900000e+09  7.700000e+06     33.000000      8.000000  13540.000000   \n",
       "\n",
       "           sqft_lot        floors    waterfront          view     condition  \\\n",
       "count  2.161300e+04  21613.000000  21613.000000  21613.000000  21613.000000   \n",
       "mean   1.510697e+04      1.494309      0.007542      0.234303      3.409430   \n",
       "std    4.142051e+04      0.539989      0.086517      0.766318      0.650743   \n",
       "min    5.200000e+02      1.000000      0.000000      0.000000      1.000000   \n",
       "25%    5.040000e+03      1.000000      0.000000      0.000000      3.000000   \n",
       "50%    7.618000e+03      1.500000      0.000000      0.000000      3.000000   \n",
       "75%    1.068800e+04      2.000000      0.000000      0.000000      4.000000   \n",
       "max    1.651359e+06      3.500000      1.000000      4.000000      5.000000   \n",
       "\n",
       "              grade    sqft_above  sqft_basement      yr_built  yr_renovated  \\\n",
       "count  21613.000000  21613.000000   21613.000000  21613.000000  21613.000000   \n",
       "mean       7.656873   1788.390691     291.509045   1971.005136     84.402258   \n",
       "std        1.175459    828.090978     442.575043     29.373411    401.679240   \n",
       "min        1.000000    290.000000       0.000000   1900.000000      0.000000   \n",
       "25%        7.000000   1190.000000       0.000000   1951.000000      0.000000   \n",
       "50%        7.000000   1560.000000       0.000000   1975.000000      0.000000   \n",
       "75%        8.000000   2210.000000     560.000000   1997.000000      0.000000   \n",
       "max       13.000000   9410.000000    4820.000000   2015.000000   2015.000000   \n",
       "\n",
       "            zipcode           lat          long  sqft_living15     sqft_lot15  \n",
       "count  21613.000000  21613.000000  21613.000000   21613.000000   21613.000000  \n",
       "mean   98077.939805     47.560053   -122.213896    1986.552492   12768.455652  \n",
       "std       53.505026      0.138564      0.140828     685.391304   27304.179631  \n",
       "min    98001.000000     47.155900   -122.519000     399.000000     651.000000  \n",
       "25%    98033.000000     47.471000   -122.328000    1490.000000    5100.000000  \n",
       "50%    98065.000000     47.571800   -122.230000    1840.000000    7620.000000  \n",
       "75%    98118.000000     47.678000   -122.125000    2360.000000   10083.000000  \n",
       "max    98199.000000     47.777600   -121.315000    6210.000000  871200.000000  "
      ]
     },
     "execution_count": 5,
     "metadata": {},
     "output_type": "execute_result"
    }
   ],
   "source": [
    "# Display summary statistics\n",
    "house_price.describe()"
   ]
  },
  {
   "cell_type": "markdown",
   "metadata": {},
   "source": [
    "From the summary statistics can be observed some useful information:\n",
    "\n",
    "- The average price value is ~540,088 which is slightly higher than the median (450,000). This indicates a skewed distribution.\n",
    "- The min and max price values show a very large range, between 75,000 and 7,700,000. \n",
    "- The standard deviation for price is very high with a value of 367,127. This indicates dispersed values.\n",
    "- Also, for price, the lower IQR is much smaller (approximately half) than the upper IQR. It can be noted that 25% of the \n",
    "prices are less than 321,950 while 25% are more than 645,000. \n",
    "- The mean value of the living space is ~2080 sqft, with a min of 290 sqft and a max of 13,540 sqft. The upper and lower IQR \n",
    "for the sqft_living indicate that 25% of sqft_living is less than 1427 sqft, while 25% is more than 2550 sqft.\n",
    "- For bedrooms the average number is 3 and for baths is 2."
   ]
  },
  {
   "cell_type": "markdown",
   "metadata": {},
   "source": [
    "#### Check for missing values"
   ]
  },
  {
   "cell_type": "code",
   "execution_count": 6,
   "metadata": {},
   "outputs": [
    {
     "data": {
      "text/plain": [
       "id               0\n",
       "date             0\n",
       "price            0\n",
       "bedrooms         0\n",
       "bathrooms        0\n",
       "sqft_living      0\n",
       "sqft_lot         0\n",
       "floors           0\n",
       "waterfront       0\n",
       "view             0\n",
       "condition        0\n",
       "grade            0\n",
       "sqft_above       0\n",
       "sqft_basement    0\n",
       "yr_built         0\n",
       "yr_renovated     0\n",
       "zipcode          0\n",
       "lat              0\n",
       "long             0\n",
       "sqft_living15    0\n",
       "sqft_lot15       0\n",
       "dtype: int64"
      ]
     },
     "execution_count": 6,
     "metadata": {},
     "output_type": "execute_result"
    }
   ],
   "source": [
    "# Check for missing values by counting the NaNs\n",
    "house_price.isnull().sum()"
   ]
  },
  {
   "cell_type": "markdown",
   "metadata": {},
   "source": [
    "There are no missing values in the dataframe."
   ]
  },
  {
   "cell_type": "markdown",
   "metadata": {},
   "source": [
    "#### Treating outliers"
   ]
  },
  {
   "cell_type": "markdown",
   "metadata": {},
   "source": [
    "To verify the counts of unique values in each column it is defined a function \"count_unique\". The function is called and \n",
    "passed a list with some of the variables in the dataframe."
   ]
  },
  {
   "cell_type": "code",
   "execution_count": 7,
   "metadata": {},
   "outputs": [
    {
     "name": "stdout",
     "output_type": "stream",
     "text": [
      "\n",
      "Column bedrooms\n",
      "3     9824\n",
      "4     6882\n",
      "2     2760\n",
      "5     1601\n",
      "6      272\n",
      "1      199\n",
      "7       38\n",
      "8       13\n",
      "0       13\n",
      "9        6\n",
      "10       3\n",
      "11       1\n",
      "33       1\n",
      "Name: bedrooms, dtype: int64\n",
      "\n",
      "Column bathrooms\n",
      "2.50    5380\n",
      "1.00    3852\n",
      "1.75    3048\n",
      "2.25    2047\n",
      "2.00    1930\n",
      "1.50    1446\n",
      "2.75    1185\n",
      "3.00     753\n",
      "3.50     731\n",
      "3.25     589\n",
      "3.75     155\n",
      "4.00     136\n",
      "4.50     100\n",
      "4.25      79\n",
      "0.75      72\n",
      "4.75      23\n",
      "5.00      21\n",
      "5.25      13\n",
      "0.00      10\n",
      "5.50      10\n",
      "1.25       9\n",
      "6.00       6\n",
      "0.50       4\n",
      "5.75       4\n",
      "8.00       2\n",
      "6.25       2\n",
      "6.50       2\n",
      "6.75       2\n",
      "7.50       1\n",
      "7.75       1\n",
      "Name: bathrooms, dtype: int64\n",
      "\n",
      "Column floors\n",
      "1.0    10680\n",
      "2.0     8241\n",
      "1.5     1910\n",
      "3.0      613\n",
      "2.5      161\n",
      "3.5        8\n",
      "Name: floors, dtype: int64\n",
      "\n",
      "Column waterfront\n",
      "0    21450\n",
      "1      163\n",
      "Name: waterfront, dtype: int64\n",
      "\n",
      "Column view\n",
      "0    19489\n",
      "2      963\n",
      "3      510\n",
      "1      332\n",
      "4      319\n",
      "Name: view, dtype: int64\n",
      "\n",
      "Column condition\n",
      "3    14031\n",
      "4     5679\n",
      "5     1701\n",
      "2      172\n",
      "1       30\n",
      "Name: condition, dtype: int64\n",
      "\n",
      "Column grade\n",
      "7     8981\n",
      "8     6068\n",
      "9     2615\n",
      "6     2038\n",
      "10    1134\n",
      "11     399\n",
      "5      242\n",
      "12      90\n",
      "4       29\n",
      "13      13\n",
      "3        3\n",
      "1        1\n",
      "Name: grade, dtype: int64\n",
      "\n",
      "Column zipcode\n",
      "98103    602\n",
      "98038    590\n",
      "98115    583\n",
      "98052    574\n",
      "98117    553\n",
      "        ... \n",
      "98102    105\n",
      "98010    100\n",
      "98024     81\n",
      "98148     57\n",
      "98039     50\n",
      "Name: zipcode, Length: 70, dtype: int64\n"
     ]
    }
   ],
   "source": [
    "# Make a list of numeric columns in dataset\n",
    "columns = [\"bedrooms\", \"bathrooms\", \"floors\", \"waterfront\", \"view\", \"condition\", \"grade\", \"zipcode\"]\n",
    "\n",
    "# Define a function for counting the unique values in columns\n",
    "def count_unique(df, cols):\n",
    "    \"\"\"Print the frequency table for a list of columns in a dataset\"\"\"\n",
    "    for col in cols:\n",
    "        print('\\n' + 'Column ' + col)\n",
    "        print(df[col].value_counts())\n",
    "\n",
    "# Call the function count_unique\n",
    "count_unique(house_price, columns)"
   ]
  },
  {
   "cell_type": "markdown",
   "metadata": {},
   "source": [
    "The frequency count for columns 'bathrooms' and 'bedrooms' show that both these columns have outliers. There are values of 0\n",
    "bathrooms and 0 bedrooms, which do not make sense for a house. There are also some extreme values, like 33 bedrooms. \n",
    "\n",
    "To avoid missing significant findings or distort the real results, the outliers need to be treated. The outliers in both columns\n",
    "'bathrooms' and 'bedrooms' will be replaced with the mean of the non-outliers. The low and high limits for acceptable values is\n",
    "the mean plus/minus 2 standard deviations. "
   ]
  },
  {
   "cell_type": "code",
   "execution_count": null,
   "metadata": {},
   "outputs": [],
   "source": [
    "# Check the histograms of 'bathrooms' and 'bedrooms' before replacing the outliers\n",
    "#plt.hist(house_price['bathrooms'])\n",
    "#plt.hist(house_price['bedrooms'])"
   ]
  },
  {
   "cell_type": "code",
   "execution_count": 8,
   "metadata": {},
   "outputs": [],
   "source": [
    "# Replace outliers in column 'bathrooms' with the mean of non-outliers\n",
    "\n",
    "# Calculate the limits for values that are not outliers\n",
    "LimitHi = np.mean(house_price['bathrooms']) + 2*np.std(house_price['bathrooms'])\n",
    "LimitLo = np.mean(house_price['bathrooms']) - 2*np.std(house_price['bathrooms'])\n",
    "\n",
    "# Create Flag for values outside of limits\n",
    "FlagBad = (house_price['bathrooms'] < LimitLo) | (house_price['bathrooms'] > LimitHi)\n",
    "\n",
    "# FlagGood is the complement of FlagBad\n",
    "FlagGood = ~FlagBad\n",
    "\n",
    "# Replace outleiers with the mean of non-outliers\n",
    "house_price.loc[FlagBad,'bathrooms'] = np.mean(house_price.loc[FlagGood,'bathrooms'])\n",
    "\n",
    "# Check the counts for 'bathrooms'\n",
    "#house_price['bathrooms'].value_counts()"
   ]
  },
  {
   "cell_type": "code",
   "execution_count": 9,
   "metadata": {},
   "outputs": [],
   "source": [
    "# The values in column 'bathrooms' have now six decimals, so they will be rounded to two decimals\n",
    "\n",
    "# Round to two decimals using round function for Pandas dataframe\n",
    "house_price['bathrooms'] = house_price['bathrooms'].round(decimals=2)"
   ]
  },
  {
   "cell_type": "code",
   "execution_count": 10,
   "metadata": {},
   "outputs": [],
   "source": [
    "# Replace outliers in column 'bedrooms' with the mean of non-outliers\n",
    "\n",
    "# Calculate the limits for values that are not outliers. \n",
    "LimitHi = np.mean(house_price['bedrooms']) + 2*np.std(house_price['bedrooms'])\n",
    "LimitLo = np.mean(house_price['bedrooms']) - 2*np.std(house_price['bedrooms'])\n",
    "\n",
    "# Create Flag for values outside of limits\n",
    "FlagBad = (house_price['bedrooms'] < LimitLo) | (house_price['bedrooms'] > LimitHi)\n",
    "\n",
    "# FlagGood is the complement of FlagBad\n",
    "FlagGood = ~FlagBad\n",
    "\n",
    "# Replace outleiers with the mean of non-outliers\n",
    "house_price.loc[FlagBad,'bedrooms'] = np.mean(house_price.loc[FlagGood,'bedrooms'])\n",
    "\n",
    "# Check frequency count for 'bathrooms'\n",
    "#house_price['bedrooms'].value_counts()"
   ]
  },
  {
   "cell_type": "code",
   "execution_count": 11,
   "metadata": {},
   "outputs": [],
   "source": [
    "# Column'bedrooms' is now of type 'float' so it needs to be cast back to integer type\n",
    "\n",
    "# Cast the column bedrooms to type int\n",
    "house_price.loc[:,'bedrooms'] = house_price.loc[:,'bedrooms'].astype(int)"
   ]
  },
  {
   "cell_type": "code",
   "execution_count": null,
   "metadata": {},
   "outputs": [],
   "source": [
    "# Check the histograms of 'bathrooms' and 'bedrooms' after replacing the outliers\n",
    "#plt.hist(house_price['bathrooms'])\n",
    "#plt.hist(house_price['bedrooms'])"
   ]
  },
  {
   "cell_type": "code",
   "execution_count": 12,
   "metadata": {},
   "outputs": [],
   "source": [
    "# Replace the integers in column waterfront with Yes and No\n",
    "\n",
    "Replace = house_price.loc[:, \"waterfront\"] == 0\n",
    "house_price.loc[Replace, \"waterfront\"] = \"No\"\n",
    "\n",
    "Replace = house_price.loc[:, \"waterfront\"] == 1\n",
    "house_price.loc[Replace, \"waterfront\"] = \"Yes\"\n",
    "\n",
    "#house_price.loc[:, 'waterfront'].value_counts()"
   ]
  },
  {
   "cell_type": "markdown",
   "metadata": {},
   "source": [
    "### Visualizations"
   ]
  },
  {
   "cell_type": "markdown",
   "metadata": {},
   "source": [
    "#### Bar plots\n",
    "\n",
    "To visualize the display of counts of unique values for various variables were used bar plots. These plots yielded several \n",
    "insights for the following variables: <br>\n",
    "- **Bar plot of 'condition'** - the most common condition for sold houses is 3 (an average value, between 1 and 5)\n",
    "- **Bap plot of 'grade'** - the highest count is for grade 7 followed by grades 8 and 9. \n",
    "- **Bar plot of 'bathrooms'** - the highest frequency is for number of baths 2.5 followed by 1 and 1.75\n",
    "- **Bar plot of 'bedrooms'** - most of the houses have 3 bedrooms, followed by 4, 2 and 5.\n",
    "- **Bar plot of 'zipcode'** - the bar plot for the nominal variable ‘zipcode’ shows that there are several groups of zipcodes,  \n",
    "sharing the same frequency (e.g. one group has a count of 600, next group of 500 and so on)."
   ]
  },
  {
   "cell_type": "markdown",
   "metadata": {},
   "source": [
    "#### Box plots and Violin plots\n",
    "\n",
    "For comparing the distribution of a variable grouped by another variable were used box plots and violin plots. <br>\n",
    "- **Box plot of 'price' grouped by 'zipcode'** -  indicates that for most zipcodes, the median price is 500K-600K. There are\n",
    "few zipcodes with higher IQR and higher median prices of 1000K-1200K. The highest average price is of 1800K-1900K (zipcode \n",
    "98030). All the zipcodes show a significant number of outliers - these are high-priced homes, with values of 7000K-8000K. \n",
    "- **Violin plot of 'price' grouped by 'waterfront'** -  shows a median price significantly higher for waterfront houses, with a \n",
    "larger IQR than for the houses with no waterfront view."
   ]
  },
  {
   "cell_type": "markdown",
   "metadata": {},
   "source": [
    "#### Heatmap of the correlation matrix\n",
    "\n",
    "To examine the relationships between variables in the dataset it was created a correlation matrix. Initially it was calculated\n",
    "the correlation matrix including all the variables in the dataset. After analyzing the correlations between price and variables,\n",
    "it was computed a smaller correlation matrix that narrows down the relationships that are most interesting for the purpose of \n",
    "this analysis.\n",
    "To display the correlation relationships it was used a heatmap plot. In the heatmap plot below, the darker the color, the \n",
    "stronger the relationship between the variables. The heatmap is also annotated and displays the absolute value of the \n",
    "correlation coefficient between the variables."
   ]
  },
  {
   "cell_type": "code",
   "execution_count": 13,
   "metadata": {},
   "outputs": [
    {
     "data": {
      "image/png": "[encoded data removed]",
      "text/plain": [
       "<Figure size 648x432 with 2 Axes>"
      ]
     },
     "metadata": {
      "needs_background": "light"
     },
     "output_type": "display_data"
    }
   ],
   "source": [
    "# Correlation matrix using some variables \n",
    "house_corr = house_price[[\"price\", \"bedrooms\", \"bathrooms\", \"floors\", \"sqft_living\", \"condition\", \"grade\", \"zipcode\", \"sqft_living15\", \"sqft_above\"]].corr().abs()\n",
    "fig, ax=plt.subplots(figsize=(9,6))                                               # Create a figure and a subplot\n",
    "fig.suptitle('Correlation of Price and different variables', fontsize=15, y=.95)  # Give a title to the plot\n",
    "heatmap = sns.heatmap(house_corr, cmap='Reds', annot=True) "
   ]
  },
  {
   "cell_type": "markdown",
   "metadata": {},
   "source": [
    "It can be observed that ‘sqft_living’, ‘grade’,  ‘sqft_living15’, ‘sqft_above’ have a strong correlation with price.\n",
    "Also, ‘bathrooms’ and ‘bedrooms’ display a good relationship with the price. A lower correlation is displayed for ‘floors’ and\n",
    "‘condition’. As it is expected, many of the variables related to the structure of the house are also highly correlated with each\n",
    "other. These include the living square footage and the number of rooms. For example there is a high correlation between \n",
    "‘sqft_living’ and ‘sqft_above’ (which includes the usable space of the house) or ‘sqft_living’ and ‘bathrooms’ or 'bedrooms'."
   ]
  },
  {
   "cell_type": "markdown",
   "metadata": {},
   "source": [
    "#### Scatter plots\n",
    "\n",
    "To ensure that the relationships between price and various variables are really significant were applied visualization methods. \n",
    "The plots used were scatter plots of price vs different variables, both with large and low correlation coefficients. Some of \n",
    "the scatter plots that show a strong relationship of price with several variables are presented below. "
   ]
  },
  {
   "cell_type": "markdown",
   "metadata": {},
   "source": [
    "#### Multiple scatter plots of Price vs correlated Variables"
   ]
  },
  {
   "cell_type": "code",
   "execution_count": 14,
   "metadata": {},
   "outputs": [],
   "source": [
    "# Create Pandas series for each column that will be used in scatter plots\n",
    "\n",
    "bath = house_price['bathrooms']\n",
    "bed = house_price['bedrooms']\n",
    "grade = house_price['grade']\n",
    "sqft_living15 = house_price['sqft_living15']\n",
    "sqft_above = house_price['sqft_above']\n",
    "sqft_living = house_price['sqft_living']\n",
    "\n",
    "price = house_price['price']"
   ]
  },
  {
   "cell_type": "code",
   "execution_count": 15,
   "metadata": {},
   "outputs": [
    {
     "data": {
      "text/plain": [
       "<Figure size 432x288 with 0 Axes>"
      ]
     },
     "metadata": {},
     "output_type": "display_data"
    },
    {
     "data": {
      "image/png": "[encoded data removed]",
      "text/plain": [
       "<Figure size 1224x864 with 7 Axes>"
      ]
     },
     "metadata": {
      "needs_background": "light"
     },
     "output_type": "display_data"
    }
   ],
   "source": [
    "# Create a collection of subplots that share the same color bar\n",
    "\n",
    "f = plt.figure()      # Define plot area\n",
    "# Create subplots sharing y axis and not sharing x axis\n",
    "f, axes = plt.subplots(nrows = 2, ncols = 3, sharex=False, sharey = True, figsize=(17,12))\n",
    "\n",
    "f.suptitle('House Prices correlation with some Variables', fontsize=25, y=1.0)  # Give the plot a title\n",
    "f.text(0.0001, 0.56, 'Prices', va='center', rotation='vertical', fontsize=16)   # Set the y axis label\n",
    "\n",
    "# Set the marker shape and marker size for each of the scatter subplot\n",
    "\n",
    "sc = axes[0][0].scatter(sqft_living, price, c = price, marker = \"+\", s = 60)   \n",
    "axes[0][0].set_xlabel('Sqft Living')\n",
    "\n",
    "axes[0][1].scatter(bed, price, c = price, marker = \"+\", s = 60)   \n",
    "axes[0][1].set_xlabel('Bedrooms')\n",
    "\n",
    "sc = axes[0][2].scatter(bath, price, c = price, marker = \"+\", s = 60)   \n",
    "axes[0][2].set_xlabel('Bathrooms')\n",
    "\n",
    "axes[1][0].scatter(sqft_living15, price, c = price, marker = \"+\", s = 60)\n",
    "axes[1][0].set_xlabel('Sqft Living of Nearest 15 Neighbors')\n",
    "\n",
    "axes[1][1].scatter(grade, price, c = price, marker = \"+\", s = 60)\n",
    "axes[1][1].set_xlabel('Grade')\n",
    "\n",
    "sc = axes[1][2].scatter(sqft_above, price, c = price, marker = \"+\", s = 60)\n",
    "axes[1][2].set_xlabel('Sqft Above')\n",
    "\n",
    "# Add separate colorbar axes\n",
    "cbar_ax = f.add_axes([1, 0.22, 0.05, 0.7])\n",
    "\n",
    "#Set the data for the colorbar using a ScalarMappable argument\n",
    "f.colorbar(sc, cax=cbar_ax)\n",
    "\n",
    "plt.show()"
   ]
  },
  {
   "cell_type": "markdown",
   "metadata": {},
   "source": [
    "\n",
    "**Scatter plot of ‘price’ vs ‘sqft_living ’** - shows a strong relationship between the square footage of a home and its price.\n",
    "Houses with square footage of ~1500-3500 sqft have smaller prices compared with houses that have over 5000 sqft. The plot shows\n",
    "also some very high-priced homes, marked in light green and yellow, with high square footage (10000-12000 sqft) and high prices\n",
    "(7000K-8000K).\n",
    "\n",
    "**Scatter plot of ‘price’ vs ‘sqft_living15 ’** - the ‘sqft_living15 ’, which is a measure of the square footage of the nearest\n",
    "15 neighbors has a very strong correlation with the price. The higher the square footage of neighborhood homes, the higher gets\n",
    "the price for a house. This means that a home’s value will be similar to the prices of the houses in the neighborhood. \n",
    "\n",
    "**Scatter plot of ‘price’ vs ‘sqft_above ’** - price shows also a very strong correlation with ‘sqft_above’ which includes the\n",
    "usable space in a house. It can be observed how prices increase with the amount of the usable space in the house. \n",
    "The sctter plot of ‘sqft_above’ and ‘sqft_living’ highlight also that they are highly correlated with each other.\n",
    "\n",
    "**Scatter plot of ‘price’ vs ‘bathrooms’** -  shows a good relationship between the price and the number of baths. The price \n",
    "increases from 500K-1000K for 1-1.5 baths to ~3000k for 3 baths.For the most common number of baths of 2-2.5, there is high \n",
    "range of prices, with houses of 7000K-8000K, represented as outliers (light green and yellow marks on the plot).\n",
    "\n",
    "**Scatter plot of ‘price’ vs ‘bedrooms’** - the home prices increase also with the number of bedrooms. For 2 bedrooms the \n",
    "density of prices lies between 500K-1500K, and for  4-5 bedrooms, the prices go up to 4000K-5000K. The most common number of \n",
    "bedrooms is 3 with the highest range of prices.\n",
    "\n",
    "**Scatter plot of ‘price’ vs ‘grade’** - shows a clear increase of ‘price’ with ‘grade’. This is expected, since ‘grade’ \n",
    "assesses the overall design of the house and the quality of the construction. "
   ]
  },
  {
   "cell_type": "markdown",
   "metadata": {},
   "source": [
    "There are a few other scatter plots investigated that yielded the following insights:\n",
    "\n",
    "**Scatter plot of ‘price’ vs ‘condition’** - shows that ‘average’ houses, with condition ratings 3 and 2 tend to perform \n",
    "the best in terms of price. Although it may be expected that ‘condition’ to be highly related with price (since it shows the \n",
    "overall condition of the house), the plot does not display a clear relationship between these variables.\n",
    "This may be due to the fact that the condition values are relative to age and grade - which refers to the design and quality of\n",
    "the construction rather than the utility and functionality of the building. For example, a new building with a good design,\n",
    "could be given an ‘average’ condition rating if some functional repairs are needed. \n",
    "The scatter plot of ‘grade’ vs ‘condition’  shows that ‘average’ condition houses also tend to have the highest-grade rating.\n",
    "\n",
    "**Scatter plots of ‘price’ vs ‘floors’ and ‘view’** - do not display a clear relationship with house price. "
   ]
  },
  {
   "cell_type": "markdown",
   "metadata": {},
   "source": [
    "## 2. Identify a likely distribution for several of the features"
   ]
  },
  {
   "cell_type": "markdown",
   "metadata": {},
   "source": [
    "There are two methods that can be used for checking whether a sample of data is Gaussian or sufficiently Gaussian-like:\n",
    "- Graphical Methods: plotting the data and qualitatively evaluating whether the data looks Gaussian.\n",
    "- Statistical (Normality) Tests: calculate statistics on the data and quantify how likely it is that the data was drawn\n",
    "from a Gaussian distribution.\n",
    "<br>\n",
    "\n",
    "From the conclusions above after visually exploring the data, it seems that there are some features that have a strong \n",
    "relationship with price. Next it will be identified a distribution for these features, using both graphical and statistical\n",
    "tests. The features are:\n",
    "- price\n",
    "- sqft_living\n",
    "- sqft_living15\n",
    "\n",
    "For all these features it is applied the logarithm tranformation, then will be also analyzed."
   ]
  },
  {
   "cell_type": "code",
   "execution_count": 16,
   "metadata": {},
   "outputs": [],
   "source": [
    "# Create logarithm transformations for price, sqft_living and sqft_living15 and add the new columns to the adatframe\n",
    "\n",
    "# Calculate the log price \n",
    "house_price['log_price'] = np.log(house_price['price'])\n",
    "\n",
    "# Calculate the log sqft_living \n",
    "house_price['log_sqftliving'] = np.log(house_price['sqft_living'])\n",
    "\n",
    "# Calculate the sqft_living15 \n",
    "house_price['log_sqftliving15'] = np.log(house_price['sqft_living15'])"
   ]
  },
  {
   "cell_type": "markdown",
   "metadata": {},
   "source": [
    "#### Identify a likely distribution for 'price'"
   ]
  },
  {
   "cell_type": "markdown",
   "metadata": {},
   "source": [
    "For visualizing the frequency distribution of house prices it is plotted the histogram and Kernel Density Estimation plot. \n",
    "Below it is defined a function 'hist_plot' that is used for plotting the histogram and kernel density for price."
   ]
  },
  {
   "cell_type": "code",
   "execution_count": 17,
   "metadata": {},
   "outputs": [],
   "source": [
    "# Define a function to plot the histogram and KDE of a variable\n",
    "def hist_plot(vals, lab):\n",
    "    \"\"\"Plot the distribution of values\"\"\"\n",
    "    sns.set_style(\"whitegrid\")\n",
    "    sns.distplot(vals)                   # call the seaborn distplot function \n",
    "    plt.title('Histogram of ' + lab)     # give the plot a title\n",
    "    plt.xlabel('Value')                  # set label for x axis\n",
    "    plt.ylabel('Density')                # set label for y axis"
   ]
  },
  {
   "cell_type": "code",
   "execution_count": 18,
   "metadata": {},
   "outputs": [
    {
     "data": {
      "image/png": "[encoded data removed]",
      "text/plain": [
       "<Figure size 432x288 with 1 Axes>"
      ]
     },
     "metadata": {},
     "output_type": "display_data"
    }
   ],
   "source": [
    "# Plot the histogram of price using the 'hist_plot' function\n",
    "hist_plot(house_price['price'], 'price')"
   ]
  },
  {
   "cell_type": "markdown",
   "metadata": {},
   "source": [
    "The histogram and Kernel Density Estimation plot of price show a highly right skewed distribution.  The minimum value for a \n",
    "house starts at less than 100K. The highest density of prices lies between 400K-600K, with frequency decreasing sharply after\n",
    "1000K. The long tail towards the end indicates a much lower frequency corresponding to high-priced houses going up to ~8000K. \n",
    "<br>\n",
    "To verify if the distribution improves, it is calculated and plotted the log price. "
   ]
  },
  {
   "cell_type": "code",
   "execution_count": null,
   "metadata": {},
   "outputs": [],
   "source": [
    "# Plot the histogram of price using the 'hist_plot' function\n",
    "#hist_plot(house_price['log_price'], 'log_price')"
   ]
  },
  {
   "cell_type": "markdown",
   "metadata": {},
   "source": [
    "The log price has an improved distribution, almost Gaussian like. Besides the histograms, below are used \n",
    "also Q-Q plots to compare the distributions of 'price' and  'log price'."
   ]
  },
  {
   "cell_type": "code",
   "execution_count": 19,
   "metadata": {},
   "outputs": [],
   "source": [
    "# Create numpy arrays for price and log price\n",
    "price = house_price.loc[:, \"price\"].to_numpy()\n",
    "log_price = house_price.loc[:, \"log_price\"].to_numpy()"
   ]
  },
  {
   "cell_type": "code",
   "execution_count": 20,
   "metadata": {},
   "outputs": [
    {
     "data": {
      "image/png": "[encoded data removed]",
      "text/plain": [
       "<Figure size 432x288 with 1 Axes>"
      ]
     },
     "metadata": {},
     "output_type": "display_data"
    }
   ],
   "source": [
    "from statsmodels.graphics.gofplots import qqplot\n",
    "from matplotlib import pyplot\n",
    "\n",
    "# Q-Q plot of price\n",
    "#qqplot(price, line='s')     # draw the standardized line by setting the ‘line‘ argument to ‘s‘\n",
    "#pyplot.show()\n",
    "\n",
    "# Q-Q plot of log price\n",
    "qqplot(log_price, line='s')  # draw the standardized line by setting the ‘line‘ argument to ‘s‘\n",
    "pyplot.show()"
   ]
  },
  {
   "cell_type": "markdown",
   "metadata": {},
   "source": [
    "The Q-Q plots of price and log price show very different behavior. The Q-Q plot of price shows the scatter plot of points \n",
    "following the straight line of the normal Q-Q only for a small distance in the middle part, going up strongly on the right\n",
    "corner and deviating also from the straight line on the left bottom. This confirms the histogram of price having a distribution\n",
    "very different than Normal. \n",
    "<br>\n",
    "The Q-Q plot of log price displays a closely fitting line with the expected diagonal pattern for a sample from a Gaussian \n",
    "distribution. There are only a few deviations mostly on the upper right corner. The Q-Q plots confirm a very close distribution\n",
    "to Normal for log price than for the price."
   ]
  },
  {
   "cell_type": "markdown",
   "metadata": {},
   "source": [
    "Next will be done formal (statistical) tests to check whether price and log price deviates significantly from a Normal \n",
    "distribution. The tests assume that the sample was drawn from a Gaussian distribution, so the null and alternate hypothesis\n",
    "can be formulated as follows:\n",
    "- H0 = the distribution of price (log price) is normal\n",
    "- Ha = the distribution of price (log price) does not follow a normal distribution\n",
    "<br>\n",
    "\n",
    "The tests used are Kolmogorov Smirnov test and the Shapiro-Wilk test. The threshold level alpha is 5%. The p-Value\n",
    "is used to decide whether the difference is large enough to reject the null hypothesis. If p-value <= 0.05, than we reject H0, \n",
    "and we do not assume a normal distribution. If p-value > 0.05, than we fail to reject H0, so we assume a normal distribution."
   ]
  },
  {
   "cell_type": "markdown",
   "metadata": {},
   "source": [
    "The results of Kolmogorov Smirnov test and the Shapiro-Wilk test for both price and log price highlight the following:\n",
    "- Based on the values of the KS statistic and the p-value obtained for both price and log price using Kolmogorov Smirnov test\n",
    "it can be rejected the null hypothesis.\n",
    "- The Shapiro-Wilk test shows that the p-value is very small and finds that the distributions are not normal, for both price \n",
    "and log price.\n",
    "\n",
    "Both Kolmogorov Smirnov and Shapiro-Wilk tests indicate that it cannot be assumed a normal distribution for price or log price."
   ]
  },
  {
   "cell_type": "markdown",
   "metadata": {},
   "source": [
    "#### Conclusions\n",
    "From both qualitative and quantitative tests done above, it can be concluded that the __log price has a distribution much\n",
    "closer to Normal__ than the price, so in the following tests it will be used the log price."
   ]
  },
  {
   "cell_type": "markdown",
   "metadata": {},
   "source": [
    "#### Identify a likely distribution for other features: 'sqft_living' and 'sqft_living15'"
   ]
  },
  {
   "cell_type": "markdown",
   "metadata": {},
   "source": [
    "Below are created Numpy arrays for sqft_living and sqft_living15, as well as for log sqft_living and log sqft_living15. They\n",
    "are used for plotting histograms to compare the distributions. They are also used in statistical tests."
   ]
  },
  {
   "cell_type": "code",
   "execution_count": 21,
   "metadata": {},
   "outputs": [],
   "source": [
    "# Create numpy arrays for sqft_living and log sqft_living\n",
    "sqft_living = house_price.loc[:, \"sqft_living\"].to_numpy()\n",
    "log_sqftliving = house_price.loc[:, \"log_sqftliving\"].to_numpy()\n",
    "\n",
    "# Create numpy arrays for sqft_living15 and log sqft_living15\n",
    "sqft_living15 = house_price.loc[:, \"sqft_living15\"].to_numpy()\n",
    "log_sqftliving15 = house_price.loc[:, \"log_sqftliving15\"].to_numpy()"
   ]
  },
  {
   "cell_type": "code",
   "execution_count": null,
   "metadata": {},
   "outputs": [],
   "source": [
    "# Plot the histogram of sqft_living using the 'hist_plot' function\n",
    "#hist_plot(house_price['sqft_living'], 'sqft_living')\n",
    "\n",
    "# Plot the histogram of log sqft_living using the 'hist_plot' function\n",
    "#hist_plot(house_price['log_sqftliving'], 'log_sqftliving')\n",
    "\n",
    "# Plot the histogram of sqft_living15 using the 'hist_plot' function\n",
    "#hist_plot(house_price['sqft_living15'], 'sqft_living15')\n",
    "\n",
    "# Plot the histogram of log sqft_living15 using the 'hist_plot' function\n",
    "#hist_plot(house_price['log_sqftliving15'], 'log_sqftliving15')"
   ]
  },
  {
   "cell_type": "markdown",
   "metadata": {},
   "source": [
    "The histograms and KDE plots of sqft_living and sqft_living15 are highly skewed with long tails to the right. The plots of \n",
    "logarithmic transformations for both these variables have an improved distribution, much closer to Normal as it can be seen for \n",
    "log sqft_living."
   ]
  },
  {
   "cell_type": "markdown",
   "metadata": {},
   "source": [
    "The Q-Q plots for 'sqft_living' and 'log sqft_living' and for 'sqft_living15' and 'log sqft_living15' confirm the conclusions \n",
    "found using histograms: both logarithmic transformations have a distribution very close to Normal."
   ]
  },
  {
   "cell_type": "markdown",
   "metadata": {},
   "source": [
    "Besides the graphical methods were used Kolmogorov Smirnov and Shapiro-Wilk tests. "
   ]
  },
  {
   "cell_type": "code",
   "execution_count": 22,
   "metadata": {},
   "outputs": [
    {
     "name": "stdout",
     "output_type": "stream",
     "text": [
      "KS-statistics =  0.99999999285516 \n",
      "p-value =  0.0\n",
      "Sample does not look Gaussian (reject H0)\n"
     ]
    }
   ],
   "source": [
    "# Kolmogorov Smirnov test for sqft_living and log_sqftliving\n",
    "\n",
    "\n",
    "from scipy.stats import kstest, norm\n",
    "\n",
    "# Kolmogorov Smirnov test for sqft_living\n",
    "#ks_stat, p = kstest(sqft_living, 'norm')\n",
    "# Print results\n",
    "#print('KS-statistics = ', ks_stat, '\\np-value = ', p)\n",
    "# Interpret\n",
    "#alpha = 0.05\n",
    "#if p > alpha:\n",
    "#    print(\"Sample looks Gaussian (fail to reject H0)\")\n",
    "#else:\n",
    "#    print(\"Sample does not look Gaussian (reject H0)\")\n",
    "    \n",
    "\n",
    "# Kolmogorov Smirnov test for log_sqftliving\n",
    "ks_stat, p = kstest(log_sqftliving, 'norm')\n",
    "# Print results\n",
    "print('KS-statistics = ', ks_stat, '\\np-value = ', p)\n",
    "# Interpret\n",
    "alpha = 0.05\n",
    "if p > alpha:\n",
    "    print(\"Sample looks Gaussian (fail to reject H0)\")\n",
    "else:\n",
    "    print(\"Sample does not look Gaussian (reject H0)\")"
   ]
  },
  {
   "cell_type": "markdown",
   "metadata": {},
   "source": [
    "The results of Kolmogorov Smirnov and Shapiro-Wilk tests indicate that it cannot be assumed a normal distribution for \n",
    "sqft_living and sqft_living15 or their corresponding log transformation."
   ]
  },
  {
   "cell_type": "markdown",
   "metadata": {},
   "source": [
    "#### Conclusions\n",
    "From the qualitative and quantitavie tests for sqft_living and sqft_living15 features, it can be concluded that only their\n",
    "logarithmic tranformation (__log_sqftliving__ and __log_sqftliving15__) are __closer to a Normal distribution__.\n",
    "\n"
   ]
  },
  {
   "cell_type": "markdown",
   "metadata": {},
   "source": [
    "## 3. Compute basic summary statistics by both classical bootstrap and Bayesian methods"
   ]
  },
  {
   "cell_type": "markdown",
   "metadata": {},
   "source": [
    "### 3a. Compute basic summary statistic of the mean by classical Bootstrap"
   ]
  },
  {
   "cell_type": "markdown",
   "metadata": {},
   "source": [
    "In this step it is bootstrapped the log price, trying to estimate its mean. Below is taken a sample from the house_price\n",
    "dataframe, displayed the first few rows from the bootstrap sample and calculated the mean for the first bootstrap sample. \n",
    "Then are used 10000 replicas of the bootstrap sample and plotted the distribution of sample means as well as the mean of the \n",
    "sample means."
   ]
  },
  {
   "cell_type": "code",
   "execution_count": 23,
   "metadata": {},
   "outputs": [],
   "source": [
    "# Take a sample from the auto dataframe\n",
    "houses = house_price[:100]"
   ]
  },
  {
   "cell_type": "code",
   "execution_count": 24,
   "metadata": {},
   "outputs": [
    {
     "name": "stdout",
     "output_type": "stream",
     "text": [
      "Log price mean:  13.047816917155423\n",
      "Log price std:  0.5266845190328331\n"
     ]
    }
   ],
   "source": [
    "# Check the mean and std of the log price in auto dataframe\n",
    "print (\"Log price mean: \", house_price['log_price'].mean())\n",
    "print (\"Log price std: \", house_price['log_price'].std())"
   ]
  },
  {
   "cell_type": "code",
   "execution_count": null,
   "metadata": {},
   "outputs": [],
   "source": [
    "# Display the first few rows from the bootstrap sample\n",
    "#houses.sample(frac=1, replace=True).head()\n",
    "\n",
    "# Calculate the mean for the first bootstrap sample\n",
    "#houses.sample(frac=1, replace=True).log_price.mean()"
   ]
  },
  {
   "cell_type": "code",
   "execution_count": 25,
   "metadata": {},
   "outputs": [],
   "source": [
    "# Define a function to plot the histogram and KDE of a variable and the mean line\n",
    "\n",
    "def hist_plot(vals, lab):\n",
    "    \"\"\"Plot the distribution of values\"\"\"\n",
    "    sns.set_style(\"whitegrid\")\n",
    "    sns.distplot(vals)                   # call the seaborn distplot function \n",
    "    plt.title('Histogram of ' + lab)     # give the plot a title\n",
    "    plt.axvline(vals.mean(), color='red')\n",
    "    plt.xlabel('Value')                  # set label for x axis\n",
    "    plt.ylabel('Density')                # set label for y axis"
   ]
  },
  {
   "cell_type": "code",
   "execution_count": 26,
   "metadata": {},
   "outputs": [],
   "source": [
    "# Use 10000 replicas and check the distribution\n",
    "n_replicas = 10000                                        # number of bootstrap replicas\n",
    "\n",
    "houses_bootstrap_means = pd.Series([                           # bootstrap sample log price means\n",
    "    houses.sample(frac=1, replace=True).log_price.mean()\n",
    "    for i in range(n_replicas)])"
   ]
  },
  {
   "cell_type": "code",
   "execution_count": 27,
   "metadata": {},
   "outputs": [
    {
     "data": {
      "image/png": "[encoded data removed]",
      "text/plain": [
       "<Figure size 432x288 with 1 Axes>"
      ]
     },
     "metadata": {},
     "output_type": "display_data"
    }
   ],
   "source": [
    "# Plot the histogram of the sampling distribution of means\n",
    "hist_plot(houses_bootstrap_means, 'log price')"
   ]
  },
  {
   "cell_type": "markdown",
   "metadata": {},
   "source": [
    "It can be observed the Normal-like shape of the sampling distributions of the means with the mean line at ~ 13.05."
   ]
  },
  {
   "cell_type": "code",
   "execution_count": 28,
   "metadata": {},
   "outputs": [],
   "source": [
    "# Calculate the estimated mean and std \n",
    "pop_mean = houses_bootstrap_means.mean()\n",
    "pop_std = houses_bootstrap_means.std()"
   ]
  },
  {
   "cell_type": "code",
   "execution_count": 29,
   "metadata": {},
   "outputs": [
    {
     "name": "stdout",
     "output_type": "stream",
     "text": [
      "Estimated mean (13.018) vs actual mean (13.048)\n",
      "Estimated s.d. (0.052) vs actual s.d. (0.527)\n"
     ]
    }
   ],
   "source": [
    "# Display the estimated and actual values for mean and standard deviation:\n",
    "print('Estimated mean (%.3f) vs actual mean (%.3f)' % (pop_mean, house_price['log_price'].mean()))\n",
    "print('Estimated s.d. (%.3f) vs actual s.d. (%.3f)' % (pop_std, house_price['log_price'].std()))"
   ]
  },
  {
   "cell_type": "markdown",
   "metadata": {},
   "source": [
    "It can be observed that the estimated mean obtained by bootstrapping (sampling distribution of the means) has a value very\n",
    "close to the actual mean of the population. Similar results are for standard deviation."
   ]
  },
  {
   "cell_type": "markdown",
   "metadata": {},
   "source": [
    "### 3b. Compute basic summary statistic of the mean by Bayesian methods"
   ]
  },
  {
   "cell_type": "markdown",
   "metadata": {},
   "source": [
    "Using Bayesian models it will be computed the mean of log price obtained for the posterior distribution. The first step is to \n",
    "select a prior which is considered appropriate for the log price, then are computed the likelihood and the posterior. <br>\n",
    "For prior computation are estimated both the posterior distribution of the mean and the posterior distribution of the standard\n",
    "deviation."
   ]
  },
  {
   "cell_type": "code",
   "execution_count": 30,
   "metadata": {},
   "outputs": [],
   "source": [
    "# Calculate the prior for log price variable\n",
    "N = 1000\n",
    "p = np.linspace(min(house_price['log_price']), max(house_price['log_price']), num=N)\n",
    "\n",
    "# Calculate the prior\n",
    "pp = scipy.stats.norm.pdf(p, loc=house_price['log_price'].mean(), scale=np.std(house_price['log_price']))\n",
    "pp = pp / pp.sum()"
   ]
  },
  {
   "cell_type": "markdown",
   "metadata": {},
   "source": [
    "To calculate the Normal likelihood for log price we need the number of samples, the population mean and standard deviation. \n",
    "Below are defined some functions to compute the likelihood, then compute and plot the posterior."
   ]
  },
  {
   "cell_type": "code",
   "execution_count": 31,
   "metadata": {},
   "outputs": [],
   "source": [
    "# Define a function to compute the likelihood - we will use a Normal likelihood\n",
    "def comp_like(p, x): \n",
    "    variance = np.std(x)**2                                                # sigmasqr \n",
    "    x_mean = np.asarray(x).mean()                                          # xbar                \n",
    "    print('Mean = %.3f, Standard deviation = %.3f' % (x_mean, np.std(x)))\n",
    "    n = len(x)\n",
    "    l = np.exp(-n * np.square(x_mean - p) / (2 * variance))                # use formula for a Normal distribution\n",
    "    return l / l.sum()"
   ]
  },
  {
   "cell_type": "code",
   "execution_count": 32,
   "metadata": {},
   "outputs": [],
   "source": [
    "# Define a function to compute the posterior\n",
    "def posterior(prior, like):\n",
    "    post = prior * like                      # compute the product of the probabilities\n",
    "    return post / sum(post)                  # normalize the distribution to sum to unity"
   ]
  },
  {
   "cell_type": "code",
   "execution_count": 33,
   "metadata": {},
   "outputs": [],
   "source": [
    "# Define a function to plot the posterior\n",
    "def plot_post(prior, like, post, x):\n",
    "    maxy = max(max(prior), max(like), max(post))\n",
    "    pyplot.figure(figsize=(12, 4))\n",
    "    pyplot.plot(x, like, label='likelihood', linewidth=12, color='black', alpha=.2)\n",
    "    pyplot.plot(x, prior, label='prior')\n",
    "    pyplot.plot(x, post, label='posterior', color='green')\n",
    "    pyplot.ylim(0, maxy)\n",
    "    pyplot.xlim(0, 1)\n",
    "    pyplot.title('Density of prior, likelihood and posterior')\n",
    "    pyplot.xlabel('Parameter value')\n",
    "    pyplot.ylabel('Density')\n",
    "    pyplot.legend()"
   ]
  },
  {
   "cell_type": "code",
   "execution_count": 34,
   "metadata": {},
   "outputs": [
    {
     "name": "stdout",
     "output_type": "stream",
     "text": [
      "Mean = 13.048, Standard deviation = 0.527\n"
     ]
    }
   ],
   "source": [
    "like_house = comp_like(p, house_price['log_price'])    # compute the likelihood\n",
    "post_house = posterior(pp, like_house)            # compute the posterior"
   ]
  },
  {
   "cell_type": "code",
   "execution_count": null,
   "metadata": {},
   "outputs": [],
   "source": [
    "# Plot the posterior distribution for log price\n",
    "#pyplot.plot(p, pp, label='prior')\n",
    "#pyplot.plot(p, like_house, label='likelihood', alpha=.3, linewidth=10)\n",
    "#pyplot.plot(p, post_house, label='posterior')\n",
    "#pyplot.title('Prior, Likelihood and Posterior')\n",
    "#pyplot.legend()"
   ]
  },
  {
   "cell_type": "markdown",
   "metadata": {},
   "source": [
    "The prior seem to be difused, does not have a lot of effect; the posterior and likelihood are similar. The mean value is\n",
    "at ~ 13."
   ]
  },
  {
   "cell_type": "markdown",
   "metadata": {},
   "source": [
    "#### Comparing the results obtained for the mean by Bootstrap and Bayeasian methods\n",
    "\n",
    "Comparing the statistics results for mean and standard deviation obtained by bootstrapping with the results obtained for the \n",
    "posterior using Bayesian method it can be observed that they are very close. The mean obtained by bootstrap was 13.019 and the\n",
    "mean value obtained using Bayesian method is 13.018. Similar, the standard deviation using bootstrap is 0.052 and by using \n",
    "Bayesian model is 0.522."
   ]
  },
  {
   "cell_type": "markdown",
   "metadata": {},
   "source": [
    "## 4. Compute confidence intervals for the above summary statistics by classical bootstrap and Bayesian methods"
   ]
  },
  {
   "cell_type": "markdown",
   "metadata": {},
   "source": [
    "### 3a. Compute the confidence interval for the mean by classical Bootstrap"
   ]
  },
  {
   "cell_type": "markdown",
   "metadata": {},
   "source": [
    "For computing the confidence interval for the mean by Bootstrap, are first calculated the mean and standard deviation\n",
    "for the sampling distribution of means (estimated mean and std). Then it is assumed a normal distribution for log price and \n",
    "computed the confidence interval on the mean."
   ]
  },
  {
   "cell_type": "code",
   "execution_count": 35,
   "metadata": {},
   "outputs": [],
   "source": [
    "# Calculate the mean and std for the sampling distribution of means (estimated mean and std)\n",
    "pop_mean = houses_bootstrap_means.mean()\n",
    "pop_std = houses_bootstrap_means.std()"
   ]
  },
  {
   "cell_type": "code",
   "execution_count": 36,
   "metadata": {},
   "outputs": [
    {
     "name": "stdout",
     "output_type": "stream",
     "text": [
      "The half width is 0.10\n",
      "The actual mean is 13.05\n",
      "The 0.95 level CI is (12.92 , 13.12)\n"
     ]
    }
   ],
   "source": [
    "# We assume a normal distribution for log price\n",
    "alpha = 0.95\n",
    "half_width = scipy.stats.norm.ppf((1 + alpha)/2, loc=pop_mean, scale=pop_std) - pop_mean\n",
    "print('The half width is %.2f' % half_width)\n",
    "\n",
    "ci_low = pop_mean - half_width\n",
    "ci_high = pop_mean + half_width\n",
    "\n",
    "# Compute the confidence interval on the mean\n",
    "print('The actual mean is %.2f' % house_price['log_price'].mean())\n",
    "print('The %.2f level CI is (%.2f , %.2f)' % (alpha, ci_low, ci_high))"
   ]
  },
  {
   "cell_type": "markdown",
   "metadata": {},
   "source": [
    "### 3b. Compute the confidence interval for the mean by Bayesian methods"
   ]
  },
  {
   "cell_type": "markdown",
   "metadata": {},
   "source": [
    "Below it is computed and compared the confidence interval of the posterior distribution of log price."
   ]
  },
  {
   "cell_type": "code",
   "execution_count": 37,
   "metadata": {},
   "outputs": [],
   "source": [
    "# Define function to plot the posterior distribution. Calculate and display the 95% credible interval (HDI) \n",
    "\n",
    "def plot_ci(p, post, num_samples, lower_q, upper_q):\n",
    "    # This function computes a credible interval using an assumption of symetry\n",
    "    # in the bulk of the distribution to keep the calculation simple\n",
    "    \n",
    "    # Compute a large sample by resampling with replacement\n",
    "    samples = np.random.choice(p, size=num_samples, replace=True, p=post)\n",
    "    ci = np.percentile(samples, [lower_q*100, upper_q*100]) # compute the quantiles\n",
    "    \n",
    "    interval = upper_q - lower_q\n",
    "#    pyplot.title('Posterior density with %.3f credible interval' % interval)\n",
    "#    pyplot.plot(p, post, color='blue')\n",
    "#    pyplot.xlabel('Parameter value')\n",
    "#    pyplot.ylabel('Density')\n",
    "#    pyplot.axvline(x=ci[0], color='red')\n",
    "#    pyplot.axvline(x=ci[1], color='red')\n",
    "    print('The %.3f credible interval is %.3f to %.3f' \n",
    "          % (interval, ci[0], ci[1]))   "
   ]
  },
  {
   "cell_type": "code",
   "execution_count": 38,
   "metadata": {},
   "outputs": [
    {
     "name": "stdout",
     "output_type": "stream",
     "text": [
      "The 0.950 credible interval is 13.043 to 13.057\n"
     ]
    }
   ],
   "source": [
    "# Compute the credible interval\n",
    "num_samples = 100000\n",
    "\n",
    "plot_ci(p, post_house, num_samples, lower_q=.025, upper_q=.975)"
   ]
  },
  {
   "cell_type": "markdown",
   "metadata": {},
   "source": [
    "#### Comparing the results for confidence interval obtained using Bootstrap and Bayesian methods\n",
    "\n",
    "The confidence interval for 0.95 level obtained using Bootstrap method is (12.92 , 13.12). Using Bayesian method, the 0.950 \n",
    "credible interval is (13.043, 13.057).\n",
    "It can be noted that the results obtained using both methods are very close."
   ]
  },
  {
   "cell_type": "markdown",
   "metadata": {},
   "source": [
    "## 5. Leverage confidence intervals in performing hypothesis tests to determine if the differences in pairs and multiple populations are significant"
   ]
  },
  {
   "cell_type": "markdown",
   "metadata": {},
   "source": [
    "### 4a. Hypothesis tests using classical tests and Tukey HSD"
   ]
  },
  {
   "cell_type": "markdown",
   "metadata": {},
   "source": [
    "The dependence of price on another categorical variable can be checked via qualitative visualization or via a quantitative \n",
    "statistical test. <br> The box plots of price (log price) vs waterfront variable can help visualize the dependence between them."
   ]
  },
  {
   "cell_type": "code",
   "execution_count": null,
   "metadata": {},
   "outputs": [],
   "source": [
    "# Box plot of price vs waterfront\n",
    "#fig = plt.figure(figsize=(5, 5)) # Define plot area\n",
    "#ax = fig.gca() # Define axis \n",
    "#house_price.loc[:,['price', 'waterfront']].boxplot(by = 'waterfront', ax = ax)\n",
    "#ax.set_title('Box plot of price') # Give the plot a main title\n",
    "#ax.set_ylabel('House Price')# Set text for y axis\n",
    "#ax.set_ylim(0.0, 8000000.0) # Set the limits of the y axis"
   ]
  },
  {
   "cell_type": "markdown",
   "metadata": {},
   "source": [
    "The box plots shows that the median price for waterfront houses is significantly higher that for no waterfront homes. Also, \n",
    "both categories have outliers, mainly the no waterfront houses."
   ]
  },
  {
   "cell_type": "markdown",
   "metadata": {},
   "source": [
    "The formal (statistical) tests that are used to quantitatively check of the dependence of the log price on a categorical \n",
    "variable is a two-sided t-test. The two-sided t-test can help to determine if we can reject the null hypothesis that the \n",
    "difference of means is not significant. For the 'waterfront' variable, the the null and alternate hypothesis are:\n",
    "- H0: the mean price of waterfront homes is equal with the mean price of no waterfront homes\n",
    "- Ha: the mean price of waterfront homes is different than the mean price of no waterfront homes\n",
    "\n",
    "Based on the groups, are created stratified samples, then selected equal number of samples from each strata. Each strata has the\n",
    "same number of samples to avoid biased inferences."
   ]
  },
  {
   "cell_type": "markdown",
   "metadata": {},
   "source": [
    "#### Create stratified samples and test significance for 'waterfront'"
   ]
  },
  {
   "cell_type": "markdown",
   "metadata": {},
   "source": [
    "Below it is defined a function that calculates a number of summary statistics and prints them for the test."
   ]
  },
  {
   "cell_type": "code",
   "execution_count": 39,
   "metadata": {},
   "outputs": [],
   "source": [
    "# Define a function to do a formal test to see if the differences in means between two populations are significant\n",
    "\n",
    "def t_test(a, b, alpha, alternative='two-sided'):\n",
    "    from scipy import stats\n",
    "    import scipy.stats as ss\n",
    "    import pandas as pd\n",
    "    import statsmodels.stats.weightstats as ws\n",
    "    \n",
    "    diff = a.mean() - b.mean()                   # calculate the difference in means\n",
    "\n",
    "    res = ss.ttest_ind(a, b, equal_var=False)\n",
    "    \n",
    "    # Get the means by doing CompareMeans of ws for a and b, then we compute the confidence intervals of the difference\n",
    "    # We do not make any asumption about the variance being identical of the two samples\n",
    "    means = ws.CompareMeans(ws.DescrStatsW(a), ws.DescrStatsW(b))\n",
    "    confint = means.tconfint_diff(alpha=alpha, alternative=alternative, usevar='unequal')       \n",
    "    degfree = means.dof_satt()                              # we compute the degrees of freedom from the means                 \n",
    "\n",
    "    index = ['DegFreedom', 'Difference', 'Statistic', 'PValue', 'Low95CI', 'High95CI']         # parameters that we want\n",
    "    return pd.Series([degfree, diff, res[0], res[1], confint[0], confint[1]], index = index)   # create a Pandas series"
   ]
  },
  {
   "cell_type": "code",
   "execution_count": 40,
   "metadata": {},
   "outputs": [
    {
     "data": {
      "text/html": [
       "<div>\n",
       "<style scoped>\n",
       "    .dataframe tbody tr th:only-of-type {\n",
       "        vertical-align: middle;\n",
       "    }\n",
       "\n",
       "    .dataframe tbody tr th {\n",
       "        vertical-align: top;\n",
       "    }\n",
       "\n",
       "    .dataframe thead th {\n",
       "        text-align: right;\n",
       "    }\n",
       "</style>\n",
       "<table border=\"1\" class=\"dataframe\">\n",
       "  <thead>\n",
       "    <tr style=\"text-align: right;\">\n",
       "      <th></th>\n",
       "      <th>count</th>\n",
       "      <th>mean</th>\n",
       "    </tr>\n",
       "    <tr>\n",
       "      <th>waterfront</th>\n",
       "      <th></th>\n",
       "      <th></th>\n",
       "    </tr>\n",
       "  </thead>\n",
       "  <tbody>\n",
       "    <tr>\n",
       "      <th>No</th>\n",
       "      <td>21450</td>\n",
       "      <td>13.039801</td>\n",
       "    </tr>\n",
       "    <tr>\n",
       "      <th>Yes</th>\n",
       "      <td>163</td>\n",
       "      <td>14.102618</td>\n",
       "    </tr>\n",
       "  </tbody>\n",
       "</table>\n",
       "</div>"
      ],
      "text/plain": [
       "            count       mean\n",
       "waterfront                  \n",
       "No          21450  13.039801\n",
       "Yes           163  14.102618"
      ]
     },
     "execution_count": 40,
     "metadata": {},
     "output_type": "execute_result"
    }
   ],
   "source": [
    "# Define a function to create a dataframe, groupby on the original raw dataframe and group by group and return the dataframe\n",
    "# with the count\n",
    "def count_mean(df):\n",
    "    \"\"\"Group data and create a dataframe with the counts and the means of the groups\"\"\"\n",
    "    # Create the groups\n",
    "    groups = df.groupby('waterfront') \n",
    "    ## Create a data frame with the counts and the means of the groups\n",
    "    return pd.DataFrame({'count': groups.size(), 'mean': groups.aggregate(np.mean).loc[:, 'log_price']})\n",
    "\n",
    "count_mean(house_price)"
   ]
  },
  {
   "cell_type": "code",
   "execution_count": 41,
   "metadata": {},
   "outputs": [],
   "source": [
    "# Take a small sample, but we want it balanced between the strata\n",
    "p = 0.001     \n",
    "\n",
    "# Define a function to create stratified samples\n",
    "def stratify(dat, p):\n",
    "    \"\"\"Create stratified samples\"\"\"\n",
    "    groups = dat.groupby('waterfront')        # Create the groups\n",
    "    nums = min(groups.size())                # Find the size of the smallest group\n",
    "    num = int(p * dat.shape[0])              # Compute the desired number of samples per group - based on probability p\n",
    "    if num <= nums:                          # Test if the desired number of samples is less than the smallest group \n",
    "        return groups.apply(lambda x: x.sample(n=num))  # If sufficient group size, sample n = num samples from each strata\n",
    "    else:                                    # else if p is too large, print a message\n",
    "        pmax = nums / dat.shape[0]\n",
    "        print('The maximum value of p = ' + str(pmax)) "
   ]
  },
  {
   "cell_type": "code",
   "execution_count": 42,
   "metadata": {},
   "outputs": [],
   "source": [
    "# Create a dataframe which is a stratified sample of the original dataframe\n",
    "stratified = stratify(house_price, p)"
   ]
  },
  {
   "cell_type": "code",
   "execution_count": 43,
   "metadata": {},
   "outputs": [
    {
     "data": {
      "text/html": [
       "<div>\n",
       "<style scoped>\n",
       "    .dataframe tbody tr th:only-of-type {\n",
       "        vertical-align: middle;\n",
       "    }\n",
       "\n",
       "    .dataframe tbody tr th {\n",
       "        vertical-align: top;\n",
       "    }\n",
       "\n",
       "    .dataframe thead th {\n",
       "        text-align: right;\n",
       "    }\n",
       "</style>\n",
       "<table border=\"1\" class=\"dataframe\">\n",
       "  <thead>\n",
       "    <tr style=\"text-align: right;\">\n",
       "      <th></th>\n",
       "      <th>count</th>\n",
       "      <th>mean</th>\n",
       "    </tr>\n",
       "    <tr>\n",
       "      <th>waterfront</th>\n",
       "      <th></th>\n",
       "      <th></th>\n",
       "    </tr>\n",
       "  </thead>\n",
       "  <tbody>\n",
       "    <tr>\n",
       "      <th>No</th>\n",
       "      <td>21</td>\n",
       "      <td>12.892924</td>\n",
       "    </tr>\n",
       "    <tr>\n",
       "      <th>Yes</th>\n",
       "      <td>21</td>\n",
       "      <td>14.120645</td>\n",
       "    </tr>\n",
       "  </tbody>\n",
       "</table>\n",
       "</div>"
      ],
      "text/plain": [
       "            count       mean\n",
       "waterfront                  \n",
       "No             21  12.892924\n",
       "Yes            21  14.120645"
      ]
     },
     "execution_count": 43,
     "metadata": {},
     "output_type": "execute_result"
    }
   ],
   "source": [
    "# Display the stratified sample \n",
    "stratified.reset_index(inplace=True, drop=True)  \n",
    "count_mean(stratified)"
   ]
  },
  {
   "cell_type": "code",
   "execution_count": 44,
   "metadata": {},
   "outputs": [
    {
     "name": "stdout",
     "output_type": "stream",
     "text": [
      "DegFreedom    35.199297\n",
      "Difference     1.227720\n",
      "Statistic      5.804032\n",
      "PValue         0.000001\n",
      "Low95CI        0.798381\n",
      "High95CI       1.657060\n",
      "dtype: float64\n"
     ]
    }
   ],
   "source": [
    "# Run the t-test for column waterfront\n",
    "# Check if waterfront and no waterfront categories are significantly different\n",
    "\n",
    "# Create two Pandas Series for waterfront and no waterfront categories \n",
    "waterfront = stratified.loc[stratified.loc[:, 'waterfront'] == 'Yes', 'log_price']      \n",
    "nowaterfront = stratified.loc[stratified.loc[:, 'waterfront'] == 'No', 'log_price'] \n",
    "\n",
    "test_waterfront = t_test(waterfront, nowaterfront, alpha = 0.05)\n",
    "print(test_waterfront)"
   ]
  },
  {
   "cell_type": "markdown",
   "metadata": {},
   "source": [
    "The t-statistic is large, the p-value is very small and the lower and upper confidence intervals do not include zero. There is\n",
    "a high confidence that the null hypothesis can be rejected. So the average price of houses stratified by waterfront and no \n",
    "waterfront categories is statistically significant different."
   ]
  },
  {
   "cell_type": "markdown",
   "metadata": {},
   "source": [
    "#### Apply ANOVA and Tukey's HSD test to compare the log price of houses stratified by 'bedrooms'"
   ]
  },
  {
   "cell_type": "code",
   "execution_count": 45,
   "metadata": {},
   "outputs": [
    {
     "data": {
      "text/plain": [
       "(0.0, 8000000.0)"
      ]
     },
     "execution_count": 45,
     "metadata": {},
     "output_type": "execute_result"
    },
    {
     "data": {
      "image/png": "[encoded data removed]",
      "text/plain": [
       "<Figure size 432x432 with 1 Axes>"
      ]
     },
     "metadata": {},
     "output_type": "display_data"
    }
   ],
   "source": [
    "# Box plot of price grouped by bedrooms\n",
    "\n",
    "fig = plt.figure(figsize=(6, 6))              # Define plot area\n",
    "ax = fig.gca()                                # Define axis \n",
    "house_price.loc[:,['price', 'bedrooms']].boxplot(by = 'bedrooms', ax = ax)\n",
    "ax.set_title('Box plot of price')             # Give the plot a main title\n",
    "ax.set_ylabel('Price')                    # Set text for y axis\n",
    "ax.set_ylim(0.0, 8000000.0)                   # Set the limits of the y axis"
   ]
  },
  {
   "cell_type": "markdown",
   "metadata": {},
   "source": [
    "The box plot of price vs bedrooms shows a very small variation between the distributions and the medians of the four groups. The\n",
    "median house price for 5 bedrooms is the highest compared with 2, 3 and 4 bedrooms. The median price for 4 bedrooms is very \n",
    "close to median price for 2 bedrooms. To find out if the differences observed graphically are indeed significant are applied \n",
    "ANOVA and Tukey HSD tests. So, the null and alternate hypothesis could be formulated as:\n",
    "\n",
    "H0: all four groups have the same mean <br>\n",
    "Ha: at least one group has a statistically different mean"
   ]
  },
  {
   "cell_type": "markdown",
   "metadata": {},
   "source": [
    "Next are created stratified samples for bedrooms variable. The stratified samples will be used for ANOVA and Tukey HSD tests."
   ]
  },
  {
   "cell_type": "code",
   "execution_count": 65,
   "metadata": {},
   "outputs": [
    {
     "data": {
      "text/html": [
       "<div>\n",
       "<style scoped>\n",
       "    .dataframe tbody tr th:only-of-type {\n",
       "        vertical-align: middle;\n",
       "    }\n",
       "\n",
       "    .dataframe tbody tr th {\n",
       "        vertical-align: top;\n",
       "    }\n",
       "\n",
       "    .dataframe thead th {\n",
       "        text-align: right;\n",
       "    }\n",
       "</style>\n",
       "<table border=\"1\" class=\"dataframe\">\n",
       "  <thead>\n",
       "    <tr style=\"text-align: right;\">\n",
       "      <th></th>\n",
       "      <th>count</th>\n",
       "      <th>mean</th>\n",
       "    </tr>\n",
       "    <tr>\n",
       "      <th>bedrooms</th>\n",
       "      <th></th>\n",
       "      <th></th>\n",
       "    </tr>\n",
       "  </thead>\n",
       "  <tbody>\n",
       "    <tr>\n",
       "      <th>2</th>\n",
       "      <td>2760</td>\n",
       "      <td>12.799338</td>\n",
       "    </tr>\n",
       "    <tr>\n",
       "      <th>3</th>\n",
       "      <td>10370</td>\n",
       "      <td>12.945279</td>\n",
       "    </tr>\n",
       "    <tr>\n",
       "      <th>4</th>\n",
       "      <td>6882</td>\n",
       "      <td>13.222538</td>\n",
       "    </tr>\n",
       "    <tr>\n",
       "      <th>5</th>\n",
       "      <td>1601</td>\n",
       "      <td>13.389285</td>\n",
       "    </tr>\n",
       "  </tbody>\n",
       "</table>\n",
       "</div>"
      ],
      "text/plain": [
       "          count       mean\n",
       "bedrooms                  \n",
       "2          2760  12.799338\n",
       "3         10370  12.945279\n",
       "4          6882  13.222538\n",
       "5          1601  13.389285"
      ]
     },
     "execution_count": 65,
     "metadata": {},
     "output_type": "execute_result"
    }
   ],
   "source": [
    "# Check the count and mean for each group in body-style\n",
    "def count_mean(df):\n",
    "    \"\"\"Group data and create a dataframe with the counts and the means of the groups\"\"\"\n",
    "    # Create the groups\n",
    "    groups = df.groupby('bedrooms') \n",
    "    ## Create a data frame with the counts and the means of the groups\n",
    "    return pd.DataFrame({'count': groups.size(), 'mean': groups.aggregate(np.mean).loc[:, 'log_price']})\n",
    "\n",
    "count_mean(house_price)"
   ]
  },
  {
   "cell_type": "code",
   "execution_count": 66,
   "metadata": {},
   "outputs": [],
   "source": [
    "# Take a small sample and use stratify function to calculate strata\n",
    "p = 0.002                                     \n",
    "def stratify(dat, p):\n",
    "    groups = dat.groupby('bedrooms')      # Create the groups\n",
    "    nums = min(groups.size())                # Find the size of the smallest group\n",
    "    num = int(p * dat.shape[0])              # Compute the desired number of samples per group - based on probability\n",
    "    if num <= nums:                          # If sufficient group size, sample each group and return. \n",
    "        return groups.apply(lambda x: x.sample(n=num))  # we create a lambda function which is an anonymous function\n",
    "    else:                                    # p is too large\n",
    "        pmax = nums / dat.shape[0]\n",
    "        print('The maximum value of p = ' + str(pmax)) "
   ]
  },
  {
   "cell_type": "code",
   "execution_count": 67,
   "metadata": {},
   "outputs": [
    {
     "data": {
      "text/html": [
       "<div>\n",
       "<style scoped>\n",
       "    .dataframe tbody tr th:only-of-type {\n",
       "        vertical-align: middle;\n",
       "    }\n",
       "\n",
       "    .dataframe tbody tr th {\n",
       "        vertical-align: top;\n",
       "    }\n",
       "\n",
       "    .dataframe thead th {\n",
       "        text-align: right;\n",
       "    }\n",
       "</style>\n",
       "<table border=\"1\" class=\"dataframe\">\n",
       "  <thead>\n",
       "    <tr style=\"text-align: right;\">\n",
       "      <th></th>\n",
       "      <th>count</th>\n",
       "      <th>mean</th>\n",
       "    </tr>\n",
       "    <tr>\n",
       "      <th>bedrooms</th>\n",
       "      <th></th>\n",
       "      <th></th>\n",
       "    </tr>\n",
       "  </thead>\n",
       "  <tbody>\n",
       "    <tr>\n",
       "      <th>2</th>\n",
       "      <td>43</td>\n",
       "      <td>12.886582</td>\n",
       "    </tr>\n",
       "    <tr>\n",
       "      <th>3</th>\n",
       "      <td>43</td>\n",
       "      <td>13.022711</td>\n",
       "    </tr>\n",
       "    <tr>\n",
       "      <th>4</th>\n",
       "      <td>43</td>\n",
       "      <td>13.152048</td>\n",
       "    </tr>\n",
       "    <tr>\n",
       "      <th>5</th>\n",
       "      <td>43</td>\n",
       "      <td>13.335866</td>\n",
       "    </tr>\n",
       "  </tbody>\n",
       "</table>\n",
       "</div>"
      ],
      "text/plain": [
       "          count       mean\n",
       "bedrooms                  \n",
       "2            43  12.886582\n",
       "3            43  13.022711\n",
       "4            43  13.152048\n",
       "5            43  13.335866"
      ]
     },
     "execution_count": 67,
     "metadata": {},
     "output_type": "execute_result"
    }
   ],
   "source": [
    "# Create the stratified sample\n",
    "stratified = stratify(house_price, p)\n",
    "# Display the stratified sample \n",
    "stratified.reset_index(inplace=True, drop=True)\n",
    "count_mean(stratified)"
   ]
  },
  {
   "cell_type": "code",
   "execution_count": 68,
   "metadata": {},
   "outputs": [],
   "source": [
    "# Create lists from the body style categories using the stratified dataframe\n",
    "\n",
    "twoB = stratified.loc[stratified.loc[:, 'bedrooms'] == 2, 'log_price'].tolist()                        \n",
    "threeB = stratified.loc[stratified.loc[:, 'bedrooms'] == 3, 'log_price'].tolist()                \n",
    "fourB = stratified.loc[stratified.loc[:, 'bedrooms'] == 4, 'log_price'].tolist()                        \n",
    "fiveB = stratified.loc[stratified.loc[:, 'bedrooms'] == 5, 'log_price'].tolist()  "
   ]
  },
  {
   "cell_type": "markdown",
   "metadata": {},
   "source": [
    "#### Apply ANOVA test"
   ]
  },
  {
   "cell_type": "markdown",
   "metadata": {},
   "source": [
    "The code in the cell below models the ANOVA of the values by groups in bedrooms and prints the results of the model."
   ]
  },
  {
   "cell_type": "code",
   "execution_count": 69,
   "metadata": {},
   "outputs": [
    {
     "name": "stdout",
     "output_type": "stream",
     "text": [
      "F statistic = 5.45415687567531\n",
      "P-value = 0.0013313671519160966\n"
     ]
    }
   ],
   "source": [
    "# Apply ANOVA test\n",
    "f_statistic, p_value = ss.f_oneway(twoB, threeB, fourB, fiveB)\n",
    "print('F statistic = ' + str(f_statistic))\n",
    "print('P-value = ' + str(p_value))"
   ]
  },
  {
   "cell_type": "markdown",
   "metadata": {},
   "source": [
    "The F statistic is fairly large and the p-value is very small. We can reject the null hypothesis that the four groups have the \n",
    "same mean, as the probability of the differences arising from random chance is quite low.\n",
    "From the above ANOVA results we know that there is some difference in the means of these variables, but we do not know which \n",
    "variable is significantly different. From the box plot, we could guess that group corresponding to 5 bedrooms is different, but \n",
    "this needs to be checked using the Tukey HDE test.\n",
    "\n",
    "The Tukey HDE test exhaustively computes the following for each pair of groups: difference of the means; confidence interval \n",
    "of the difference in the means; a p-value from the distribution of the differences. The results are displayed in a table. Only\n",
    "differences in means with a confidence interval not overlapping zero are considered significant."
   ]
  },
  {
   "cell_type": "markdown",
   "metadata": {},
   "source": [
    "#### Apply Tukey HSD test"
   ]
  },
  {
   "cell_type": "code",
   "execution_count": 70,
   "metadata": {},
   "outputs": [
    {
     "name": "stdout",
     "output_type": "stream",
     "text": [
      "   Multiple Comparison of Means - Tukey HSD, FWER=0.05    \n",
      "==========================================================\n",
      "  group1    group2  meandiff p-adj   lower   upper  reject\n",
      "----------------------------------------------------------\n",
      " five_bed  four_bed  -0.1838 0.3903 -0.4845  0.1169  False\n",
      " five_bed three_bed  -0.3132 0.0377 -0.6139 -0.0124   True\n",
      " five_bed   two_bed  -0.4493  0.001   -0.75 -0.1486   True\n",
      " four_bed three_bed  -0.1293 0.6596 -0.4301  0.1714  False\n",
      " four_bed   two_bed  -0.2655 0.1043 -0.5662  0.0353  False\n",
      "three_bed   two_bed  -0.1361 0.6269 -0.4368  0.1646  False\n",
      "----------------------------------------------------------\n"
     ]
    }
   ],
   "source": [
    "from statsmodels.stats.multicomp import pairwise_tukeyhsd\n",
    "\n",
    "# Create a dataframe with values from the lists\n",
    "df = pd.DataFrame({'vals': twoB + threeB + fourB + fiveB,\n",
    "                   'group_num': ['two_bed'] * 43 + ['three_bed'] * 43 + ['four_bed'] * 43 + ['five_bed'] * 43})\n",
    "Tukey_HSD = pairwise_tukeyhsd(df.vals, df.group_num)\n",
    "#Display the results in a table\n",
    "print(Tukey_HSD)"
   ]
  },
  {
   "cell_type": "markdown",
   "metadata": {},
   "source": [
    "The last column in the table displays the results of which pair has significant difference for the confidence interval. The \n",
    "pairs are five-bed/two-bed and five_bed/three-bed.\n",
    "\n",
    "Using the 'plot_simultaneous' method it is created a plot of the test results."
   ]
  },
  {
   "cell_type": "code",
   "execution_count": 71,
   "metadata": {},
   "outputs": [
    {
     "data": {
      "image/png": "[encoded data removed]",
      "text/plain": [
       "<Figure size 720x432 with 1 Axes>"
      ]
     },
     "execution_count": 71,
     "metadata": {},
     "output_type": "execute_result"
    },
    {
     "data": {
      "image/png": "[encoded data removed]",
      "text/plain": [
       "<Figure size 720x432 with 1 Axes>"
      ]
     },
     "metadata": {},
     "output_type": "display_data"
    }
   ],
   "source": [
    "# Create plots of the test results\n",
    "Tukey_HSD.plot_simultaneous()"
   ]
  },
  {
   "cell_type": "markdown",
   "metadata": {},
   "source": [
    "Each variable is represented as a line with a dot: the dot is the mean and the line shows the range of the confidence interval\n",
    "for that mean. The confidence intervals do not overlap if the difference in means is significant at the confidence level. It\n",
    "seems that the pairs that have a significant difference are: five-bed/two-bed and five-bed/three-bed. Also, four-bed/two-bed\n",
    "have a small overlap.\n",
    "\n",
    "From the graphical and formal tests it can be concluded that the five bedrooms category appears to have values distinct \n",
    "from the two and three bedrooms houses, and four bedrooms distinct of two bedroom homes. "
   ]
  },
  {
   "cell_type": "markdown",
   "metadata": {},
   "source": [
    "### 4b. Bootstrap methods to find differences in pairs"
   ]
  },
  {
   "cell_type": "markdown",
   "metadata": {},
   "source": [
    "To find differences in pairs for one variable are computed and compared two bootstrap distributions of the means from the \n",
    "log price data (bootstrap the means). To bootstrap the difference in means are generated bootstrap samples from the full\n",
    "dataset and then computed the difference in the means for each sample, generating a distribution of sample mean 'diffs'.\n",
    "<br>\n",
    "\n",
    "It is first bootstrapped the means for the groups and then bootstrapped the difference in means trying to \n",
    "determine if the mean of the two populations are significantly different.\n",
    "\n",
    "Below we will try to find the difference in means for house prices by waterfront. The waterfront variable has two categories\n",
    "corresponding to waterfront houses (1) and houses with no waterfront (0). Below are replaced the codes with \"Yes\" and\n",
    "\"No\" for easier identification."
   ]
  },
  {
   "cell_type": "code",
   "execution_count": 53,
   "metadata": {},
   "outputs": [],
   "source": [
    "# Create two dataframes for waterfront and no waterfront categories  \n",
    "waterfront = house_price[house_price['waterfront'] == 'Yes'] \n",
    "nowaterfront = house_price[house_price['waterfront'] == 'No'] "
   ]
  },
  {
   "cell_type": "code",
   "execution_count": 54,
   "metadata": {},
   "outputs": [
    {
     "data": {
      "text/plain": [
       "(14.102617634435386, 13.039801415201271)"
      ]
     },
     "execution_count": 54,
     "metadata": {},
     "output_type": "execute_result"
    }
   ],
   "source": [
    "# Check the means for log price\n",
    "waterfront['log_price'].mean(), nowaterfront['log_price'].mean()"
   ]
  },
  {
   "cell_type": "code",
   "execution_count": 55,
   "metadata": {},
   "outputs": [],
   "source": [
    "# Define function to plot the distributions for groups \n",
    "def plot_dists(a, b, nbins, a_label='pop_A', b_label='pop_B'):\n",
    "    # Create a single sequence of bins to be shared across both\n",
    "    # distribution plots for visualization consistency.\n",
    "    combined = pd.concat([a, b])\n",
    "    breaks = np.linspace(\n",
    "        combined.min(), \n",
    "        combined.max(), \n",
    "        num=nbins+1)\n",
    "\n",
    "    pyplot.subplot(2, 1, 1)\n",
    "    pyplot.hist(a, bins=breaks, label=a_label, alpha=.5)\n",
    "    pyplot.axvline(a.mean(), linewidth=4)\n",
    "    pyplot.legend()\n",
    "    \n",
    "    pyplot.subplot(2, 1, 2)\n",
    "    pyplot.hist(b, bins=breaks, label=b_label, alpha=.5)\n",
    "    pyplot.axvline(b.mean(), linewidth=4)\n",
    "    pyplot.legend()"
   ]
  },
  {
   "cell_type": "code",
   "execution_count": null,
   "metadata": {},
   "outputs": [],
   "source": [
    "# Plot the histograms for waterfront and no waterfront and mark the mean\n",
    "#plot_dists(yes['log_price'], no['log_price'], 20, a_label='yes', b_label='no')"
   ]
  },
  {
   "cell_type": "markdown",
   "metadata": {},
   "source": [
    "The two distributions of waterfront houses and no waterfront houses, overlap. We would like to know if the means are \n",
    "significantly different. For this it will be applied hypothesis testing.\n",
    "<br>\n",
    "\n",
    "It will be taken n_replicas of bootstrap samples for houses with/without waterfront and plot the distribution of sample means\n",
    "as well as the mean of the sample means. Then we can check both distributions, which are on the same scale to make statistical\n",
    "inferences:\n",
    "- If there is a big area of overlap we have to accept with 95% confidence the null hypothesis. The means are not significantly\n",
    "different.\n",
    "- If the distributions do not overlap, we can reject the null hypothesis. The means are significantly different. "
   ]
  },
  {
   "cell_type": "code",
   "execution_count": 56,
   "metadata": {},
   "outputs": [],
   "source": [
    "# Take n_replicas and bootstrap the sample means\n",
    "\n",
    "n_replicas = 10000                                              # number of bootstrap replicas\n",
    "\n",
    "waterfront_bootstrap_means = pd.Series([                               # bootstrap sample waterfront means\n",
    "    waterfront.sample(frac=1, replace=True).log_price.mean()\n",
    "    for i in range(n_replicas)])\n",
    "\n",
    "nowaterfront_bootstrap_means = pd.Series([                               # bootstrap sample nowaterfront means\n",
    "        nowaterfront.sample(frac=1, replace=True).log_price.mean()\n",
    "        for i in range(n_replicas)])\n",
    "\n",
    "#plot_dists(yes_bootstrap_means, no_bootstrap_means,            # plot the distribution of sample means\n",
    "#           nbins=80, a_label='Yes', b_label='No')"
   ]
  },
  {
   "cell_type": "markdown",
   "metadata": {},
   "source": [
    "The distributions do not overlap, in fact there is a big gap between them so we can reject the null hypothesis that the \n",
    "difference is not significant. <br> We can say with 95% confidence that there is a significant statistical difference in \n",
    "price means between the waterfront houses and prices of no waterfront houses."
   ]
  },
  {
   "cell_type": "markdown",
   "metadata": {},
   "source": [
    "Next, it is bootstrapped the difference in price means for waterfront and no waterfront houses. With this, we try to determine\n",
    "if the price mean of waterfront and no waterfront populations are significantly different. <br>\n",
    "In the cell below, are generated bootstrap samples from the full waterfront and no waterfront houses dataset and then \n",
    "difference in the means of their log price for each sample, generating a distribution of sample mean 'diffs'."
   ]
  },
  {
   "cell_type": "code",
   "execution_count": 57,
   "metadata": {},
   "outputs": [],
   "source": [
    "# Bootstrap difference in means\n",
    "diffs = []                                 # create an empty list\n",
    "for i in range(n_replicas):                # 10000 realizations of the difference in means from 10000 bootstrap samples\n",
    "    sample = house_price.sample(frac=1.0, replace=True)                                    # we sample with replacement\n",
    "    waterfront_sample_mean = sample[sample['waterfront'] == 'Yes'].log_price.mean()         # compute the means\n",
    "    nowaterfront_sample_mean = sample[sample['waterfront'] == 'No'].log_price.mean()\n",
    "    diffs.append(waterfront_sample_mean - nowaterfront_sample_mean)                # compute the difference, put them in list\n",
    "diffs = pd.Series(diffs) "
   ]
  },
  {
   "cell_type": "code",
   "execution_count": 58,
   "metadata": {},
   "outputs": [
    {
     "data": {
      "text/plain": [
       "<matplotlib.lines.Line2D at 0x1cc7c2cbe88>"
      ]
     },
     "execution_count": 58,
     "metadata": {},
     "output_type": "execute_result"
    },
    {
     "data": {
      "image/png": "[encoded data removed]",
      "text/plain": [
       "<Figure size 432x288 with 1 Axes>"
      ]
     },
     "metadata": {},
     "output_type": "display_data"
    }
   ],
   "source": [
    "# Plot the histogram of diffs\n",
    "pyplot.hist(diffs, alpha=.5)\n",
    "pyplot.axvline(diffs.mean())"
   ]
  },
  {
   "cell_type": "markdown",
   "metadata": {},
   "source": [
    "It can be observed that the difference is ~ 1.05-1.06 and it is far from zero. It can be infered that the difference in mean\n",
    "prices of the two populations, waterfront and no waterfront houses, is significantly different."
   ]
  },
  {
   "cell_type": "markdown",
   "metadata": {},
   "source": [
    "Next, we want to find out if the distribution of the difference in means is normal, as implied by the CLT (Central Limit \n",
    "Theorem). For this it is created a Q-Q normal plot of the bootstrap distribution of the difference in means for waterfront\n",
    "and no waterfront houses."
   ]
  },
  {
   "cell_type": "code",
   "execution_count": null,
   "metadata": {},
   "outputs": [],
   "source": [
    "# Plot a Q-Q plot to verify if the bootstrapped distribution is Normal\n",
    "#import statsmodels.api as sm\n",
    "\n",
    "#fig = sm.qqplot(diffs, line='s')\n",
    "#pyplot.title('Quantiles of standard Normal vs. bootstrapped mean')"
   ]
  },
  {
   "cell_type": "markdown",
   "metadata": {},
   "source": [
    "The points on the Q-Q Normal plot are nearly on a strait line following the diagonal. It can be concluded that the bootstrap\n",
    "distribution of the difference in means for waterfront and no waterfront houses conforms to the Central Limit Theorem."
   ]
  },
  {
   "cell_type": "markdown",
   "metadata": {},
   "source": [
    "Similar analysis, by  bootstrap the means and bootstrap the difference in means was done for bedrooms variable. There are four\n",
    "categories in bedrooms variable: 2, 3, 4 and 5.\n",
    "Below are presented the conclusions after applying the bootstrapping methods:\n",
    "<br>\n",
    "__bedrooms__: \n",
    "- The distributions between houses with 3 bedrooms (highest frequency) and house with 2, 4, or 5 bedrooms do not overlap; in\n",
    "fact there is a gap between them. We can reject the null hypothesis that the difference is not significant. We can say with\n",
    "95% confidence that there is a significant statistical difference in means between each of these groups.\n",
    "- The distributions of the sample means show that the means of the populations are significantly different between \n",
    "5 bedrooms and houses with 2 and 3 bedrooms.  "
   ]
  },
  {
   "cell_type": "markdown",
   "metadata": {},
   "source": [
    "### 4c. Bayesian model to find differences in pairs"
   ]
  },
  {
   "cell_type": "markdown",
   "metadata": {},
   "source": [
    "Another method to find if the difference in means for pairs is significant, is using Bayesian models. Hypothesis testing using \n",
    "Bayesian models is done based on the credible intervals on the posterior distribution.\n",
    "If the credible intervals overlap, then we accept the null hypothesis. If the credible intervals do not overlapp, we \n",
    "reject the null hypothesis with 95% confidence, that the two samples were drawn from the same population distribution."
   ]
  },
  {
   "cell_type": "markdown",
   "metadata": {},
   "source": [
    "Below it is presented the Bayesian model for log price by waterfront. First are sampled without replacements 25 samples from \n",
    "each group, waterfront and no waterfront houses. Then, for each group it is calculated the prior, computed the likelihood (it \n",
    "is used a Normal likelihood) and the posterior. Then are plotted the prior, likelihood and the posterior distributions.\n",
    "<br>\n",
    "To compare the posterior distributions of the mean waterfront houses to the distribution of the mean no waterfront, we compute\n",
    "and compare the confidence intervals. "
   ]
  },
  {
   "cell_type": "code",
   "execution_count": 59,
   "metadata": {},
   "outputs": [],
   "source": [
    "# We sample without replacements 25 samples from each group\n",
    "num_samples = 25    \n",
    "waterfront = house_price[house_price['waterfront'] == 'Yes'].sample(n=num_samples)\n",
    "nowaterfront = house_price[house_price['waterfront'] == 'No'].sample(n=num_samples)"
   ]
  },
  {
   "cell_type": "code",
   "execution_count": null,
   "metadata": {},
   "outputs": [],
   "source": [
    "# Compute the posterior distribution for waterfront category"
   ]
  },
  {
   "cell_type": "code",
   "execution_count": 60,
   "metadata": {},
   "outputs": [],
   "source": [
    "# Calculate the prior for waterfront category\n",
    "N = 1000\n",
    "p = np.linspace(min(waterfront['log_price']), max(waterfront['log_price']), num=N)\n",
    "\n",
    "# We estimate the posterior distribution of the mean and of the standard distribution\n",
    "pp = scipy.stats.norm.pdf(p, loc=waterfront['log_price'].mean(), scale=np.std(waterfront['log_price']))\n",
    "pp = pp / pp.sum()"
   ]
  },
  {
   "cell_type": "code",
   "execution_count": 61,
   "metadata": {},
   "outputs": [
    {
     "name": "stdout",
     "output_type": "stream",
     "text": [
      "Mean = 14.017, Standard deviation = 0.654\n"
     ]
    }
   ],
   "source": [
    "like_waterfront = comp_like(p, waterfront['log_price'])           # compute the likelihood\n",
    "post_waterfront = posterior(pp, like_waterfront)                  # compute the posterior"
   ]
  },
  {
   "cell_type": "code",
   "execution_count": 62,
   "metadata": {},
   "outputs": [
    {
     "data": {
      "text/plain": [
       "<matplotlib.legend.Legend at 0x1cc7c1c0188>"
      ]
     },
     "execution_count": 62,
     "metadata": {},
     "output_type": "execute_result"
    },
    {
     "data": {
      "image/png": "[encoded data removed]",
      "text/plain": [
       "<Figure size 432x288 with 1 Axes>"
      ]
     },
     "metadata": {},
     "output_type": "display_data"
    }
   ],
   "source": [
    "# Plot the prior, likelihood and posterior\n",
    "pyplot.plot(p, pp, label='prior')\n",
    "pyplot.plot(p, like_waterfront, label='likelihood', alpha=.3, linewidth=10)\n",
    "pyplot.plot(p, post_waterfront, label='posterior')\n",
    "pyplot.title('Prior, Likelihood and Posterior')\n",
    "pyplot.legend()"
   ]
  },
  {
   "cell_type": "markdown",
   "metadata": {},
   "source": [
    "It can be observed that the posterior and likelihood have the same distribution. The mean of posterior is ~ 14.2-14.3."
   ]
  },
  {
   "cell_type": "code",
   "execution_count": 63,
   "metadata": {},
   "outputs": [],
   "source": [
    "# Define function to plot the posterior distribution. Calculate and display the 95% credible interval (HDI) \n",
    "\n",
    "def plot_ci(p, post, num_samples, lower_q, upper_q):\n",
    "    # This function computes a credible interval using an assumption of symetry\n",
    "    # in the bulk of the distribution to keep the calculation simple\n",
    "    \n",
    "    # Compute a large sample by resampling with replacement\n",
    "    samples = np.random.choice(p, size=num_samples, replace=True, p=post)\n",
    "    ci = np.percentile(samples, [lower_q*100, upper_q*100]) # compute the quantiles\n",
    "    \n",
    "    interval = upper_q - lower_q\n",
    "    pyplot.title('Posterior density with %.3f credible interval' % interval)\n",
    "    pyplot.plot(p, post, color='blue')\n",
    "    pyplot.xlabel('Parameter value')\n",
    "    pyplot.ylabel('Density')\n",
    "    pyplot.axvline(x=ci[0], color='red')\n",
    "    pyplot.axvline(x=ci[1], color='red')\n",
    "    print('The %.3f credible interval is %.3f to %.3f' \n",
    "          % (interval, ci[0], ci[1]))   "
   ]
  },
  {
   "cell_type": "code",
   "execution_count": 64,
   "metadata": {},
   "outputs": [
    {
     "name": "stdout",
     "output_type": "stream",
     "text": [
      "The 0.950 credible interval is 13.765 to 14.268\n"
     ]
    },
    {
     "data": {
      "image/png": "[encoded data removed]",
      "text/plain": [
       "<Figure size 432x288 with 1 Axes>"
      ]
     },
     "metadata": {},
     "output_type": "display_data"
    }
   ],
   "source": [
    "# Compute and plot the confidence interval for the mean rwd drive-wheels\n",
    "num_samples = 100000\n",
    "plot_ci(p, post_waterfront, num_samples, lower_q=.025, upper_q=.975)"
   ]
  },
  {
   "cell_type": "markdown",
   "metadata": {},
   "source": [
    "It can be observed the credible interval between ~ 13.9 to 14.3 marked with red lines on the plot. "
   ]
  },
  {
   "cell_type": "code",
   "execution_count": null,
   "metadata": {},
   "outputs": [],
   "source": [
    "# Calculate the posterior distribution and credible interval for no waterfront category\n",
    "\n",
    "# Calculate the prior for fwd \n",
    "#N = 1000\n",
    "#p = np.linspace(min(nowaterfront['log_price']), max(nowaterfront['log_price']), num=N)\n",
    "\n",
    "# We estimate the posterior distribution of the mean and of the standard distribution\n",
    "#pp = scipy.stats.norm.pdf(p, loc=nowaterfront['log_price'].mean(), scale=np.std(nowaterfront['log_price']))\n",
    "#pp = pp / pp.sum()\n",
    "\n",
    "# Compute the likelihood\n",
    "#like_nowaterfront = comp_like(p, nowaterfront['log_price'])    \n",
    "\n",
    "# Compute the posterior\n",
    "#post_nowaterfront = posterior(pp, like_nowaterfront)           \n",
    "\n",
    "# Plot the prior, likelihood and posterior\n",
    "#pyplot.plot(p, pp, label='prior')\n",
    "#pyplot.plot(p, like_nowaterfront, label='likelihood', alpha=.3, linewidth=10)\n",
    "#pyplot.plot(p, post_nowaterfront, label='posterior')\n",
    "#pyplot.title('Prior, Likelihood and Posterior')\n",
    "#pyplot.legend()\n",
    "\n",
    "# Compute and plot the confidence interval for the mean fwd drive-wheels\n",
    "#num_samples = 100000\n",
    "#plot_ci(p, post_nowaterfront, num_samples, lower_q=.025, upper_q=.975)"
   ]
  },
  {
   "cell_type": "markdown",
   "metadata": {},
   "source": [
    "Conclusions:\n",
    "- The CI for waterfront category is ~ 13.8-14.4 and the CI for no waterfront is ~ 12.9-13.3 \n",
    "- There is absolutely no overlapp between the two CI, there is actually a gap between them\n",
    "<br>\n",
    "\n",
    "We can infer with 95% confidence that the prices for waterfront houses are significantly different from the prices of \n",
    "no waterfront houses."
   ]
  },
  {
   "cell_type": "markdown",
   "metadata": {},
   "source": [
    "There were computed and plotted posterior distributions and credible intervals for log price by number of bedrooms. \n",
    "Below are presented the results after applying the Bayesian model and analyzing the plots for all four categories in bedrooms:\n",
    "<br>\n",
    "\n",
    "__bedrooms__<br>\n",
    "The mean and standard deviation values and the 0.950 credible interval values for all four groups in bedrooms are:\n",
    "    - Two bedrooms: Mean = 12.790, Standard deviation = 0.493, CI = 12.599 to 12.977       \n",
    "    - Three bedrooms: Mean = 12.726, Standard deviation = 0.342, CI = 12.594 to 12.857\n",
    "    - Four bedrooms: Mean = 13.071, Standard deviation = 0.499, CI = 12.880 to 13.262\n",
    "    - Five bedrooms: Mean = 13.450, Standard deviation = 0.601, CI = 13.219 to 13.681\n",
    "<br>\n",
    "\n",
    "It can be observed that values for CI show no overlap between 5 bedrooms and 2 and 3 bedrooms, but there is partial overlap\n",
    "between 4 and 2 bedrooms. So we can say that prices for 5 bedrooms are significantly different than prices for 2 and 3 bedrooms.\n",
    "There is a significant difference also betweeen 4 and 2 bedrooms. "
   ]
  },
  {
   "cell_type": "markdown",
   "metadata": {},
   "source": [
    "#### Compare the results to find differences in pairs from classical tests, Bootstrap methods and Bayesian models\n",
    "\n",
    "The results for finding differences in pairs for price by waterfront and price by bedrooms are the similar for all three types\n",
    "of methods used: classical tests (t-test, ANOVA and Tukey HSD), Bootstrap methods and Bayesian models. The results are:\n",
    "- the prices for houses with waterfront view are significanty different than the prices for houses with no waterfront view\n",
    "- the prices for houses with 5 bedrooms are significantly different than the prices for 2 and 3 bedrooms. There is also a \n",
    "significant difference in price betweeen houses with 4 and 2 bedrooms."
   ]
  },
  {
   "cell_type": "markdown",
   "metadata": {},
   "source": [
    "### Conclusions\n",
    "The analysis underlines some key relationships between various features of a house and its sales price. Summarizing the \n",
    "observations drawn from various plots, statistics, and hypothesis testing it can be concluded that the price for a house \n",
    "depends on the following factors:\n",
    "    \n",
    "- __Neighborhood and location__ <br> The analysis indicates that the livable space of the neighborhood homes has a strong \n",
    "influence on a house price. The higher the livable space of neighborhood homes, the higher gets the price for a house. So, the\n",
    "sale prices of similar homes in the neighborhood is one of the best indicators of a home’s value. \n",
    "Another factor that influences the house price is the location. The average price for a house for most of the zipcodes is of \n",
    "500K-600K. Some zipcodes thought have an average price much higher (~2000K) and very high-priced houses. There are a few \n",
    "factors that could increase a home’s value for certain locations like proximity to good schools, highways, public transit \n",
    "or shopping centers.\n",
    "\n",
    "- __Home size, usable space, number of bedrooms and bathrooms__ <br> These are all very important factors in determining a \n",
    "home’s value. Livable space is directly related to a home’s sales price. A bigger home can have higher sales prices. In \n",
    "addition to square footage, a home’s usable space (excluding spaces like garages or attics) matters when determining its value.\n",
    "The number of bedrooms and bathrooms are a highly valued factor in determining the price. The prices get higher as the number of\n",
    "bathrooms and bedrooms increases.  \n",
    "\n",
    "- __Condition, design, and quality of construction__ <br> Condition values are relative to the age of the house and the grade \n",
    "(based on King County grading system), which refers to the design and quality of the construction. Houses in good condition, do\n",
    "not need expensive repairs after a sale. From this point of view, newer homes appraise a higher value. A good overall design \n",
    "and high quality of the construction could significantly increase the home’s price."
   ]
  },
  {
   "cell_type": "code",
   "execution_count": null,
   "metadata": {},
   "outputs": [],
   "source": []
  }
 ],
 "metadata": {
  "kernelspec": {
   "display_name": "Python 3 (ipykernel)",
   "language": "python",
   "name": "python3"
  },
  "language_info": {
   "codemirror_mode": {
    "name": "ipython",
    "version": 3
   },
   "file_extension": ".py",
   "mimetype": "text/x-python",
   "name": "python",
   "nbconvert_exporter": "python",
   "pygments_lexer": "ipython3",
   "version": "3.9.12"
  }
 },
 "nbformat": 4,
 "nbformat_minor": 1
}
